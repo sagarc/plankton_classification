{
 "metadata": {
  "name": "",
  "signature": "sha256:e9fb80a07e82772f377fe7e29f7a541df8d20143549089ea274aaa9a6e4ab6c2"
 },
 "nbformat": 3,
 "nbformat_minor": 0,
 "worksheets": [
  {
   "cells": [
    {
     "cell_type": "markdown",
     "metadata": {},
     "source": [
      "# Plankton Dataset\n",
      "In Part 1) we will train best CNN  for plankton dataset.\n",
      "In Part 2) we will use featues from our CNN combined with features got from running the alexnet, bvlcc net on images and train linear classifier on top of it.\n"
     ]
    },
    {
     "cell_type": "code",
     "collapsed": false,
     "input": [
      "# A bit of setup\n",
      "\n",
      "import numpy as np\n",
      "import matplotlib.pyplot as plt\n",
      "from time import time\n",
      "\n",
      "%matplotlib inline\n",
      "plt.rcParams['figure.figsize'] = (20.0, 20.0) # set default size of plots\n",
      "plt.rcParams['image.interpolation'] = 'nearest'\n",
      "plt.rcParams['image.cmap'] = 'gray'\n",
      "\n",
      "# for auto-reloading extenrnal modules\n",
      "# see http://stackoverflow.com/questions/1907993/autoreload-of-modules-in-ipython\n",
      "%load_ext autoreload\n",
      "%autoreload 2"
     ],
     "language": "python",
     "metadata": {},
     "outputs": [],
     "prompt_number": 2
    },
    {
     "cell_type": "markdown",
     "metadata": {},
     "source": [
      "# Load data and model\n",
      "The images in plankton are of different sizes and hence every image is resized to 48 * 48 using 'convert utility in imagemagick'\n",
      "Since test datasets doesn't have labels provided, training datasets are split into three categories of train, valid1, and valid2 datasets\n"
     ]
    },
    {
     "cell_type": "code",
     "collapsed": false,
     "input": [
      "# Load the plankton dataset\n",
      "from cs231n.data_utils import load_plankton_dataset, load_models\n",
      "\n",
      "plankton_dataset = '../plankton'\n",
      "image_size = 48 #number of pixels (Image was resized to this)\n",
      "num_classes = 121\n",
      "        \n",
      "class_names, X_train, y_train, X_test, img_files, image_mapping = load_plankton_dataset(plankton_dataset)\n",
      "\n",
      "# Zero-mean the data\n",
      "print X_train.shape\n",
      "print y_train.shape\n",
      "print X_test.shape\n",
      "mean_img = np.mean(X_train, axis=0)\n",
      "X_train -= mean_img\n",
      "X_test -= mean_img\n",
      "\n",
      "\n",
      "\n"
     ],
     "language": "python",
     "metadata": {},
     "outputs": [
      {
       "output_type": "stream",
       "stream": "stdout",
       "text": [
        "loading training data for synset 20 / 121\n",
        "loading training data for synset 40 / 121"
       ]
      },
      {
       "output_type": "stream",
       "stream": "stdout",
       "text": [
        "\n",
        "loading training data for synset 60 / 121"
       ]
      },
      {
       "output_type": "stream",
       "stream": "stdout",
       "text": [
        "\n",
        "loading training data for synset 80 / 121"
       ]
      },
      {
       "output_type": "stream",
       "stream": "stdout",
       "text": [
        "\n",
        "loading training data for synset 100 / 121"
       ]
      },
      {
       "output_type": "stream",
       "stream": "stdout",
       "text": [
        "\n",
        "loading training data for synset 120 / 121"
       ]
      },
      {
       "output_type": "stream",
       "stream": "stdout",
       "text": [
        "\n",
        "[  0   0   0 ..., 120 120 120]"
       ]
      },
      {
       "output_type": "stream",
       "stream": "stdout",
       "text": [
        "\n",
        "(30336, 3, 48, 48)"
       ]
      },
      {
       "output_type": "stream",
       "stream": "stdout",
       "text": [
        "\n",
        "(30336,)\n",
        "(130400, 3, 48, 48)\n"
       ]
      }
     ],
     "prompt_number": 110
    },
    {
     "cell_type": "code",
     "collapsed": false,
     "input": [
      "# Split data into training and validation and test dataset\n",
      "# Shuffle the input and outputs\n",
      "image_index = np.array(image_mapping.keys())\n",
      "image_index = image_index.reshape([image_index.shape[0],1])\n",
      "print image_index.shape\n",
      "num_examples = X_train.shape[0]\n",
      "print num_examples\n",
      "y_train = y_train.reshape([y_train.shape[0],1])\n",
      "print y_train.shape\n",
      "X_train_joined = X_train.reshape(num_examples, -1)\n",
      "X_train_joined = np.hstack([X_train_joined, y_train, image_index])\n",
      "print X_train_joined.shape\n",
      "print X_train_joined[:,-1]\n",
      "# Its important to shuffle the data to mix the images from different classes.\n",
      "np.random.shuffle(X_train_joined)\n",
      "print X_train_joined[:,-1]\n",
      "\n",
      "X_train = X_train_joined[:,0:-2].reshape(num_examples, 3, image_size, image_size)\n",
      "print X_train.shape\n",
      "y_train = X_train_joined[:, -2]\n",
      "image_index = X_train_joined[:,-1]\n",
      "print y_train.shape\n",
      "print image_index.shape\n",
      "\n",
      "\n",
      "num_valid1=1000\n",
      "num_valid2=1000\n",
      "num_training=X_train.shape[0] - num_valid1 - num_valid2\n",
      "\n",
      "# Subsample the data\n",
      "mask = range(num_training, num_training + num_valid1)\n",
      "X_val1 = X_train[mask]\n",
      "y_val1 = y_train[mask]\n",
      "image_index_val1 = image_index[mask]\n",
      "mask = range(num_training + num_valid1, num_training + num_valid1 + num_valid2)\n",
      "X_val2 = X_train[mask]\n",
      "y_val2 = y_train[mask]\n",
      "image_index_val2 = image_index[mask]\n",
      "mask = range(num_training)\n",
      "X_train = X_train[mask]\n",
      "y_train = y_train[mask]\n",
      "image_index_train = image_index[mask]\n",
      "print X_train.shape\n",
      "print y_train.shape\n",
      "print X_val1.shape\n",
      "print y_val1.shape\n",
      "print X_val2.shape\n",
      "print y_val2.shape\n",
      "\n"
     ],
     "language": "python",
     "metadata": {},
     "outputs": [
      {
       "output_type": "stream",
       "stream": "stdout",
       "text": [
        "(30336, 1)\n",
        "30336\n",
        "(30336, 1)\n",
        "(30336, 6914)"
       ]
      },
      {
       "output_type": "stream",
       "stream": "stdout",
       "text": [
        "\n",
        "[  0.00000000e+00   1.00000000e+00   2.00000000e+00 ...,   3.03330000e+04\n",
        "   3.03340000e+04   3.03350000e+04]\n",
        "[ 14136.  17327.   3685. ...,  19909.  15042.  25390.]"
       ]
      },
      {
       "output_type": "stream",
       "stream": "stdout",
       "text": [
        "\n",
        "(30336, 3, 48, 48)"
       ]
      },
      {
       "output_type": "stream",
       "stream": "stdout",
       "text": [
        "\n",
        "(30336,)\n",
        "(30336,)\n",
        "(28336, 3, 48, 48)"
       ]
      },
      {
       "output_type": "stream",
       "stream": "stdout",
       "text": [
        "\n",
        "(28336,)\n",
        "(1000, 3, 48, 48)\n",
        "(1000,)\n",
        "(1000, 3, 48, 48)\n",
        "(1000,)\n"
       ]
      }
     ],
     "prompt_number": 111
    },
    {
     "cell_type": "code",
     "collapsed": false,
     "input": [
      "print image_index"
     ],
     "language": "python",
     "metadata": {},
     "outputs": [
      {
       "output_type": "stream",
       "stream": "stdout",
       "text": [
        "[ 14150.  21567.  25549. ...,  17976.  23030.  13918.]\n"
       ]
      }
     ],
     "prompt_number": 109
    },
    {
     "cell_type": "code",
     "collapsed": false,
     "input": [
      "# Print class names from plankton dataset\n",
      "for names in class_names:\n",
      "    print names\n",
      "   "
     ],
     "language": "python",
     "metadata": {},
     "outputs": [
      {
       "output_type": "stream",
       "stream": "stdout",
       "text": [
        "acantharia_protist\n",
        "acantharia_protist_big_center\n",
        "acantharia_protist_halo\n",
        "amphipods\n",
        "appendicularian_fritillaridae\n",
        "appendicularian_s_shape\n",
        "appendicularian_slight_curve\n",
        "appendicularian_straight\n",
        "artifacts\n",
        "artifacts_edge\n",
        "chaetognath_non_sagitta\n",
        "chaetognath_other\n",
        "chaetognath_sagitta\n",
        "chordate_type1\n",
        "copepod_calanoid\n",
        "copepod_calanoid_eggs\n",
        "copepod_calanoid_eucalanus\n",
        "copepod_calanoid_flatheads\n",
        "copepod_calanoid_frillyAntennae\n",
        "copepod_calanoid_large\n",
        "copepod_calanoid_large_side_antennatucked\n",
        "copepod_calanoid_octomoms\n",
        "copepod_calanoid_small_longantennae\n",
        "copepod_cyclopoid_copilia\n",
        "copepod_cyclopoid_oithona\n",
        "copepod_cyclopoid_oithona_eggs\n",
        "copepod_other\n",
        "crustacean_other\n",
        "ctenophore_cestid\n",
        "ctenophore_cydippid_no_tentacles\n",
        "ctenophore_cydippid_tentacles\n",
        "ctenophore_lobate\n",
        "decapods\n",
        "detritus_blob\n",
        "detritus_filamentous\n",
        "detritus_other\n",
        "diatom_chain_string\n",
        "diatom_chain_tube\n",
        "echinoderm_larva_pluteus_brittlestar\n",
        "echinoderm_larva_pluteus_early\n",
        "echinoderm_larva_pluteus_typeC\n",
        "echinoderm_larva_pluteus_urchin\n",
        "echinoderm_larva_seastar_bipinnaria\n",
        "echinoderm_larva_seastar_brachiolaria\n",
        "echinoderm_seacucumber_auricularia_larva\n",
        "echinopluteus\n",
        "ephyra\n",
        "euphausiids\n",
        "euphausiids_young\n",
        "fecal_pellet\n",
        "fish_larvae_deep_body\n",
        "fish_larvae_leptocephali\n",
        "fish_larvae_medium_body\n",
        "fish_larvae_myctophids\n",
        "fish_larvae_thin_body\n",
        "fish_larvae_very_thin_body\n",
        "heteropod\n",
        "hydromedusae_aglaura\n",
        "hydromedusae_bell_and_tentacles\n",
        "hydromedusae_h15\n",
        "hydromedusae_haliscera\n",
        "hydromedusae_haliscera_small_sideview\n",
        "hydromedusae_liriope\n",
        "hydromedusae_narco_dark\n",
        "hydromedusae_narco_young\n",
        "hydromedusae_narcomedusae\n",
        "hydromedusae_other\n",
        "hydromedusae_partial_dark\n",
        "hydromedusae_shapeA\n",
        "hydromedusae_shapeA_sideview_small\n",
        "hydromedusae_shapeB\n",
        "hydromedusae_sideview_big\n",
        "hydromedusae_solmaris\n",
        "hydromedusae_solmundella\n",
        "hydromedusae_typeD\n",
        "hydromedusae_typeD_bell_and_tentacles\n",
        "hydromedusae_typeE\n",
        "hydromedusae_typeF\n",
        "invertebrate_larvae_other_A\n",
        "invertebrate_larvae_other_B\n",
        "jellies_tentacles\n",
        "polychaete\n",
        "protist_dark_center\n",
        "protist_fuzzy_olive\n",
        "protist_noctiluca\n",
        "protist_other\n",
        "protist_star\n",
        "pteropod_butterfly\n",
        "pteropod_theco_dev_seq\n",
        "pteropod_triangle\n",
        "radiolarian_chain\n",
        "radiolarian_colony\n",
        "shrimp-like_other\n",
        "shrimp_caridean\n",
        "shrimp_sergestidae\n",
        "shrimp_zoea\n",
        "siphonophore_calycophoran_abylidae\n",
        "siphonophore_calycophoran_rocketship_adult\n",
        "siphonophore_calycophoran_rocketship_young\n",
        "siphonophore_calycophoran_sphaeronectes\n",
        "siphonophore_calycophoran_sphaeronectes_stem\n",
        "siphonophore_calycophoran_sphaeronectes_young\n",
        "siphonophore_other_parts\n",
        "siphonophore_partial\n",
        "siphonophore_physonect\n",
        "siphonophore_physonect_young\n",
        "stomatopod\n",
        "tornaria_acorn_worm_larvae\n",
        "trichodesmium_bowtie\n",
        "trichodesmium_multiple\n",
        "trichodesmium_puff\n",
        "trichodesmium_tuft\n",
        "trochophore_larvae\n",
        "tunicate_doliolid\n",
        "tunicate_doliolid_nurse\n",
        "tunicate_partial\n",
        "tunicate_salp\n",
        "tunicate_salp_chains\n",
        "unknown_blobs_and_smudges\n",
        "unknown_sticks\n",
        "unknown_unclassified\n"
       ]
      }
     ],
     "prompt_number": 5
    },
    {
     "cell_type": "markdown",
     "metadata": {},
     "source": [
      "# Visualize Examples\n"
     ]
    },
    {
     "cell_type": "code",
     "collapsed": false,
     "input": [
      "# Visualize some examples of the training data\n",
      "classes_to_show = 7\n",
      "examples_per_class = 5\n",
      "\n",
      "class_idxs = np.random.choice(len(class_names), size=classes_to_show, replace=False)\n",
      "for i, class_idx in enumerate(class_idxs):\n",
      "    train_idxs, = np.nonzero(y_train == class_idx)\n",
      "    train_idxs = np.random.choice(train_idxs, size=examples_per_class, replace=False)\n",
      "    for j, train_idx in enumerate(train_idxs):\n",
      "        img = X_train[train_idx] + mean_img\n",
      "        img = img.transpose(1, 2, 0).astype('uint8')\n",
      "        plt.subplot(examples_per_class, classes_to_show, 1 + i + classes_to_show * j)\n",
      "        if j == 0:\n",
      "            plt.title(class_names[class_idx])\n",
      "        plt.imshow(img)\n",
      "        plt.gca().axis('off')\n",
      "\n",
      "plt.show()"
     ],
     "language": "python",
     "metadata": {},
     "outputs": [
      {
       "metadata": {},
       "output_type": "display_data",
       "png": "[encoded data removed]",
       "text": [
        "<matplotlib.figure.Figure at 0x120b63f10>"
       ]
      }
     ],
     "prompt_number": 6
    },
    {
     "cell_type": "markdown",
     "metadata": {},
     "source": [
      "Training!\n",
      "\n",
      "Train your own convnet here! Use layers available in assignment 2:\n",
      "Split the training data into train,validation,test"
     ]
    },
    {
     "cell_type": "code",
     "collapsed": false,
     "input": [
      "from cs231n.classifier_trainer import ClassifierTrainer\n",
      "from cs231n.gradient_check import eval_numerical_gradient\n",
      "from cs231n.classifiers.convnet import *\n",
      "\n",
      "\"\"\"\n",
      "model2 = init_two_layer_convnet(input_shape=(3,48,48), num_classes = 121)\n",
      "trainer = ClassifierTrainer()\n",
      "best_model2, loss_history2, train_acc_history2, val_acc_history2, val_loss2 = trainer.train(\n",
      "          X_train[:28300], y_train[:28300], X_val1, y_val1, model2, two_layer_convnet,\n",
      "          reg=0.001, momentum=0.9, learning_rate=0.00005, batch_size=100, num_epochs=5, dropout = 0.5,\n",
      "          verbose=True)\n",
      "\n",
      "\n",
      "#parameter values for three_layer_convnet\n",
      "model3 = init_three_layer_convnet(input_shape=(3,48,48), num_classes = 121)\n",
      "trainer = ClassifierTrainer()\n",
      "best_model3, loss_history3, train_acc_history3, val_acc_history3, val_loss3 = trainer.train(\n",
      "          X_train[:28300], y_train[:28300], X_val1, y_val1, model, three_layer_convnet,\n",
      "          reg=0.001, momentum=0.9, learning_rate=0.0005, batch_size=100, num_epochs=5, dropout = 0.5,\n",
      "          verbose=True)\n",
      "\n",
      "\n",
      "model5 = init_five_layer_convnet(input_shape=(3,48,48), num_classes = 121)\n",
      "trainer = ClassifierTrainer()\n",
      "best_model5, loss_history5, train_acc_history5, val_acc_history5, val_loss5 = trainer.train(\n",
      "          X_train[:28300], y_train[:28300], X_val1, y_val1, model, five_layer_convnet,\n",
      "          reg=0.001, momentum=0.9, learning_rate=0.005, batch_size=100, num_epochs=9, dropout = 0.5,\n",
      "          verbose=True)\n",
      "\"\"\"\n",
      "          \n",
      "  \n",
      "model7 = init_seven_layer_convnet(input_shape=(3,48,48), num_classes = 121)\n",
      "trainer = ClassifierTrainer()\n",
      "best_model7, loss_history7, train_acc_history7, val_acc_history7, val_loss7 = trainer.train(\n",
      "          X_train[:28300], y_train[:28300], X_val1, y_val1, model7, seven_layer_convnet,\n",
      "          reg=0.001, momentum=0.9, learning_rate=0.005, batch_size=100, num_epochs=3, dropout = 0.5,\n",
      "          verbose=True)\n",
      "\n",
      "\n",
      "\n"
     ],
     "language": "python",
     "metadata": {},
     "outputs": [
      {
       "output_type": "stream",
       "stream": "stdout",
       "text": [
        "starting iteration  0\n",
        "Finished epoch 0 / 3: cost 4.796048, train: 0.016000, val 0.019000, lr 5.000000e-03, val_loss 4.796177e+00"
       ]
      },
      {
       "output_type": "stream",
       "stream": "stdout",
       "text": [
        "\n",
        "starting iteration "
       ]
      },
      {
       "output_type": "stream",
       "stream": "stdout",
       "text": [
        " 100\n",
        "starting iteration "
       ]
      },
      {
       "output_type": "stream",
       "stream": "stdout",
       "text": [
        " 200\n",
        "Finished epoch 1 / 3: cost 2.985203, train: 0.307000, val 0.305000, lr 4.750000e-03, val_loss 2.830036e+00"
       ]
      },
      {
       "output_type": "stream",
       "stream": "stdout",
       "text": [
        "\n",
        "starting iteration "
       ]
      },
      {
       "output_type": "stream",
       "stream": "stdout",
       "text": [
        " 300\n",
        "starting iteration "
       ]
      },
      {
       "output_type": "stream",
       "stream": "stdout",
       "text": [
        " 400\n",
        "starting iteration "
       ]
      },
      {
       "output_type": "stream",
       "stream": "stdout",
       "text": [
        " 500\n",
        "Finished epoch 2 / 3: cost 2.059350, train: 0.419000, val 0.418000, lr 4.512500e-03, val_loss 2.275319e+00"
       ]
      },
      {
       "output_type": "stream",
       "stream": "stdout",
       "text": [
        "\n",
        "starting iteration "
       ]
      },
      {
       "output_type": "stream",
       "stream": "stdout",
       "text": [
        " 600\n",
        "starting iteration "
       ]
      },
      {
       "output_type": "stream",
       "stream": "stdout",
       "text": [
        " 700\n",
        "starting iteration "
       ]
      },
      {
       "output_type": "stream",
       "stream": "stdout",
       "text": [
        " 800\n",
        "Finished epoch 3 / 3: cost 1.876303, train: 0.481000, val 0.473000, lr 4.286875e-03, val_loss 2.028158e+00"
       ]
      },
      {
       "output_type": "stream",
       "stream": "stdout",
       "text": [
        "\n",
        "finished optimization. best validation accuracy: 0.473000\n"
       ]
      },
      {
       "metadata": {},
       "output_type": "pyout",
       "prompt_number": 163,
       "text": [
        "\"np.save('/Users/sagarc/Documents/cs231n/project/assignment/models/model2_parameters', {'best_model':best_model,'loss_history': loss_history, \\n                                                                                       'train_acc_history' : train_acc_history,\\n                                                                                       'val_acc_history' : val_acc_history})\\n\""
       ]
      }
     ],
     "prompt_number": 163
    },
    {
     "cell_type": "code",
     "collapsed": false,
     "input": [
      "#do more iterations on best model\n",
      "\n",
      "\"\"\"best_model_2, loss_history, train_acc_history, val_acc_history = trainer.train(\n",
      "          X_train[:28300], y_train[:28300], X_val1, y_val1, best_model_1, five_layer_convnet,\n",
      "          reg=0.001, momentum=0.9, learning_rate=0.001, batch_size=100, num_epochs=3, dropout = 0.8,\n",
      "          verbose=True)\"\"\"\n",
      "\n",
      "#model5 = init_five_layer_convnet(input_shape=(3,48,48), num_classes = 121)\n",
      "#trainer = ClassifierTrainer()\n",
      "best_model7, loss_history7, train_acc_history7, val_acc_history7, val_loss7 = trainer.train(\n",
      "          X_train[:28300], y_train[:28300], X_val1, y_val1, best_model7, seven_layer_convnet,\n",
      "          reg=0.001, momentum=0.9, learning_rate=0.005, batch_size=100, num_epochs=3, dropout = 0.5,\n",
      "          verbose=True)\n",
      "\n"
     ],
     "language": "python",
     "metadata": {},
     "outputs": [
      {
       "output_type": "stream",
       "stream": "stdout",
       "text": [
        "starting iteration  0\n",
        "Finished epoch 0 / 3: cost 1.081565, train: 0.696000, val 0.608000, lr 5.000000e-03, val_loss 1.199390e+00"
       ]
      },
      {
       "output_type": "stream",
       "stream": "stdout",
       "text": [
        "\n",
        "starting iteration "
       ]
      },
      {
       "output_type": "stream",
       "stream": "stdout",
       "text": [
        " 100\n",
        "starting iteration "
       ]
      },
      {
       "output_type": "stream",
       "stream": "stdout",
       "text": [
        " 200\n",
        "Finished epoch 1 / 3: cost 0.633090, train: 0.691000, val 0.621000, lr 4.750000e-03, val_loss 1.248201e+00"
       ]
      },
      {
       "output_type": "stream",
       "stream": "stdout",
       "text": [
        "\n",
        "starting iteration "
       ]
      },
      {
       "output_type": "stream",
       "stream": "stdout",
       "text": [
        " 300\n",
        "starting iteration "
       ]
      },
      {
       "output_type": "stream",
       "stream": "stdout",
       "text": [
        " 400\n",
        "starting iteration "
       ]
      },
      {
       "output_type": "stream",
       "stream": "stdout",
       "text": [
        " 500\n",
        "Finished epoch 2 / 3: cost 0.624217, train: 0.701000, val 0.620000, lr 4.512500e-03, val_loss 1.201215e+00"
       ]
      },
      {
       "output_type": "stream",
       "stream": "stdout",
       "text": [
        "\n",
        "starting iteration "
       ]
      },
      {
       "output_type": "stream",
       "stream": "stdout",
       "text": [
        " 600\n",
        "starting iteration "
       ]
      },
      {
       "output_type": "stream",
       "stream": "stdout",
       "text": [
        " 700\n",
        "starting iteration "
       ]
      },
      {
       "output_type": "stream",
       "stream": "stdout",
       "text": [
        " 800\n",
        "Finished epoch 3 / 3: cost 0.645845, train: 0.730000, val 0.615000, lr 4.286875e-03, val_loss 1.145064e+00"
       ]
      },
      {
       "output_type": "stream",
       "stream": "stdout",
       "text": [
        "\n",
        "finished optimization. best validation accuracy: 0.621000\n"
       ]
      }
     ],
     "prompt_number": 167
    },
    {
     "cell_type": "code",
     "collapsed": false,
     "input": [
      "\"\"\"np.save('/Users/sagarc/Documents/cs231n/project/assignment/models/7layer_model_parameters', \n",
      "        {'best_model':best_model7,'loss_history': loss_history7, \n",
      "         'train_acc_history' : train_acc_history7,'val_acc_history' : val_acc_history7})\n",
      "\"\"\"\n",
      "#Store various best models\n",
      "#best_two_layer_model = best_model\n",
      "#1.73236844909\n",
      "#1.46958901064\n",
      "from cs231n.classifier_trainer import ClassifierTrainer\n",
      "from cs231n.gradient_check import eval_numerical_gradient\n",
      "from cs231n.classifiers.convnet import *\n",
      "#best_five_layer_model = np.load('/Users/sagarc/Documents/cs231n/project/assignment/models/model1.npy')\n",
      "#print best_five_layer_model.dtype\n",
      "#print type(best_five_layer_model)\n",
      "#print best_five_layer_model\n",
      "#Get the softmax loss on valid_set.\n",
      "loss = three_layer_convnet(X_val1, best_model3, y_val1, return_loss=True)\n",
      "print loss\n",
      "loss = three_layer_convnet(X_val2, best_model3, y_val2, return_loss=True)\n",
      "print loss\n"
     ],
     "language": "python",
     "metadata": {},
     "outputs": [
      {
       "output_type": "stream",
       "stream": "stdout",
       "text": [
        "1.68615692229\n",
        "1.6754791074"
       ]
      },
      {
       "output_type": "stream",
       "stream": "stdout",
       "text": [
        "\n"
       ]
      }
     ],
     "prompt_number": 193
    },
    {
     "cell_type": "heading",
     "level": 2,
     "metadata": {},
     "source": [
      "Run the model above to get probabilities for each class on test dataset.\n",
      "Run it in batches to avoid crash of ipython\n"
     ]
    },
    {
     "cell_type": "code",
     "collapsed": false,
     "input": [
      "f = open('test_probs6.csv', 'w')\n",
      "class_labels = \",\".join(class_names)\n",
      "class_labels = \"image,\" + class_labels\n",
      "f.write(class_labels + \"\\n\")\n",
      "\n",
      "chunk_size = 2000\n",
      "num_test_samples = X_test.shape[0]\n",
      "for index_start in np.arange(0, num_test_samples, chunk_size):\n",
      "    scores = five_layer_convnet(X_test[index_start : min(index_start + chunk_size, num_test_samples)], best_model)\n",
      "    exp_scores = np.exp(scores)\n",
      "    sum_scores = np.sum(exp_scores, axis=1)\n",
      "    probs = (exp_scores.T / sum_scores).T\n",
      "    #predicted_classes = np.argmax(probs, axis=1)\n",
      "    #max_probs = np.max(probs, axis = 1)\n",
      "    #print np.mean(predicted_classes == y_val2)\n",
      "    for i in xrange(probs.shape[0]):\n",
      "        prob_string = [\"%.8f\" % number for number in probs[i]]\n",
      "        f.write(img_files[index_start + i] + \",\" + \",\".join(prob_string) + \"\\n\")\n",
      "    print \"Processed test images from {} to {}\".format(index_start,  min(index_start + chunk_size, num_test_samples))\n",
      "f.close()\n"
     ],
     "language": "python",
     "metadata": {},
     "outputs": [
      {
       "output_type": "stream",
       "stream": "stdout",
       "text": [
        "Processed test images from 0 to 2000\n",
        "Processed test images from 2000 to 4000"
       ]
      },
      {
       "output_type": "stream",
       "stream": "stdout",
       "text": [
        "\n",
        "Processed test images from 4000 to 6000"
       ]
      },
      {
       "output_type": "stream",
       "stream": "stdout",
       "text": [
        "\n",
        "Processed test images from 6000 to 8000"
       ]
      },
      {
       "output_type": "stream",
       "stream": "stdout",
       "text": [
        "\n",
        "Processed test images from 8000 to 10000"
       ]
      },
      {
       "output_type": "stream",
       "stream": "stdout",
       "text": [
        "\n",
        "Processed test images from 10000 to 12000"
       ]
      },
      {
       "output_type": "stream",
       "stream": "stdout",
       "text": [
        "\n",
        "Processed test images from 12000 to 14000"
       ]
      },
      {
       "output_type": "stream",
       "stream": "stdout",
       "text": [
        "\n",
        "Processed test images from 14000 to 16000"
       ]
      },
      {
       "output_type": "stream",
       "stream": "stdout",
       "text": [
        "\n",
        "Processed test images from 16000 to 18000"
       ]
      },
      {
       "output_type": "stream",
       "stream": "stdout",
       "text": [
        "\n",
        "Processed test images from 18000 to 20000"
       ]
      },
      {
       "output_type": "stream",
       "stream": "stdout",
       "text": [
        "\n",
        "Processed test images from 20000 to 22000"
       ]
      },
      {
       "output_type": "stream",
       "stream": "stdout",
       "text": [
        "\n",
        "Processed test images from 22000 to 24000"
       ]
      },
      {
       "output_type": "stream",
       "stream": "stdout",
       "text": [
        "\n",
        "Processed test images from 24000 to 26000"
       ]
      },
      {
       "output_type": "stream",
       "stream": "stdout",
       "text": [
        "\n",
        "Processed test images from 26000 to 28000"
       ]
      },
      {
       "output_type": "stream",
       "stream": "stdout",
       "text": [
        "\n",
        "Processed test images from 28000 to 30000"
       ]
      },
      {
       "output_type": "stream",
       "stream": "stdout",
       "text": [
        "\n",
        "Processed test images from 30000 to 32000"
       ]
      },
      {
       "output_type": "stream",
       "stream": "stdout",
       "text": [
        "\n",
        "Processed test images from 32000 to 34000"
       ]
      },
      {
       "output_type": "stream",
       "stream": "stdout",
       "text": [
        "\n",
        "Processed test images from 34000 to 36000"
       ]
      },
      {
       "output_type": "stream",
       "stream": "stdout",
       "text": [
        "\n",
        "Processed test images from 36000 to 38000"
       ]
      },
      {
       "output_type": "stream",
       "stream": "stdout",
       "text": [
        "\n",
        "Processed test images from 38000 to 40000"
       ]
      },
      {
       "output_type": "stream",
       "stream": "stdout",
       "text": [
        "\n",
        "Processed test images from 40000 to 42000"
       ]
      },
      {
       "output_type": "stream",
       "stream": "stdout",
       "text": [
        "\n",
        "Processed test images from 42000 to 44000"
       ]
      },
      {
       "output_type": "stream",
       "stream": "stdout",
       "text": [
        "\n",
        "Processed test images from 44000 to 46000"
       ]
      },
      {
       "output_type": "stream",
       "stream": "stdout",
       "text": [
        "\n",
        "Processed test images from 46000 to 48000"
       ]
      },
      {
       "output_type": "stream",
       "stream": "stdout",
       "text": [
        "\n",
        "Processed test images from 48000 to 50000"
       ]
      },
      {
       "output_type": "stream",
       "stream": "stdout",
       "text": [
        "\n",
        "Processed test images from 50000 to 52000"
       ]
      },
      {
       "output_type": "stream",
       "stream": "stdout",
       "text": [
        "\n",
        "Processed test images from 52000 to 54000"
       ]
      },
      {
       "output_type": "stream",
       "stream": "stdout",
       "text": [
        "\n",
        "Processed test images from 54000 to 56000"
       ]
      },
      {
       "output_type": "stream",
       "stream": "stdout",
       "text": [
        "\n",
        "Processed test images from 56000 to 58000"
       ]
      },
      {
       "output_type": "stream",
       "stream": "stdout",
       "text": [
        "\n",
        "Processed test images from 58000 to 60000"
       ]
      },
      {
       "output_type": "stream",
       "stream": "stdout",
       "text": [
        "\n",
        "Processed test images from 60000 to 62000"
       ]
      },
      {
       "output_type": "stream",
       "stream": "stdout",
       "text": [
        "\n",
        "Processed test images from 62000 to 64000"
       ]
      },
      {
       "output_type": "stream",
       "stream": "stdout",
       "text": [
        "\n",
        "Processed test images from 64000 to 66000"
       ]
      },
      {
       "output_type": "stream",
       "stream": "stdout",
       "text": [
        "\n",
        "Processed test images from 66000 to 68000"
       ]
      },
      {
       "output_type": "stream",
       "stream": "stdout",
       "text": [
        "\n",
        "Processed test images from 68000 to 70000"
       ]
      },
      {
       "output_type": "stream",
       "stream": "stdout",
       "text": [
        "\n",
        "Processed test images from 70000 to 72000"
       ]
      },
      {
       "output_type": "stream",
       "stream": "stdout",
       "text": [
        "\n",
        "Processed test images from 72000 to 74000"
       ]
      },
      {
       "output_type": "stream",
       "stream": "stdout",
       "text": [
        "\n",
        "Processed test images from 74000 to 76000"
       ]
      },
      {
       "output_type": "stream",
       "stream": "stdout",
       "text": [
        "\n",
        "Processed test images from 76000 to 78000"
       ]
      },
      {
       "output_type": "stream",
       "stream": "stdout",
       "text": [
        "\n",
        "Processed test images from 78000 to 80000"
       ]
      },
      {
       "output_type": "stream",
       "stream": "stdout",
       "text": [
        "\n",
        "Processed test images from 80000 to 82000"
       ]
      },
      {
       "output_type": "stream",
       "stream": "stdout",
       "text": [
        "\n",
        "Processed test images from 82000 to 84000"
       ]
      },
      {
       "output_type": "stream",
       "stream": "stdout",
       "text": [
        "\n",
        "Processed test images from 84000 to 86000"
       ]
      },
      {
       "output_type": "stream",
       "stream": "stdout",
       "text": [
        "\n",
        "Processed test images from 86000 to 88000"
       ]
      },
      {
       "output_type": "stream",
       "stream": "stdout",
       "text": [
        "\n",
        "Processed test images from 88000 to 90000"
       ]
      },
      {
       "output_type": "stream",
       "stream": "stdout",
       "text": [
        "\n",
        "Processed test images from 90000 to 92000"
       ]
      },
      {
       "output_type": "stream",
       "stream": "stdout",
       "text": [
        "\n",
        "Processed test images from 92000 to 94000"
       ]
      },
      {
       "output_type": "stream",
       "stream": "stdout",
       "text": [
        "\n",
        "Processed test images from 94000 to 96000"
       ]
      },
      {
       "output_type": "stream",
       "stream": "stdout",
       "text": [
        "\n",
        "Processed test images from 96000 to 98000"
       ]
      },
      {
       "output_type": "stream",
       "stream": "stdout",
       "text": [
        "\n",
        "Processed test images from 98000 to 100000"
       ]
      },
      {
       "output_type": "stream",
       "stream": "stdout",
       "text": [
        "\n",
        "Processed test images from 100000 to 102000"
       ]
      },
      {
       "output_type": "stream",
       "stream": "stdout",
       "text": [
        "\n",
        "Processed test images from 102000 to 104000"
       ]
      },
      {
       "output_type": "stream",
       "stream": "stdout",
       "text": [
        "\n",
        "Processed test images from 104000 to 106000"
       ]
      },
      {
       "output_type": "stream",
       "stream": "stdout",
       "text": [
        "\n",
        "Processed test images from 106000 to 108000"
       ]
      },
      {
       "output_type": "stream",
       "stream": "stdout",
       "text": [
        "\n",
        "Processed test images from 108000 to 110000"
       ]
      },
      {
       "output_type": "stream",
       "stream": "stdout",
       "text": [
        "\n",
        "Processed test images from 110000 to 112000"
       ]
      },
      {
       "output_type": "stream",
       "stream": "stdout",
       "text": [
        "\n",
        "Processed test images from 112000 to 114000"
       ]
      },
      {
       "output_type": "stream",
       "stream": "stdout",
       "text": [
        "\n",
        "Processed test images from 114000 to 116000"
       ]
      },
      {
       "output_type": "stream",
       "stream": "stdout",
       "text": [
        "\n",
        "Processed test images from 116000 to 118000"
       ]
      },
      {
       "output_type": "stream",
       "stream": "stdout",
       "text": [
        "\n",
        "Processed test images from 118000 to 120000"
       ]
      },
      {
       "output_type": "stream",
       "stream": "stdout",
       "text": [
        "\n",
        "Processed test images from 120000 to 122000"
       ]
      },
      {
       "output_type": "stream",
       "stream": "stdout",
       "text": [
        "\n",
        "Processed test images from 122000 to 124000"
       ]
      },
      {
       "output_type": "stream",
       "stream": "stdout",
       "text": [
        "\n",
        "Processed test images from 124000 to 126000"
       ]
      },
      {
       "output_type": "stream",
       "stream": "stdout",
       "text": [
        "\n",
        "Processed test images from 126000 to 128000"
       ]
      },
      {
       "output_type": "stream",
       "stream": "stdout",
       "text": [
        "\n",
        "Processed test images from 128000 to 130000"
       ]
      },
      {
       "output_type": "stream",
       "stream": "stdout",
       "text": [
        "\n",
        "Processed test images from 130000 to 130400"
       ]
      },
      {
       "output_type": "stream",
       "stream": "stdout",
       "text": [
        "\n"
       ]
      }
     ],
     "prompt_number": 26
    },
    {
     "cell_type": "markdown",
     "metadata": {},
     "source": [
      "# Extract features\n",
      "ConvNets tend to learn generalizable high-level image features.\n",
      "Use features got from previous model and combine features fetched from alexnet or bvlcc_reference model and train the SVM on top of it.\n"
     ]
    },
    {
     "cell_type": "code",
     "collapsed": false,
     "input": [
      "# Extract features on training and validation set for 3 or 5-layer convnet // Replace everything by 3 or 5\n",
      "\n",
      "from cs231n.classifiers.convnet import five_layer_convnet\n",
      "\n",
      "X_train_feats3 = None\n",
      "chunk_size = 500\n",
      "\n",
      "result = None\n",
      "for index_start in np.arange(0, X_train.shape[0], chunk_size):\n",
      "    current_result = three_layer_convnet(X_train[index_start:min(index_start + chunk_size, X_train.shape[0])], best_model3, \n",
      "                                                                extract_features=True)\n",
      "    if result is None:\n",
      "        result = current_result\n",
      "    else:\n",
      "        result = np.vstack((result, current_result))\n",
      "    print \"Extracted features for {} images starting from {}\".format(chunk_size, index_start)\n",
      "X_train_feats3 = result\n",
      "\n",
      "X_val1_feats3 = three_layer_convnet(X_val1, best_model3, extract_features=True)\n",
      "X_val2_feats3 = three_layer_convnet(X_val2, best_model3, extract_features=True)\n",
      "    \n",
      "print X_val1_feats3.shape\n",
      "print X_val2_feats3.shape\n",
      "print X_train_feats3.shape"
     ],
     "language": "python",
     "metadata": {},
     "outputs": [
      {
       "output_type": "stream",
       "stream": "stdout",
       "text": [
        "Extracted features for 500 images starting from 0\n",
        "Extracted features for 500 images starting from 500"
       ]
      },
      {
       "output_type": "stream",
       "stream": "stdout",
       "text": [
        "\n",
        "Extracted features for 500 images starting from 1000"
       ]
      },
      {
       "output_type": "stream",
       "stream": "stdout",
       "text": [
        "\n",
        "Extracted features for 500 images starting from 1500"
       ]
      },
      {
       "output_type": "stream",
       "stream": "stdout",
       "text": [
        "\n",
        "Extracted features for 500 images starting from 2000"
       ]
      },
      {
       "output_type": "stream",
       "stream": "stdout",
       "text": [
        "\n",
        "Extracted features for 500 images starting from 2500"
       ]
      },
      {
       "output_type": "stream",
       "stream": "stdout",
       "text": [
        "\n",
        "Extracted features for 500 images starting from 3000"
       ]
      },
      {
       "output_type": "stream",
       "stream": "stdout",
       "text": [
        "\n",
        "Extracted features for 500 images starting from 3500"
       ]
      },
      {
       "output_type": "stream",
       "stream": "stdout",
       "text": [
        "\n",
        "Extracted features for 500 images starting from 4000"
       ]
      },
      {
       "output_type": "stream",
       "stream": "stdout",
       "text": [
        "\n",
        "Extracted features for 500 images starting from 4500"
       ]
      },
      {
       "output_type": "stream",
       "stream": "stdout",
       "text": [
        "\n",
        "Extracted features for 500 images starting from 5000"
       ]
      },
      {
       "output_type": "stream",
       "stream": "stdout",
       "text": [
        "\n",
        "Extracted features for 500 images starting from 5500"
       ]
      },
      {
       "output_type": "stream",
       "stream": "stdout",
       "text": [
        "\n",
        "Extracted features for 500 images starting from 6000"
       ]
      },
      {
       "output_type": "stream",
       "stream": "stdout",
       "text": [
        "\n",
        "Extracted features for 500 images starting from 6500"
       ]
      },
      {
       "output_type": "stream",
       "stream": "stdout",
       "text": [
        "\n",
        "Extracted features for 500 images starting from 7000"
       ]
      },
      {
       "output_type": "stream",
       "stream": "stdout",
       "text": [
        "\n",
        "Extracted features for 500 images starting from 7500"
       ]
      },
      {
       "output_type": "stream",
       "stream": "stdout",
       "text": [
        "\n",
        "Extracted features for 500 images starting from 8000"
       ]
      },
      {
       "output_type": "stream",
       "stream": "stdout",
       "text": [
        "\n",
        "Extracted features for 500 images starting from 8500"
       ]
      },
      {
       "output_type": "stream",
       "stream": "stdout",
       "text": [
        "\n",
        "Extracted features for 500 images starting from 9000"
       ]
      },
      {
       "output_type": "stream",
       "stream": "stdout",
       "text": [
        "\n",
        "Extracted features for 500 images starting from 9500"
       ]
      },
      {
       "output_type": "stream",
       "stream": "stdout",
       "text": [
        "\n",
        "Extracted features for 500 images starting from 10000"
       ]
      },
      {
       "output_type": "stream",
       "stream": "stdout",
       "text": [
        "\n",
        "Extracted features for 500 images starting from 10500"
       ]
      },
      {
       "output_type": "stream",
       "stream": "stdout",
       "text": [
        "\n",
        "Extracted features for 500 images starting from 11000"
       ]
      },
      {
       "output_type": "stream",
       "stream": "stdout",
       "text": [
        "\n",
        "Extracted features for 500 images starting from 11500"
       ]
      },
      {
       "output_type": "stream",
       "stream": "stdout",
       "text": [
        "\n",
        "Extracted features for 500 images starting from 12000"
       ]
      },
      {
       "output_type": "stream",
       "stream": "stdout",
       "text": [
        "\n",
        "Extracted features for 500 images starting from 12500"
       ]
      },
      {
       "output_type": "stream",
       "stream": "stdout",
       "text": [
        "\n",
        "Extracted features for 500 images starting from 13000"
       ]
      },
      {
       "output_type": "stream",
       "stream": "stdout",
       "text": [
        "\n",
        "Extracted features for 500 images starting from 13500"
       ]
      },
      {
       "output_type": "stream",
       "stream": "stdout",
       "text": [
        "\n",
        "Extracted features for 500 images starting from 14000"
       ]
      },
      {
       "output_type": "stream",
       "stream": "stdout",
       "text": [
        "\n",
        "Extracted features for 500 images starting from 14500"
       ]
      },
      {
       "output_type": "stream",
       "stream": "stdout",
       "text": [
        "\n",
        "Extracted features for 500 images starting from 15000"
       ]
      },
      {
       "output_type": "stream",
       "stream": "stdout",
       "text": [
        "\n",
        "Extracted features for 500 images starting from 15500"
       ]
      },
      {
       "output_type": "stream",
       "stream": "stdout",
       "text": [
        "\n",
        "Extracted features for 500 images starting from 16000"
       ]
      },
      {
       "output_type": "stream",
       "stream": "stdout",
       "text": [
        "\n",
        "Extracted features for 500 images starting from 16500"
       ]
      },
      {
       "output_type": "stream",
       "stream": "stdout",
       "text": [
        "\n",
        "Extracted features for 500 images starting from 17000"
       ]
      },
      {
       "output_type": "stream",
       "stream": "stdout",
       "text": [
        "\n",
        "Extracted features for 500 images starting from 17500"
       ]
      },
      {
       "output_type": "stream",
       "stream": "stdout",
       "text": [
        "\n",
        "Extracted features for 500 images starting from 18000"
       ]
      },
      {
       "output_type": "stream",
       "stream": "stdout",
       "text": [
        "\n",
        "Extracted features for 500 images starting from 18500"
       ]
      },
      {
       "output_type": "stream",
       "stream": "stdout",
       "text": [
        "\n",
        "Extracted features for 500 images starting from 19000"
       ]
      },
      {
       "output_type": "stream",
       "stream": "stdout",
       "text": [
        "\n",
        "Extracted features for 500 images starting from 19500"
       ]
      },
      {
       "output_type": "stream",
       "stream": "stdout",
       "text": [
        "\n",
        "Extracted features for 500 images starting from 20000"
       ]
      },
      {
       "output_type": "stream",
       "stream": "stdout",
       "text": [
        "\n",
        "Extracted features for 500 images starting from 20500"
       ]
      },
      {
       "output_type": "stream",
       "stream": "stdout",
       "text": [
        "\n",
        "Extracted features for 500 images starting from 21000"
       ]
      },
      {
       "output_type": "stream",
       "stream": "stdout",
       "text": [
        "\n",
        "Extracted features for 500 images starting from 21500"
       ]
      },
      {
       "output_type": "stream",
       "stream": "stdout",
       "text": [
        "\n",
        "Extracted features for 500 images starting from 22000"
       ]
      },
      {
       "output_type": "stream",
       "stream": "stdout",
       "text": [
        "\n",
        "Extracted features for 500 images starting from 22500"
       ]
      },
      {
       "output_type": "stream",
       "stream": "stdout",
       "text": [
        "\n",
        "Extracted features for 500 images starting from 23000"
       ]
      },
      {
       "output_type": "stream",
       "stream": "stdout",
       "text": [
        "\n",
        "Extracted features for 500 images starting from 23500"
       ]
      },
      {
       "output_type": "stream",
       "stream": "stdout",
       "text": [
        "\n",
        "Extracted features for 500 images starting from 24000"
       ]
      },
      {
       "output_type": "stream",
       "stream": "stdout",
       "text": [
        "\n",
        "Extracted features for 500 images starting from 24500"
       ]
      },
      {
       "output_type": "stream",
       "stream": "stdout",
       "text": [
        "\n",
        "Extracted features for 500 images starting from 25000"
       ]
      },
      {
       "output_type": "stream",
       "stream": "stdout",
       "text": [
        "\n",
        "Extracted features for 500 images starting from 25500"
       ]
      },
      {
       "output_type": "stream",
       "stream": "stdout",
       "text": [
        "\n",
        "Extracted features for 500 images starting from 26000"
       ]
      },
      {
       "output_type": "stream",
       "stream": "stdout",
       "text": [
        "\n",
        "Extracted features for 500 images starting from 26500"
       ]
      },
      {
       "output_type": "stream",
       "stream": "stdout",
       "text": [
        "\n",
        "Extracted features for 500 images starting from 27000"
       ]
      },
      {
       "output_type": "stream",
       "stream": "stdout",
       "text": [
        "\n",
        "Extracted features for 500 images starting from 27500"
       ]
      },
      {
       "output_type": "stream",
       "stream": "stdout",
       "text": [
        "\n",
        "Extracted features for 500 images starting from 28000"
       ]
      },
      {
       "output_type": "stream",
       "stream": "stdout",
       "text": [
        "\n",
        "(1000, 128)"
       ]
      },
      {
       "output_type": "stream",
       "stream": "stdout",
       "text": [
        "\n",
        "(1000, 128)\n",
        "(28336, 128)\n"
       ]
      }
     ],
     "prompt_number": 195
    },
    {
     "cell_type": "code",
     "collapsed": false,
     "input": [
      "# Extract features on training and validation set for 7-layer convnet\n",
      "from cs231n.classifiers.convnet import five_layer_convnet\n",
      "\n",
      "X_train_feats7 = None\n",
      "chunk_size = 500\n",
      "\n",
      "result = None\n",
      "for index_start in np.arange(0, X_train.shape[0], chunk_size):\n",
      "    current_result = seven_layer_convnet(X_train[index_start:min(index_start + chunk_size, X_train.shape[0])], best_model7, \n",
      "                                                                extract_features=True)\n",
      "    if result is None:\n",
      "        result = current_result\n",
      "    else:\n",
      "        result = np.vstack((result, current_result))\n",
      "    print \"Extracted features for {} images starting from {}\".format(chunk_size, index_start)\n",
      "X_train_feats7 = result\n",
      "\n",
      "X_val1_feats7 = seven_layer_convnet(X_val1, best_model7, extract_features=True)\n",
      "X_val2_feats7 = seven_layer_convnet(X_val2, best_model7, extract_features=True)\n",
      "    \n",
      "print X_val1_feats7.shape\n",
      "print X_val2_feats7.shape\n",
      "print X_train_feats7.shape"
     ],
     "language": "python",
     "metadata": {},
     "outputs": [
      {
       "output_type": "stream",
       "stream": "stdout",
       "text": [
        "Extracted features for 500 images starting from 0\n",
        "Extracted features for 500 images starting from 500"
       ]
      },
      {
       "output_type": "stream",
       "stream": "stdout",
       "text": [
        "\n",
        "Extracted features for 500 images starting from 1000"
       ]
      },
      {
       "output_type": "stream",
       "stream": "stdout",
       "text": [
        "\n",
        "Extracted features for 500 images starting from 1500"
       ]
      },
      {
       "output_type": "stream",
       "stream": "stdout",
       "text": [
        "\n",
        "Extracted features for 500 images starting from 2000"
       ]
      },
      {
       "output_type": "stream",
       "stream": "stdout",
       "text": [
        "\n",
        "Extracted features for 500 images starting from 2500"
       ]
      },
      {
       "output_type": "stream",
       "stream": "stdout",
       "text": [
        "\n",
        "Extracted features for 500 images starting from 3000"
       ]
      },
      {
       "output_type": "stream",
       "stream": "stdout",
       "text": [
        "\n",
        "Extracted features for 500 images starting from 3500"
       ]
      },
      {
       "output_type": "stream",
       "stream": "stdout",
       "text": [
        "\n",
        "Extracted features for 500 images starting from 4000"
       ]
      },
      {
       "output_type": "stream",
       "stream": "stdout",
       "text": [
        "\n",
        "Extracted features for 500 images starting from 4500"
       ]
      },
      {
       "output_type": "stream",
       "stream": "stdout",
       "text": [
        "\n",
        "Extracted features for 500 images starting from 5000"
       ]
      },
      {
       "output_type": "stream",
       "stream": "stdout",
       "text": [
        "\n",
        "Extracted features for 500 images starting from 5500"
       ]
      },
      {
       "output_type": "stream",
       "stream": "stdout",
       "text": [
        "\n",
        "Extracted features for 500 images starting from 6000"
       ]
      },
      {
       "output_type": "stream",
       "stream": "stdout",
       "text": [
        "\n",
        "Extracted features for 500 images starting from 6500"
       ]
      },
      {
       "output_type": "stream",
       "stream": "stdout",
       "text": [
        "\n",
        "Extracted features for 500 images starting from 7000"
       ]
      },
      {
       "output_type": "stream",
       "stream": "stdout",
       "text": [
        "\n",
        "Extracted features for 500 images starting from 7500"
       ]
      },
      {
       "output_type": "stream",
       "stream": "stdout",
       "text": [
        "\n",
        "Extracted features for 500 images starting from 8000"
       ]
      },
      {
       "output_type": "stream",
       "stream": "stdout",
       "text": [
        "\n",
        "Extracted features for 500 images starting from 8500"
       ]
      },
      {
       "output_type": "stream",
       "stream": "stdout",
       "text": [
        "\n",
        "Extracted features for 500 images starting from 9000"
       ]
      },
      {
       "output_type": "stream",
       "stream": "stdout",
       "text": [
        "\n",
        "Extracted features for 500 images starting from 9500"
       ]
      },
      {
       "output_type": "stream",
       "stream": "stdout",
       "text": [
        "\n",
        "Extracted features for 500 images starting from 10000"
       ]
      },
      {
       "output_type": "stream",
       "stream": "stdout",
       "text": [
        "\n",
        "Extracted features for 500 images starting from 10500"
       ]
      },
      {
       "output_type": "stream",
       "stream": "stdout",
       "text": [
        "\n",
        "Extracted features for 500 images starting from 11000"
       ]
      },
      {
       "output_type": "stream",
       "stream": "stdout",
       "text": [
        "\n",
        "Extracted features for 500 images starting from 11500"
       ]
      },
      {
       "output_type": "stream",
       "stream": "stdout",
       "text": [
        "\n",
        "Extracted features for 500 images starting from 12000"
       ]
      },
      {
       "output_type": "stream",
       "stream": "stdout",
       "text": [
        "\n",
        "Extracted features for 500 images starting from 12500"
       ]
      },
      {
       "output_type": "stream",
       "stream": "stdout",
       "text": [
        "\n",
        "Extracted features for 500 images starting from 13000"
       ]
      },
      {
       "output_type": "stream",
       "stream": "stdout",
       "text": [
        "\n",
        "Extracted features for 500 images starting from 13500"
       ]
      },
      {
       "output_type": "stream",
       "stream": "stdout",
       "text": [
        "\n",
        "Extracted features for 500 images starting from 14000"
       ]
      },
      {
       "output_type": "stream",
       "stream": "stdout",
       "text": [
        "\n",
        "Extracted features for 500 images starting from 14500"
       ]
      },
      {
       "output_type": "stream",
       "stream": "stdout",
       "text": [
        "\n",
        "Extracted features for 500 images starting from 15000"
       ]
      },
      {
       "output_type": "stream",
       "stream": "stdout",
       "text": [
        "\n",
        "Extracted features for 500 images starting from 15500"
       ]
      },
      {
       "output_type": "stream",
       "stream": "stdout",
       "text": [
        "\n",
        "Extracted features for 500 images starting from 16000"
       ]
      },
      {
       "output_type": "stream",
       "stream": "stdout",
       "text": [
        "\n",
        "Extracted features for 500 images starting from 16500"
       ]
      },
      {
       "output_type": "stream",
       "stream": "stdout",
       "text": [
        "\n",
        "Extracted features for 500 images starting from 17000"
       ]
      },
      {
       "output_type": "stream",
       "stream": "stdout",
       "text": [
        "\n",
        "Extracted features for 500 images starting from 17500"
       ]
      },
      {
       "output_type": "stream",
       "stream": "stdout",
       "text": [
        "\n",
        "Extracted features for 500 images starting from 18000"
       ]
      },
      {
       "output_type": "stream",
       "stream": "stdout",
       "text": [
        "\n",
        "Extracted features for 500 images starting from 18500"
       ]
      },
      {
       "output_type": "stream",
       "stream": "stdout",
       "text": [
        "\n",
        "Extracted features for 500 images starting from 19000"
       ]
      },
      {
       "output_type": "stream",
       "stream": "stdout",
       "text": [
        "\n",
        "Extracted features for 500 images starting from 19500"
       ]
      },
      {
       "output_type": "stream",
       "stream": "stdout",
       "text": [
        "\n",
        "Extracted features for 500 images starting from 20000"
       ]
      },
      {
       "output_type": "stream",
       "stream": "stdout",
       "text": [
        "\n",
        "Extracted features for 500 images starting from 20500"
       ]
      },
      {
       "output_type": "stream",
       "stream": "stdout",
       "text": [
        "\n",
        "Extracted features for 500 images starting from 21000"
       ]
      },
      {
       "output_type": "stream",
       "stream": "stdout",
       "text": [
        "\n",
        "Extracted features for 500 images starting from 21500"
       ]
      },
      {
       "output_type": "stream",
       "stream": "stdout",
       "text": [
        "\n",
        "Extracted features for 500 images starting from 22000"
       ]
      },
      {
       "output_type": "stream",
       "stream": "stdout",
       "text": [
        "\n",
        "Extracted features for 500 images starting from 22500"
       ]
      },
      {
       "output_type": "stream",
       "stream": "stdout",
       "text": [
        "\n",
        "Extracted features for 500 images starting from 23000"
       ]
      },
      {
       "output_type": "stream",
       "stream": "stdout",
       "text": [
        "\n",
        "Extracted features for 500 images starting from 23500"
       ]
      },
      {
       "output_type": "stream",
       "stream": "stdout",
       "text": [
        "\n",
        "Extracted features for 500 images starting from 24000"
       ]
      },
      {
       "output_type": "stream",
       "stream": "stdout",
       "text": [
        "\n",
        "Extracted features for 500 images starting from 24500"
       ]
      },
      {
       "output_type": "stream",
       "stream": "stdout",
       "text": [
        "\n",
        "Extracted features for 500 images starting from 25000"
       ]
      },
      {
       "output_type": "stream",
       "stream": "stdout",
       "text": [
        "\n",
        "Extracted features for 500 images starting from 25500"
       ]
      },
      {
       "output_type": "stream",
       "stream": "stdout",
       "text": [
        "\n",
        "Extracted features for 500 images starting from 26000"
       ]
      },
      {
       "output_type": "stream",
       "stream": "stdout",
       "text": [
        "\n",
        "Extracted features for 500 images starting from 26500"
       ]
      },
      {
       "output_type": "stream",
       "stream": "stdout",
       "text": [
        "\n",
        "Extracted features for 500 images starting from 27000"
       ]
      },
      {
       "output_type": "stream",
       "stream": "stdout",
       "text": [
        "\n",
        "Extracted features for 500 images starting from 27500"
       ]
      },
      {
       "output_type": "stream",
       "stream": "stdout",
       "text": [
        "\n",
        "Extracted features for 500 images starting from 28000"
       ]
      },
      {
       "output_type": "stream",
       "stream": "stdout",
       "text": [
        "\n",
        "(1000, 128)"
       ]
      },
      {
       "output_type": "stream",
       "stream": "stdout",
       "text": [
        "\n",
        "(1000, 128)\n",
        "(28336, 128)\n"
       ]
      }
     ],
     "prompt_number": 189
    },
    {
     "cell_type": "markdown",
     "metadata": {},
     "source": [
      "# Softmax on ConvNet features\n",
      "Another way to implement transfer learning is to train a linear classifier on top of the features extracted from our pretrained ConvNet.\n",
      "\n",
      "In the cell below, train a softmax classifier on the features extracted from the training set of TinyImageNet-100-B and use this classifier to predict on the validation set for TinyImageNet-100-B. You can use the `Softmax` class in the file `cs231n/classifiers/linear_classifier.py`."
     ]
    },
    {
     "cell_type": "code",
     "collapsed": false,
     "input": [
      "# Get features for X_test based on convnet models for 3 or 5 layers\n",
      "chunk_size = 2000\n",
      "\n",
      "result = None\n",
      "for index_start in np.arange(0, X_test.shape[0], chunk_size):\n",
      "    current_result = three_layer_convnet(X_test[index_start:min(index_start + chunk_size, X_test.shape[0])], best_model3, \n",
      "                                                                extract_features=True)\n",
      "    if result is None:\n",
      "        result = current_result\n",
      "    else:\n",
      "        result = np.vstack((result, current_result))\n",
      "    print \"Extracted features for {} images starting from {}\".format(chunk_size, index_start)\n",
      "X_test_feats3 = result\n",
      "print X_test_feats3.shape"
     ],
     "language": "python",
     "metadata": {},
     "outputs": [
      {
       "output_type": "stream",
       "stream": "stdout",
       "text": [
        "Extracted features for 2000 images starting from 0\n",
        "Extracted features for 2000 images starting from 2000"
       ]
      },
      {
       "output_type": "stream",
       "stream": "stdout",
       "text": [
        "\n",
        "Extracted features for 2000 images starting from 4000"
       ]
      },
      {
       "output_type": "stream",
       "stream": "stdout",
       "text": [
        "\n",
        "Extracted features for 2000 images starting from 6000"
       ]
      },
      {
       "output_type": "stream",
       "stream": "stdout",
       "text": [
        "\n",
        "Extracted features for 2000 images starting from 8000"
       ]
      },
      {
       "output_type": "stream",
       "stream": "stdout",
       "text": [
        "\n",
        "Extracted features for 2000 images starting from 10000"
       ]
      },
      {
       "output_type": "stream",
       "stream": "stdout",
       "text": [
        "\n",
        "Extracted features for 2000 images starting from 12000"
       ]
      },
      {
       "output_type": "stream",
       "stream": "stdout",
       "text": [
        "\n",
        "Extracted features for 2000 images starting from 14000"
       ]
      },
      {
       "output_type": "stream",
       "stream": "stdout",
       "text": [
        "\n",
        "Extracted features for 2000 images starting from 16000"
       ]
      },
      {
       "output_type": "stream",
       "stream": "stdout",
       "text": [
        "\n",
        "Extracted features for 2000 images starting from 18000"
       ]
      },
      {
       "output_type": "stream",
       "stream": "stdout",
       "text": [
        "\n",
        "Extracted features for 2000 images starting from 20000"
       ]
      },
      {
       "output_type": "stream",
       "stream": "stdout",
       "text": [
        "\n",
        "Extracted features for 2000 images starting from 22000"
       ]
      },
      {
       "output_type": "stream",
       "stream": "stdout",
       "text": [
        "\n",
        "Extracted features for 2000 images starting from 24000"
       ]
      },
      {
       "output_type": "stream",
       "stream": "stdout",
       "text": [
        "\n",
        "Extracted features for 2000 images starting from 26000"
       ]
      },
      {
       "output_type": "stream",
       "stream": "stdout",
       "text": [
        "\n",
        "Extracted features for 2000 images starting from 28000"
       ]
      },
      {
       "output_type": "stream",
       "stream": "stdout",
       "text": [
        "\n",
        "Extracted features for 2000 images starting from 30000"
       ]
      },
      {
       "output_type": "stream",
       "stream": "stdout",
       "text": [
        "\n",
        "Extracted features for 2000 images starting from 32000"
       ]
      },
      {
       "output_type": "stream",
       "stream": "stdout",
       "text": [
        "\n",
        "Extracted features for 2000 images starting from 34000"
       ]
      },
      {
       "output_type": "stream",
       "stream": "stdout",
       "text": [
        "\n",
        "Extracted features for 2000 images starting from 36000"
       ]
      },
      {
       "output_type": "stream",
       "stream": "stdout",
       "text": [
        "\n",
        "Extracted features for 2000 images starting from 38000"
       ]
      },
      {
       "output_type": "stream",
       "stream": "stdout",
       "text": [
        "\n",
        "Extracted features for 2000 images starting from 40000"
       ]
      },
      {
       "output_type": "stream",
       "stream": "stdout",
       "text": [
        "\n",
        "Extracted features for 2000 images starting from 42000"
       ]
      },
      {
       "output_type": "stream",
       "stream": "stdout",
       "text": [
        "\n",
        "Extracted features for 2000 images starting from 44000"
       ]
      },
      {
       "output_type": "stream",
       "stream": "stdout",
       "text": [
        "\n",
        "Extracted features for 2000 images starting from 46000"
       ]
      },
      {
       "output_type": "stream",
       "stream": "stdout",
       "text": [
        "\n",
        "Extracted features for 2000 images starting from 48000"
       ]
      },
      {
       "output_type": "stream",
       "stream": "stdout",
       "text": [
        "\n",
        "Extracted features for 2000 images starting from 50000"
       ]
      },
      {
       "output_type": "stream",
       "stream": "stdout",
       "text": [
        "\n",
        "Extracted features for 2000 images starting from 52000"
       ]
      },
      {
       "output_type": "stream",
       "stream": "stdout",
       "text": [
        "\n",
        "Extracted features for 2000 images starting from 54000"
       ]
      },
      {
       "output_type": "stream",
       "stream": "stdout",
       "text": [
        "\n",
        "Extracted features for 2000 images starting from 56000"
       ]
      },
      {
       "output_type": "stream",
       "stream": "stdout",
       "text": [
        "\n",
        "Extracted features for 2000 images starting from 58000"
       ]
      },
      {
       "output_type": "stream",
       "stream": "stdout",
       "text": [
        "\n",
        "Extracted features for 2000 images starting from 60000"
       ]
      },
      {
       "output_type": "stream",
       "stream": "stdout",
       "text": [
        "\n",
        "Extracted features for 2000 images starting from 62000"
       ]
      },
      {
       "output_type": "stream",
       "stream": "stdout",
       "text": [
        "\n",
        "Extracted features for 2000 images starting from 64000"
       ]
      },
      {
       "output_type": "stream",
       "stream": "stdout",
       "text": [
        "\n",
        "Extracted features for 2000 images starting from 66000"
       ]
      },
      {
       "output_type": "stream",
       "stream": "stdout",
       "text": [
        "\n",
        "Extracted features for 2000 images starting from 68000"
       ]
      },
      {
       "output_type": "stream",
       "stream": "stdout",
       "text": [
        "\n",
        "Extracted features for 2000 images starting from 70000"
       ]
      },
      {
       "output_type": "stream",
       "stream": "stdout",
       "text": [
        "\n",
        "Extracted features for 2000 images starting from 72000"
       ]
      },
      {
       "output_type": "stream",
       "stream": "stdout",
       "text": [
        "\n",
        "Extracted features for 2000 images starting from 74000"
       ]
      },
      {
       "output_type": "stream",
       "stream": "stdout",
       "text": [
        "\n",
        "Extracted features for 2000 images starting from 76000"
       ]
      },
      {
       "output_type": "stream",
       "stream": "stdout",
       "text": [
        "\n",
        "Extracted features for 2000 images starting from 78000"
       ]
      },
      {
       "output_type": "stream",
       "stream": "stdout",
       "text": [
        "\n",
        "Extracted features for 2000 images starting from 80000"
       ]
      },
      {
       "output_type": "stream",
       "stream": "stdout",
       "text": [
        "\n",
        "Extracted features for 2000 images starting from 82000"
       ]
      },
      {
       "output_type": "stream",
       "stream": "stdout",
       "text": [
        "\n",
        "Extracted features for 2000 images starting from 84000"
       ]
      },
      {
       "output_type": "stream",
       "stream": "stdout",
       "text": [
        "\n",
        "Extracted features for 2000 images starting from 86000"
       ]
      },
      {
       "output_type": "stream",
       "stream": "stdout",
       "text": [
        "\n",
        "Extracted features for 2000 images starting from 88000"
       ]
      },
      {
       "output_type": "stream",
       "stream": "stdout",
       "text": [
        "\n",
        "Extracted features for 2000 images starting from 90000"
       ]
      },
      {
       "output_type": "stream",
       "stream": "stdout",
       "text": [
        "\n",
        "Extracted features for 2000 images starting from 92000"
       ]
      },
      {
       "output_type": "stream",
       "stream": "stdout",
       "text": [
        "\n",
        "Extracted features for 2000 images starting from 94000"
       ]
      },
      {
       "output_type": "stream",
       "stream": "stdout",
       "text": [
        "\n",
        "Extracted features for 2000 images starting from 96000"
       ]
      },
      {
       "output_type": "stream",
       "stream": "stdout",
       "text": [
        "\n",
        "Extracted features for 2000 images starting from 98000"
       ]
      },
      {
       "output_type": "stream",
       "stream": "stdout",
       "text": [
        "\n",
        "Extracted features for 2000 images starting from 100000"
       ]
      },
      {
       "output_type": "stream",
       "stream": "stdout",
       "text": [
        "\n",
        "Extracted features for 2000 images starting from 102000"
       ]
      },
      {
       "output_type": "stream",
       "stream": "stdout",
       "text": [
        "\n",
        "Extracted features for 2000 images starting from 104000"
       ]
      },
      {
       "output_type": "stream",
       "stream": "stdout",
       "text": [
        "\n",
        "Extracted features for 2000 images starting from 106000"
       ]
      },
      {
       "output_type": "stream",
       "stream": "stdout",
       "text": [
        "\n",
        "Extracted features for 2000 images starting from 108000"
       ]
      },
      {
       "output_type": "stream",
       "stream": "stdout",
       "text": [
        "\n",
        "Extracted features for 2000 images starting from 110000"
       ]
      },
      {
       "output_type": "stream",
       "stream": "stdout",
       "text": [
        "\n",
        "Extracted features for 2000 images starting from 112000"
       ]
      },
      {
       "output_type": "stream",
       "stream": "stdout",
       "text": [
        "\n",
        "Extracted features for 2000 images starting from 114000"
       ]
      },
      {
       "output_type": "stream",
       "stream": "stdout",
       "text": [
        "\n",
        "Extracted features for 2000 images starting from 116000"
       ]
      },
      {
       "output_type": "stream",
       "stream": "stdout",
       "text": [
        "\n",
        "Extracted features for 2000 images starting from 118000"
       ]
      },
      {
       "output_type": "stream",
       "stream": "stdout",
       "text": [
        "\n",
        "Extracted features for 2000 images starting from 120000"
       ]
      },
      {
       "output_type": "stream",
       "stream": "stdout",
       "text": [
        "\n",
        "Extracted features for 2000 images starting from 122000"
       ]
      },
      {
       "output_type": "stream",
       "stream": "stdout",
       "text": [
        "\n",
        "Extracted features for 2000 images starting from 124000"
       ]
      },
      {
       "output_type": "stream",
       "stream": "stdout",
       "text": [
        "\n",
        "Extracted features for 2000 images starting from 126000"
       ]
      },
      {
       "output_type": "stream",
       "stream": "stdout",
       "text": [
        "\n",
        "Extracted features for 2000 images starting from 128000"
       ]
      },
      {
       "output_type": "stream",
       "stream": "stdout",
       "text": [
        "\n",
        "Extracted features for 2000 images starting from 130000"
       ]
      },
      {
       "output_type": "stream",
       "stream": "stdout",
       "text": [
        "\n",
        "(130400, 128)\n"
       ]
      }
     ],
     "prompt_number": 196
    },
    {
     "cell_type": "code",
     "collapsed": false,
     "input": [
      "# Get features for X_test based on convnet models for 7 layers\n",
      "chunk_size = 2000\n",
      "\n",
      "result = None\n",
      "for index_start in np.arange(0, X_test.shape[0], chunk_size):\n",
      "    current_result = seven_layer_convnet(X_test[index_start:min(index_start + chunk_size, X_test.shape[0])], best_model7, \n",
      "                                                                extract_features=True)\n",
      "    if result is None:\n",
      "        result = current_result\n",
      "    else:\n",
      "        result = np.vstack((result, current_result))\n",
      "    print \"Extracted features for {} images starting from {}\".format(chunk_size, index_start)\n",
      "X_test_feats7 = result\n",
      "print X_test_feats7.shape"
     ],
     "language": "python",
     "metadata": {},
     "outputs": [
      {
       "output_type": "stream",
       "stream": "stdout",
       "text": [
        "Extracted features for 2000 images starting from 0\n",
        "Extracted features for 2000 images starting from 2000"
       ]
      },
      {
       "output_type": "stream",
       "stream": "stdout",
       "text": [
        "\n",
        "Extracted features for 2000 images starting from 4000"
       ]
      },
      {
       "output_type": "stream",
       "stream": "stdout",
       "text": [
        "\n",
        "Extracted features for 2000 images starting from 6000"
       ]
      },
      {
       "output_type": "stream",
       "stream": "stdout",
       "text": [
        "\n",
        "Extracted features for 2000 images starting from 8000"
       ]
      },
      {
       "output_type": "stream",
       "stream": "stdout",
       "text": [
        "\n",
        "Extracted features for 2000 images starting from 10000"
       ]
      },
      {
       "output_type": "stream",
       "stream": "stdout",
       "text": [
        "\n",
        "Extracted features for 2000 images starting from 12000"
       ]
      },
      {
       "output_type": "stream",
       "stream": "stdout",
       "text": [
        "\n",
        "Extracted features for 2000 images starting from 14000"
       ]
      },
      {
       "output_type": "stream",
       "stream": "stdout",
       "text": [
        "\n",
        "Extracted features for 2000 images starting from 16000"
       ]
      },
      {
       "output_type": "stream",
       "stream": "stdout",
       "text": [
        "\n",
        "Extracted features for 2000 images starting from 18000"
       ]
      },
      {
       "output_type": "stream",
       "stream": "stdout",
       "text": [
        "\n",
        "Extracted features for 2000 images starting from 20000"
       ]
      },
      {
       "output_type": "stream",
       "stream": "stdout",
       "text": [
        "\n",
        "Extracted features for 2000 images starting from 22000"
       ]
      },
      {
       "output_type": "stream",
       "stream": "stdout",
       "text": [
        "\n",
        "Extracted features for 2000 images starting from 24000"
       ]
      },
      {
       "output_type": "stream",
       "stream": "stdout",
       "text": [
        "\n",
        "Extracted features for 2000 images starting from 26000"
       ]
      },
      {
       "output_type": "stream",
       "stream": "stdout",
       "text": [
        "\n",
        "Extracted features for 2000 images starting from 28000"
       ]
      },
      {
       "output_type": "stream",
       "stream": "stdout",
       "text": [
        "\n",
        "Extracted features for 2000 images starting from 30000"
       ]
      },
      {
       "output_type": "stream",
       "stream": "stdout",
       "text": [
        "\n",
        "Extracted features for 2000 images starting from 32000"
       ]
      },
      {
       "output_type": "stream",
       "stream": "stdout",
       "text": [
        "\n",
        "Extracted features for 2000 images starting from 34000"
       ]
      },
      {
       "output_type": "stream",
       "stream": "stdout",
       "text": [
        "\n",
        "Extracted features for 2000 images starting from 36000"
       ]
      },
      {
       "output_type": "stream",
       "stream": "stdout",
       "text": [
        "\n",
        "Extracted features for 2000 images starting from 38000"
       ]
      },
      {
       "output_type": "stream",
       "stream": "stdout",
       "text": [
        "\n",
        "Extracted features for 2000 images starting from 40000"
       ]
      },
      {
       "output_type": "stream",
       "stream": "stdout",
       "text": [
        "\n",
        "Extracted features for 2000 images starting from 42000"
       ]
      },
      {
       "output_type": "stream",
       "stream": "stdout",
       "text": [
        "\n",
        "Extracted features for 2000 images starting from 44000"
       ]
      },
      {
       "output_type": "stream",
       "stream": "stdout",
       "text": [
        "\n",
        "Extracted features for 2000 images starting from 46000"
       ]
      },
      {
       "output_type": "stream",
       "stream": "stdout",
       "text": [
        "\n",
        "Extracted features for 2000 images starting from 48000"
       ]
      },
      {
       "output_type": "stream",
       "stream": "stdout",
       "text": [
        "\n",
        "Extracted features for 2000 images starting from 50000"
       ]
      },
      {
       "output_type": "stream",
       "stream": "stdout",
       "text": [
        "\n",
        "Extracted features for 2000 images starting from 52000"
       ]
      },
      {
       "output_type": "stream",
       "stream": "stdout",
       "text": [
        "\n",
        "Extracted features for 2000 images starting from 54000"
       ]
      },
      {
       "output_type": "stream",
       "stream": "stdout",
       "text": [
        "\n",
        "Extracted features for 2000 images starting from 56000"
       ]
      },
      {
       "output_type": "stream",
       "stream": "stdout",
       "text": [
        "\n",
        "Extracted features for 2000 images starting from 58000"
       ]
      },
      {
       "output_type": "stream",
       "stream": "stdout",
       "text": [
        "\n",
        "Extracted features for 2000 images starting from 60000"
       ]
      },
      {
       "output_type": "stream",
       "stream": "stdout",
       "text": [
        "\n",
        "Extracted features for 2000 images starting from 62000"
       ]
      },
      {
       "output_type": "stream",
       "stream": "stdout",
       "text": [
        "\n",
        "Extracted features for 2000 images starting from 64000"
       ]
      },
      {
       "output_type": "stream",
       "stream": "stdout",
       "text": [
        "\n",
        "Extracted features for 2000 images starting from 66000"
       ]
      },
      {
       "output_type": "stream",
       "stream": "stdout",
       "text": [
        "\n",
        "Extracted features for 2000 images starting from 68000"
       ]
      },
      {
       "output_type": "stream",
       "stream": "stdout",
       "text": [
        "\n",
        "Extracted features for 2000 images starting from 70000"
       ]
      },
      {
       "output_type": "stream",
       "stream": "stdout",
       "text": [
        "\n",
        "Extracted features for 2000 images starting from 72000"
       ]
      },
      {
       "output_type": "stream",
       "stream": "stdout",
       "text": [
        "\n",
        "Extracted features for 2000 images starting from 74000"
       ]
      },
      {
       "output_type": "stream",
       "stream": "stdout",
       "text": [
        "\n",
        "Extracted features for 2000 images starting from 76000"
       ]
      },
      {
       "output_type": "stream",
       "stream": "stdout",
       "text": [
        "\n",
        "Extracted features for 2000 images starting from 78000"
       ]
      },
      {
       "output_type": "stream",
       "stream": "stdout",
       "text": [
        "\n",
        "Extracted features for 2000 images starting from 80000"
       ]
      },
      {
       "output_type": "stream",
       "stream": "stdout",
       "text": [
        "\n",
        "Extracted features for 2000 images starting from 82000"
       ]
      },
      {
       "output_type": "stream",
       "stream": "stdout",
       "text": [
        "\n",
        "Extracted features for 2000 images starting from 84000"
       ]
      },
      {
       "output_type": "stream",
       "stream": "stdout",
       "text": [
        "\n",
        "Extracted features for 2000 images starting from 86000"
       ]
      },
      {
       "output_type": "stream",
       "stream": "stdout",
       "text": [
        "\n",
        "Extracted features for 2000 images starting from 88000"
       ]
      },
      {
       "output_type": "stream",
       "stream": "stdout",
       "text": [
        "\n",
        "Extracted features for 2000 images starting from 90000"
       ]
      },
      {
       "output_type": "stream",
       "stream": "stdout",
       "text": [
        "\n",
        "Extracted features for 2000 images starting from 92000"
       ]
      },
      {
       "output_type": "stream",
       "stream": "stdout",
       "text": [
        "\n",
        "Extracted features for 2000 images starting from 94000"
       ]
      },
      {
       "output_type": "stream",
       "stream": "stdout",
       "text": [
        "\n",
        "Extracted features for 2000 images starting from 96000"
       ]
      },
      {
       "output_type": "stream",
       "stream": "stdout",
       "text": [
        "\n",
        "Extracted features for 2000 images starting from 98000"
       ]
      },
      {
       "output_type": "stream",
       "stream": "stdout",
       "text": [
        "\n",
        "Extracted features for 2000 images starting from 100000"
       ]
      },
      {
       "output_type": "stream",
       "stream": "stdout",
       "text": [
        "\n",
        "Extracted features for 2000 images starting from 102000"
       ]
      },
      {
       "output_type": "stream",
       "stream": "stdout",
       "text": [
        "\n",
        "Extracted features for 2000 images starting from 104000"
       ]
      },
      {
       "output_type": "stream",
       "stream": "stdout",
       "text": [
        "\n",
        "Extracted features for 2000 images starting from 106000"
       ]
      },
      {
       "output_type": "stream",
       "stream": "stdout",
       "text": [
        "\n",
        "Extracted features for 2000 images starting from 108000"
       ]
      },
      {
       "output_type": "stream",
       "stream": "stdout",
       "text": [
        "\n",
        "Extracted features for 2000 images starting from 110000"
       ]
      },
      {
       "output_type": "stream",
       "stream": "stdout",
       "text": [
        "\n",
        "Extracted features for 2000 images starting from 112000"
       ]
      },
      {
       "output_type": "stream",
       "stream": "stdout",
       "text": [
        "\n",
        "Extracted features for 2000 images starting from 114000"
       ]
      },
      {
       "output_type": "stream",
       "stream": "stdout",
       "text": [
        "\n",
        "Extracted features for 2000 images starting from 116000"
       ]
      },
      {
       "output_type": "stream",
       "stream": "stdout",
       "text": [
        "\n",
        "Extracted features for 2000 images starting from 118000"
       ]
      },
      {
       "output_type": "stream",
       "stream": "stdout",
       "text": [
        "\n",
        "Extracted features for 2000 images starting from 120000"
       ]
      },
      {
       "output_type": "stream",
       "stream": "stdout",
       "text": [
        "\n",
        "Extracted features for 2000 images starting from 122000"
       ]
      },
      {
       "output_type": "stream",
       "stream": "stdout",
       "text": [
        "\n",
        "Extracted features for 2000 images starting from 124000"
       ]
      },
      {
       "output_type": "stream",
       "stream": "stdout",
       "text": [
        "\n",
        "Extracted features for 2000 images starting from 126000"
       ]
      },
      {
       "output_type": "stream",
       "stream": "stdout",
       "text": [
        "\n",
        "Extracted features for 2000 images starting from 128000"
       ]
      },
      {
       "output_type": "stream",
       "stream": "stdout",
       "text": [
        "\n",
        "Extracted features for 2000 images starting from 130000"
       ]
      },
      {
       "output_type": "stream",
       "stream": "stdout",
       "text": [
        "\n",
        "(130400, 128)\n"
       ]
      }
     ],
     "prompt_number": 190
    },
    {
     "cell_type": "code",
     "collapsed": false,
     "input": [
      "#Try to do SVD on features\n",
      "np.save('/Users/sagarc/Documents/cs231n/project/plankton/3layer_features/X_train_3layer_conv_features', X_train_feats3)\n",
      "np.save('/Users/sagarc/Documents/cs231n/project/plankton/3layer_features/X_valid1_3layer_conv_features', X_val1_feats3)\n",
      "np.save('/Users/sagarc/Documents/cs231n/project/plankton/3layer_features/X_valid2_3layer_conv_features', X_val2_feats3)\n",
      "np.save('/Users/sagarc/Documents/cs231n/project/plankton/3layer_features/X_test_3layer_conv_features', X_test_feats3)\n",
      "#np.save('/Users/sagarc/Documents/cs231n/project/plankton/y_train', y_train)\n",
      "#np.save('/Users/sagarc/Documents/cs231n/project/plankton/y_valid1', y_val1)\n",
      "#np.save('/Users/sagarc/Documents/cs231n/project/plankton/y_valid2', y_val2)\n",
      "#np.save('/Users/sagarc/Documents/cs231n/project/plankton/5layer_image_index', image_index)\n",
      "#np.save('/Users/sagarc/Documents/cs231n/project/plankton/5layer_image_mapping', image_mapping)\n"
     ],
     "language": "python",
     "metadata": {},
     "outputs": [],
     "prompt_number": 199
    },
    {
     "cell_type": "code",
     "collapsed": false,
     "input": [
      "\n",
      "# =====================All Visulization goes here==================\n",
      "\n",
      "\n",
      "# Get number of images per class and visualize it.\n",
      "y_count = np.zeros(121)\n",
      "for label in y_train:\n",
      "    y_count[label]+=1\n",
      "print y_count\n",
      "plt.hist(y_train, 121, normed=1, facecolor='g', alpha=0.75)\n",
      "plt.show()\n",
      "\n",
      "sig_labels = {}\n",
      "count  = 0\n",
      "for i in range(y_count.shape[0]):\n",
      "    if y_count[i] > 500:\n",
      "        sig_labels[i] = count\n",
      "        count+= 1\n",
      "print sig_labels\n"
     ],
     "language": "python",
     "metadata": {},
     "outputs": [
      {
       "output_type": "stream",
       "stream": "stdout",
       "text": [
        " [  825.    13.    63.    47.    12.   658.   494.   232.   367.   163.\n",
        "   753.  1811.   643.    67.   636.   162.    89.   166.    59.   273.\n",
        "    98.    47.    79.    29.   846.  1108.    23.   184.   103.    41.\n",
        "    49.    31.    51.   344.   368.   858.   482.   456.    33.    89.\n",
        "    76.    83.   360.   507.    91.    26.    13.   125.    34.   480.\n",
        "    10.    31.    79.   105.    62.    15.     9.   119.    66.    32.\n",
        "   214.     8.    18.    20.   318.   130.    12.   180.   390.   254.\n",
        "   137.    72.   651.   116.    40.    52.    13.    60.    14.    21.\n",
        "   134.   121.   100.   350.   586.  1102.   109.    98.    12.    61.\n",
        "   263.   149.    48.    45.   143.   159.   196.   124.   444.   172.\n",
        "    53.   237.    29.    27.   125.    20.    24.    34.   655.    46.\n",
        "  1841.   635.    26.   417.   401.   327.   217.    68.   294.   161.\n",
        "   388.]\n"
       ]
      },
      {
       "metadata": {},
       "output_type": "display_data",
       "png": "[encoded data removed]",
       "text": [
        "<matplotlib.figure.Figure at 0x10547f890>"
       ]
      },
      {
       "output_type": "stream",
       "stream": "stdout",
       "text": [
        "{0: 0, 35: 8, 5: 1, 72: 10, 108: 13, 10: 2, 11: 3, 12: 4, 110: 14, 14: 5, 111: 15, 43: 9, 84: 11, 85: 12, 24: 6, 25: 7}\n"
       ]
      }
     ],
     "prompt_number": 94
    },
    {
     "cell_type": "code",
     "collapsed": false,
     "input": [
      "#Visualizations and scatter plots\n",
      "\n",
      "from cs231n.vis_utils import visualize_grid\n",
      "import matplotlib.pyplot as plt\n",
      "\n",
      "#grid = visualize_grid(best_softmax.W.transpose(0, 2, 3, 1))\n",
      "#plt.imshow(grid.astype('uint8'))\n",
      "\n",
      "probs = best_softmax.predict(X_train_feats.T, get_prob=True).T\n",
      "print probs.shape\n",
      "\n",
      "predicted_labels = np.argmax(probs, axis=1)\n",
      "\n",
      "num_classes = 16\n",
      "conf_arr = np.zeros([num_classes, num_classes])\n",
      "for i in xrange(0,probs.shape[0]):\n",
      "    if y_train[i] in sig_labels and predicted_labels[i] in sig_labels:\n",
      "        conf_arr[sig_labels[y_train[i]], sig_labels[predicted_labels[i]]] += 1\n",
      "    #conf_arr[y_train[i],predicted_labels[i]] += 1\n",
      "\n",
      "norm_conf = []\n",
      "for i in conf_arr:\n",
      "    a = 0\n",
      "    tmp_arr = []\n",
      "    a = sum(i, 0)\n",
      "    for j in i:\n",
      "        tmp_arr.append(float(j)/(float(a) + 0.0001))\n",
      "    norm_conf.append(tmp_arr)\n",
      "\n",
      "fig = plt.figure()\n",
      "plt.clf()\n",
      "ax = fig.add_subplot(111)\n",
      "ax.set_aspect(1)\n",
      "res = ax.imshow(np.array(norm_conf), cmap=plt.cm.jet, \n",
      "                interpolation='nearest')\n",
      "\n",
      "width = len(conf_arr)\n",
      "height = len(conf_arr[0])\n",
      "\n",
      "for x in xrange(width):\n",
      "    for y in xrange(height):\n",
      "        ax.annotate(str(conf_arr[x][y]), xy=(y, x), \n",
      "                    horizontalalignment='center',\n",
      "                    verticalalignment='center')\n",
      "\n",
      "cb = fig.colorbar(res)\n",
      "#alphabet = 'ABCDEFGHIJ'\n",
      "#plt.xticks(range(width), alphabet[:width])\n",
      "#plt.yticks(range(height), alphabet[:height])\n",
      "plt.show()\n",
      "\n",
      "#print \"A: airplane, B: automobile, C: bird, D: cat, E: deer, F: dog, G: frog, H: horse, I: ship, J: truck\"\n",
      "\n",
      "print 'Test accuracy: ', np.mean(predicted_labels == y_val1)"
     ],
     "language": "python",
     "metadata": {},
     "outputs": [
      {
       "output_type": "stream",
       "stream": "stdout",
       "text": [
        " (28336, 121)\n"
       ]
      },
      {
       "metadata": {},
       "output_type": "display_data",
       "png": "[encoded data removed]",
       "text": [
        "<matplotlib.figure.Figure at 0x105563ad0>"
       ]
      },
      {
       "output_type": "stream",
       "stream": "stdout",
       "text": [
        "Test accuracy: "
       ]
      },
      {
       "ename": "NameError",
       "evalue": "name 'y_valid1' is not defined",
       "output_type": "pyerr",
       "traceback": [
        "\u001b[0;31m---------------------------------------------------------------------------\u001b[0m\n\u001b[0;31mNameError\u001b[0m                                 Traceback (most recent call last)",
        "\u001b[0;32m<ipython-input-93-6c6aac563a60>\u001b[0m in \u001b[0;36m<module>\u001b[0;34m()\u001b[0m\n\u001b[1;32m     52\u001b[0m \u001b[0;31m#print \"A: airplane, B: automobile, C: bird, D: cat, E: deer, F: dog, G: frog, H: horse, I: ship, J: truck\"\u001b[0m\u001b[0;34m\u001b[0m\u001b[0;34m\u001b[0m\u001b[0m\n\u001b[1;32m     53\u001b[0m \u001b[0;34m\u001b[0m\u001b[0m\n\u001b[0;32m---> 54\u001b[0;31m \u001b[0;32mprint\u001b[0m \u001b[0;34m'Test accuracy: '\u001b[0m\u001b[0;34m,\u001b[0m \u001b[0mnp\u001b[0m\u001b[0;34m.\u001b[0m\u001b[0mmean\u001b[0m\u001b[0;34m(\u001b[0m\u001b[0mpredicted_labels\u001b[0m \u001b[0;34m==\u001b[0m \u001b[0my_valid1\u001b[0m\u001b[0;34m)\u001b[0m\u001b[0;34m\u001b[0m\u001b[0m\n\u001b[0m",
        "\u001b[0;31mNameError\u001b[0m: name 'y_valid1' is not defined"
       ]
      }
     ],
     "prompt_number": 93
    },
    {
     "cell_type": "markdown",
     "metadata": {},
     "source": [
      "# Fine-tuning\n",
      "use features coming from bvlc_reference and improve the performance of model"
     ]
    },
    {
     "cell_type": "code",
     "collapsed": false,
     "input": [
      "# Get features computed by running this dataset under alexnet, \n",
      "# bvlcc and consolidate the features with features coming from self-trained convnets\n",
      "# Train the model later based on these featurse\n",
      "\n",
      "# Conclusion - no improvement seen (sparse features, image size resized from 48*48 to 256*256)\n",
      "from cs231n.classifier_trainer import ClassifierTrainer\n",
      "\n",
      "bvlc_features = np.load('/Users/sagarc/Documents/cs231n/project/plankton/256_X_train_features.npy')\n",
      "print bvlc_features.shape\n",
      "print X_train_feats.shape\n",
      "num_cnn_feature_size = X_train_feats.shape[1]\n",
      "num_bvlc_feature_size = bvlc_features.shape[1]\n",
      "\n",
      "X_consolidated_features = np.zeros([X_train_feats.shape[0],  num_cnn_feature_size + num_bvlc_feature_size])\n",
      "X_val1_consolidated_features = np.zeros([X_val1_feats.shape[0],  num_cnn_feature_size + num_bvlc_feature_size])\n",
      "X_val2_consolidated_features = np.zeros([X_val1_feats.shape[0],  num_cnn_feature_size + num_bvlc_feature_size])\n",
      "\n",
      "f = open('/Users/sagarc/Documents/cs231n/project/plankton/filenames.txt', 'r')\n",
      "#f = open('/Users/sagarc/Documents/cs231n/project/plankton/filenames.txt', 'r')\n",
      "\n",
      "file_to_index_seque = {}\n",
      "count = 0\n",
      "for line in f:\n",
      "    #print line\n",
      "    file_to_index_seque[line.split()[0]] = count\n",
      "    count+=1\n",
      "#print file_to_index_seque\n",
      "\n",
      "for i in xrange(0, X_train_feats.shape[0]):\n",
      "    X_cnn_file_index = image_index[i]\n",
      "    filename = image_mapping[X_cnn_file_index]\n",
      "    X_bvlc_file_index = file_to_index_seque[filename]\n",
      "    X_consolidated_features[i][num_cnn_feature_size:] = bvlc_features[X_bvlc_file_index]\n",
      "    X_consolidated_features[i][0:num_cnn_feature_size] = X_train_feats[i]\n",
      "\n",
      "for i in xrange(0, X_val1_feats.shape[0]):\n",
      "    X_cnn_file_index = image_index[i]\n",
      "    filename = image_mapping[X_cnn_file_index]\n",
      "    X_bvlc_file_index = file_to_index_seque[filename]\n",
      "    X_val1_consolidated_features[i][num_cnn_feature_size:] = bvlc_features[X_bvlc_file_index]\n",
      "    X_val1_consolidated_features[i][0:num_cnn_feature_size] = X_val1_feats[i]\n",
      "    \n",
      "for i in xrange(0, X_val2_feats.shape[0]):\n",
      "    X_cnn_file_index = image_index[i]\n",
      "    filename = image_mapping[X_cnn_file_index]\n",
      "    X_bvlc_file_index = file_to_index_seque[filename]\n",
      "    X_val2_consolidated_features[i][num_cnn_feature_size:] = bvlc_features[X_bvlc_file_index]\n",
      "    X_val2_consolidated_features[i][0:num_cnn_feature_size] = X_val2_feats[i]\n",
      "print X_consolidated_features.shape\n",
      "print X_val1_consolidated_features.shape\n",
      "print X_val2_consolidated_features.shape\n"
     ],
     "language": "python",
     "metadata": {},
     "outputs": [
      {
       "output_type": "stream",
       "stream": "stdout",
       "text": [
        "(30336, 4096)\n",
        "(28336, 128)\n",
        "(28336, 4224)"
       ]
      },
      {
       "output_type": "stream",
       "stream": "stdout",
       "text": [
        "\n",
        "(1000, 4224)\n",
        "(1000, 4224)\n"
       ]
      }
     ],
     "prompt_number": 140
    },
    {
     "cell_type": "code",
     "collapsed": false,
     "input": [],
     "language": "python",
     "metadata": {},
     "outputs": []
    }
   ],
   "metadata": {}
  }
 ]
}