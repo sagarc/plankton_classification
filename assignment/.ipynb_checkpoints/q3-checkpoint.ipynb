{
 "metadata": {
  "name": "",
  "signature": "sha256:b1d3392ed2a214fedc6dd88692e17c01238082a41b1c36fea573926ebcf4acd3"
 },
 "nbformat": 3,
 "nbformat_minor": 0,
 "worksheets": [
  {
   "cells": [
    {
     "cell_type": "markdown",
     "metadata": {},
     "source": [
      "# Transfer learning\n",
      "In the previous exercise we introduced the TinyImageNet-100-A dataset, and combined a handful of pretrained models on this dataset to improve our classification performance.\n",
      "\n",
      "In this exercise we will explore several ways to adapt one of these same pretrained models to the TinyImageNet-100-B dataset, which does not share any images or object classes with TinyImage-100-A. We will see that we can use a pretrained classfier together with a small amount of training data from TinyImageNet-100-B to achieve reasonable performance on the TinyImageNet-100-B validation set."
     ]
    },
    {
     "cell_type": "code",
     "collapsed": false,
     "input": [
      "# A bit of setup\n",
      "\n",
      "import numpy as np\n",
      "import matplotlib.pyplot as plt\n",
      "from time import time\n",
      "\n",
      "%matplotlib inline\n",
      "plt.rcParams['figure.figsize'] = (10.0, 8.0) # set default size of plots\n",
      "plt.rcParams['image.interpolation'] = 'nearest'\n",
      "plt.rcParams['image.cmap'] = 'gray'\n",
      "\n",
      "# for auto-reloading extenrnal modules\n",
      "# see http://stackoverflow.com/questions/1907993/autoreload-of-modules-in-ipython\n",
      "%load_ext autoreload\n",
      "%autoreload 2"
     ],
     "language": "python",
     "metadata": {},
     "outputs": [],
     "prompt_number": 2
    },
    {
     "cell_type": "markdown",
     "metadata": {},
     "source": [
      "# Load data and model\n",
      "You should already have downloaded the TinyImageNet-100-A and TinyImageNet-100-B datasets along with the pretrained models. Run the cell below to load (a subset of) the TinyImageNet-100-B dataset and one of the models that was pretrained on TinyImageNet-100-A.\n",
      "\n",
      "TinyImageNet-100-B contains 50,000 training images in total (500 per class for all 100 classes) but for this exercise we will use only 5,000 training images (50 per class on average)."
     ]
    },
    {
     "cell_type": "code",
     "collapsed": false,
     "input": [
      "# Load the plankton dataset\n",
      "from cs231n.data_utils import load_plankton_dataset, load_models\n",
      "\n",
      "plankton_dataset = '../plankton'\n",
      "image_size = 48 #number of pixels (Image was resized to this)\n",
      "num_classes = 121\n",
      "        \n",
      "class_names, X_train, y_train, X_test = load_plankton_dataset(plankton_dataset)\n",
      "\n",
      "# Zero-mean the data\n",
      "print X_train.shape\n",
      "print y_train.shape\n",
      "print X_test.shape\n",
      "mean_img = np.mean(X_train, axis=0)\n",
      "X_train -= mean_img\n",
      "X_test -= mean_img\n",
      "\n",
      "\n"
     ],
     "language": "python",
     "metadata": {},
     "outputs": [
      {
       "output_type": "stream",
       "stream": "stdout",
       "text": [
        "loading training data for synset 20 / 121\n",
        "loading training data for synset 40 / 121"
       ]
      },
      {
       "output_type": "stream",
       "stream": "stdout",
       "text": [
        "\n",
        "loading training data for synset 60 / 121"
       ]
      },
      {
       "output_type": "stream",
       "stream": "stdout",
       "text": [
        "\n",
        "loading training data for synset 80 / 121"
       ]
      },
      {
       "output_type": "stream",
       "stream": "stdout",
       "text": [
        "\n",
        "loading training data for synset 100 / 121"
       ]
      },
      {
       "output_type": "stream",
       "stream": "stdout",
       "text": [
        "\n",
        "loading training data for synset 120 / 121"
       ]
      },
      {
       "output_type": "stream",
       "stream": "stdout",
       "text": [
        "\n",
        "[  0   0   0 ..., 120 120 120]"
       ]
      },
      {
       "output_type": "stream",
       "stream": "stdout",
       "text": [
        "\n",
        "(30336, 3, 48, 48)"
       ]
      },
      {
       "output_type": "stream",
       "stream": "stdout",
       "text": [
        "\n",
        "(30336,)\n",
        "(130400, 3, 48, 48)\n"
       ]
      }
     ],
     "prompt_number": 3
    },
    {
     "cell_type": "code",
     "collapsed": false,
     "input": [
      "# Split data into training and validation and test dataset\n",
      "# Shuffle the input and outputs\n",
      "print y_train\n",
      "num_examples = X_train.shape[0]\n",
      "print num_examples\n",
      "y_train = y_train.reshape([y_train.shape[0],1])\n",
      "print y_train.shape\n",
      "X_train_joined = X_train.reshape(num_examples, -1)\n",
      "X_train_joined = np.hstack([X_train_joined, y_train])\n",
      "print X_train_joined.shape\n",
      "print X_train_joined[:,-1]\n",
      "np.random.shuffle(X_train_joined)\n",
      "print X_train_joined[:,-1]\n",
      "\n",
      "X_train = X_train_joined[:,0:-1].reshape(num_examples, 3, image_size, image_size)\n",
      "print X_train.shape\n",
      "y_train = X_train_joined[:, -1]\n",
      "print y_train.shape\n",
      "\n",
      "\n",
      "num_valid1=1000\n",
      "num_valid2=1000\n",
      "num_training=X_train.shape[0] - num_valid1 - num_valid2\n",
      "\n",
      "\n",
      "# Subsample the data\n",
      "mask = range(num_training, num_training + num_valid1)\n",
      "X_val1 = X_train[mask]\n",
      "y_val1 = y_train[mask]\n",
      "mask = range(num_training + num_valid1, num_training + num_valid1 + num_valid2)\n",
      "X_val2 = X_train[mask]\n",
      "y_val2 = y_train[mask]\n",
      "mask = range(num_training)\n",
      "X_train = X_train[mask]\n",
      "y_train = y_train[mask]\n",
      "print X_train.shape\n",
      "print y_train.shape\n",
      "print X_val1.shape\n",
      "print y_val1.shape\n",
      "print X_val2.shape\n",
      "print y_val2.shape\n"
     ],
     "language": "python",
     "metadata": {},
     "outputs": [
      {
       "output_type": "stream",
       "stream": "stdout",
       "text": [
        "[  0   0   0 ..., 120 120 120]\n",
        "30336\n",
        "(30336, 1)\n",
        "(30336, 6913)"
       ]
      },
      {
       "output_type": "stream",
       "stream": "stdout",
       "text": [
        "\n",
        "[   0.    0.    0. ...,  120.  120.  120.]\n",
        "[  35.   25.  120. ...,   72.   98.   14.]"
       ]
      },
      {
       "output_type": "stream",
       "stream": "stdout",
       "text": [
        "\n",
        "(30336, 3, 48, 48)"
       ]
      },
      {
       "output_type": "stream",
       "stream": "stdout",
       "text": [
        "\n",
        "(30336,)\n",
        "(28336, 3, 48, 48)"
       ]
      },
      {
       "output_type": "stream",
       "stream": "stdout",
       "text": [
        "\n",
        "(28336,)\n",
        "(1000, 3, 48, 48)\n",
        "(1000,)\n",
        "(1000, 3, 48, 48)\n",
        "(1000,)\n"
       ]
      }
     ],
     "prompt_number": 4
    },
    {
     "cell_type": "code",
     "collapsed": false,
     "input": [
      "#Load a pretrained model; it is a five layer convnet.\n",
      "\n",
      "models_dir = 'cs231n/models/tiny-100-A-pretrained'\n",
      "model = load_models(models_dir)['model1']"
     ],
     "language": "python",
     "metadata": {},
     "outputs": [],
     "prompt_number": 5
    },
    {
     "cell_type": "code",
     "collapsed": false,
     "input": [
      "# Print class names from plankton dataset\n",
      "for names in class_names:\n",
      "    print names\n",
      "   "
     ],
     "language": "python",
     "metadata": {},
     "outputs": [
      {
       "output_type": "stream",
       "stream": "stdout",
       "text": [
        "acantharia_protist\n",
        "acantharia_protist_big_center\n",
        "acantharia_protist_halo\n",
        "amphipods\n",
        "appendicularian_fritillaridae\n",
        "appendicularian_s_shape\n",
        "appendicularian_slight_curve\n",
        "appendicularian_straight\n",
        "artifacts\n",
        "artifacts_edge\n",
        "chaetognath_non_sagitta\n",
        "chaetognath_other\n",
        "chaetognath_sagitta\n",
        "chordate_type1\n",
        "copepod_calanoid\n",
        "copepod_calanoid_eggs\n",
        "copepod_calanoid_eucalanus\n",
        "copepod_calanoid_flatheads\n",
        "copepod_calanoid_frillyAntennae\n",
        "copepod_calanoid_large\n",
        "copepod_calanoid_large_side_antennatucked\n",
        "copepod_calanoid_octomoms\n",
        "copepod_calanoid_small_longantennae\n",
        "copepod_cyclopoid_copilia\n",
        "copepod_cyclopoid_oithona\n",
        "copepod_cyclopoid_oithona_eggs\n",
        "copepod_other\n",
        "crustacean_other\n",
        "ctenophore_cestid\n",
        "ctenophore_cydippid_no_tentacles\n",
        "ctenophore_cydippid_tentacles\n",
        "ctenophore_lobate\n",
        "decapods\n",
        "detritus_blob\n",
        "detritus_filamentous\n",
        "detritus_other\n",
        "diatom_chain_string\n",
        "diatom_chain_tube\n",
        "echinoderm_larva_pluteus_brittlestar\n",
        "echinoderm_larva_pluteus_early\n",
        "echinoderm_larva_pluteus_typeC\n",
        "echinoderm_larva_pluteus_urchin\n",
        "echinoderm_larva_seastar_bipinnaria\n",
        "echinoderm_larva_seastar_brachiolaria\n",
        "echinoderm_seacucumber_auricularia_larva\n",
        "echinopluteus\n",
        "ephyra\n",
        "euphausiids\n",
        "euphausiids_young\n",
        "fecal_pellet\n",
        "fish_larvae_deep_body\n",
        "fish_larvae_leptocephali\n",
        "fish_larvae_medium_body\n",
        "fish_larvae_myctophids\n",
        "fish_larvae_thin_body\n",
        "fish_larvae_very_thin_body\n",
        "heteropod\n",
        "hydromedusae_aglaura\n",
        "hydromedusae_bell_and_tentacles\n",
        "hydromedusae_h15\n",
        "hydromedusae_haliscera\n",
        "hydromedusae_haliscera_small_sideview\n",
        "hydromedusae_liriope\n",
        "hydromedusae_narco_dark\n",
        "hydromedusae_narco_young\n",
        "hydromedusae_narcomedusae\n",
        "hydromedusae_other\n",
        "hydromedusae_partial_dark\n",
        "hydromedusae_shapeA\n",
        "hydromedusae_shapeA_sideview_small\n",
        "hydromedusae_shapeB\n",
        "hydromedusae_sideview_big\n",
        "hydromedusae_solmaris\n",
        "hydromedusae_solmundella\n",
        "hydromedusae_typeD\n",
        "hydromedusae_typeD_bell_and_tentacles\n",
        "hydromedusae_typeE\n",
        "hydromedusae_typeF\n",
        "invertebrate_larvae_other_A\n",
        "invertebrate_larvae_other_B\n",
        "jellies_tentacles\n",
        "polychaete\n",
        "protist_dark_center\n",
        "protist_fuzzy_olive\n",
        "protist_noctiluca\n",
        "protist_other\n",
        "protist_star\n",
        "pteropod_butterfly\n",
        "pteropod_theco_dev_seq\n",
        "pteropod_triangle\n",
        "radiolarian_chain\n",
        "radiolarian_colony\n",
        "shrimp-like_other\n",
        "shrimp_caridean\n",
        "shrimp_sergestidae\n",
        "shrimp_zoea\n",
        "siphonophore_calycophoran_abylidae\n",
        "siphonophore_calycophoran_rocketship_adult\n",
        "siphonophore_calycophoran_rocketship_young\n",
        "siphonophore_calycophoran_sphaeronectes\n",
        "siphonophore_calycophoran_sphaeronectes_stem\n",
        "siphonophore_calycophoran_sphaeronectes_young\n",
        "siphonophore_other_parts\n",
        "siphonophore_partial\n",
        "siphonophore_physonect\n",
        "siphonophore_physonect_young\n",
        "stomatopod\n",
        "tornaria_acorn_worm_larvae\n",
        "trichodesmium_bowtie\n",
        "trichodesmium_multiple\n",
        "trichodesmium_puff\n",
        "trichodesmium_tuft\n",
        "trochophore_larvae\n",
        "tunicate_doliolid\n",
        "tunicate_doliolid_nurse\n",
        "tunicate_partial\n",
        "tunicate_salp\n",
        "tunicate_salp_chains\n",
        "unknown_blobs_and_smudges\n",
        "unknown_sticks\n",
        "unknown_unclassified\n"
       ]
      }
     ],
     "prompt_number": 6
    },
    {
     "cell_type": "markdown",
     "metadata": {},
     "source": [
      "# Visualize Examples\n"
     ]
    },
    {
     "cell_type": "code",
     "collapsed": false,
     "input": [
      "# Visualize some examples of the training data\n",
      "classes_to_show = 7\n",
      "examples_per_class = 5\n",
      "\n",
      "class_idxs = np.random.choice(len(class_names), size=classes_to_show, replace=False)\n",
      "for i, class_idx in enumerate(class_idxs):\n",
      "    train_idxs, = np.nonzero(y_train == class_idx)\n",
      "    print train_idxs\n",
      "    train_idxs = np.random.choice(train_idxs, size=examples_per_class, replace=False)\n",
      "    for j, train_idx in enumerate(train_idxs):\n",
      "        img = X_train[train_idx] + mean_img\n",
      "        img = img.transpose(1, 2, 0).astype('uint8')\n",
      "        plt.subplot(examples_per_class, classes_to_show, 1 + i + classes_to_show * j)\n",
      "        if j == 0:\n",
      "            plt.title(class_names[class_idx])\n",
      "        plt.imshow(img)\n",
      "        plt.gca().axis('off')\n",
      "\n",
      "plt.show()"
     ],
     "language": "python",
     "metadata": {},
     "outputs": [
      {
       "output_type": "stream",
       "stream": "stdout",
       "text": [
        "[  230   480   578   635   938  1392  1406  1797  2680  3343  3772  3777\n",
        "  4009  4014  4097  4178  4692  4765  5541  5651  5674  6085  6233  6262\n",
        "  6342  6485  6607  6686  6709  6871  6920  7121  7465  7499  7561  7682\n",
        "  7771  7854  8131  8240  8304  8406  8512  8627  8946  9878  9935 10085\n",
        " 10221 10240 10605 11852 11980 11983 12198 13188 13224 13329 13629 13836\n",
        " 14713 14730 14789 15074 15180 15430 15757 15994 16145 16448 16463 16590\n",
        " 16633 16741 16878 16942 16993 17421 17573 18072 18115 19040 19055 19110\n",
        " 19115 19137 19281 19339 19498 19535 19793 19859 20018 20874 21037 21235\n",
        " 21576 22522 22736 22945 22969 23344 23634 23729 23913 24071 24134 24239\n",
        " 24533 24720 24850 24880 24946 25320 25354 25718 25965 26033 26110 26518\n",
        " 26595 26710 27052 27168 27175 27279 27350 27389 27455 27524 27631 27759\n",
        " 28179]\n",
        "[   96   131   446   454   476   644   691   753   801   809   891   913\n",
        "   959  1017  1029  1036  1050  1238  1299  1446  1448  1451  1506  1543\n",
        "  1592  1638  1667  1677  1747  1818  1963  1967  2021  2111  2161  2248\n",
        "  2256  2516  2530  2563  2644  2755  2825  2858  2902  3043  3066  3068\n",
        "  3075  3131  3168  3283  3325  3339  3415  3438  3470  3511  3543  3564\n",
        "  3606  3649  3691  3734  3840  3951  3972  3997  4080  4094  4137  4322\n",
        "  4358  4438  4460  4532  4536  4547  4653  4703  4770  4795  4844  4935\n",
        "  4947  4973  5002  5096  5110  5135  5238  5402  5719  5736  5759  5813\n",
        "  5829  5838  5865  5879  5907  6008  6077  6117  6121  6149  6384  6400\n",
        "  6430  6447  6560  6561  6612  6641  6694  6740  6751  6820  6823  6830\n",
        "  6880  6884  6895  6912  6926  6935  6940  7404  7434  7451  7804  7981\n",
        "  8083  8085  8094  8140  8179  8181  8236  8259  8307  8401  8416  8447\n",
        "  8467  8504  8529  8729  8737  8757  8771  8858  8889  8897  8927  9001\n",
        "  9045  9103  9192  9224  9230  9246  9267  9349  9393  9533  9547  9602\n",
        "  9636  9688  9724  9823  9833  9837  9858  9882  9958  9967 10040 10152\n",
        " 10188 10377 10403 10513 10631 10671 10676 10734 10883 10990 11027 11040\n",
        " 11044 11110 11214 11222 11321 11602 11776 11893 12046 12136 12235 12271\n",
        " 12274 12371 12407 12411 12413 12467 12488 12532 12571 12677 12748 12824\n",
        " 12842 12925 12943 12992 13005 13041 13118 13140 13227 13279 13360 13521\n",
        " 13525 13526 13573 13597 13599 13662 13698 13720 13723 13927 13984 13985\n",
        " 13993 14020 14093 14116 14121 14179 14249 14267 14330 14575 14673 14694\n",
        " 14696 14744 14770 14796 14816 14926 15139 15161 15217 15271 15296 15348\n",
        " 15351 15421 15493 15544 15624 15745 15765 15862 15906 15941 16119 16126\n",
        " 16136 16271 16440 16449 16492 16500 16579 16804 17036 17070 17088 17116\n",
        " 17298 17462 17508 17603 17612 17619 17735 17738 17777 17830 17851 17864\n",
        " 17921 17982 17988 18004 18092 18094 18258 18434 18457 18509 18580 18586\n",
        " 18590 18618 18648 18665 18839 18847 18874 18942 19083 19146 19232 19275\n",
        " 19379 19499 19502 19584 19722 19745 19814 19949 19957 19991 20031 20079\n",
        " 20161 20173 20196 20302 20314 20435 20548 20627 20714 20748 20778 20847\n",
        " 20867 20989 21036 21072 21238 21240 21297 21355 21370 21371 21523 21549\n",
        " 21707 21849 22040 22089 22090 22362 22455 22479 22572 22589 22650 22712\n",
        " 22883 23073 23208 23323 23342 23365 23366 23476 23624 23703 23755 23833\n",
        " 23885 23944 24054 24092 24151 24226 24333 24412 24440 24443 24505 24625\n",
        " 24692 24709 24730 24891 24923 24947 25018 25219 25249 25274 25352 25557\n",
        " 25571 25692 25710 25847 25957 26016 26088 26117 26186 26224 26350 26411\n",
        " 26486 26569 26601 26717 26812 26937 27075 27082 27096 27099 27249 27261\n",
        " 27335 27351 27419 27447 27451 27458 27463 27488 27564 27617 27626 27683\n",
        " 27768 27894 28154 28183]"
       ]
      },
      {
       "output_type": "stream",
       "stream": "stdout",
       "text": [
        "\n",
        "[  406   497   534   546   658   682   879  1398  2804  2986  3030  3116\n",
        "  4039  4040  4361  4681  4940  5239  5536  5570  5676  5815  5863  5922\n",
        "  5951  6088  6469  6725  6911  6969  7125  7334  7468  7588  8027  8037\n",
        "  8089  8619  8857  8977  9021  9065  9069  9165  9321  9582  9631  9765\n",
        "  9805  9811 10074 10176 10411 10641 10714 10751 11039 11360 11405 11788\n",
        " 12134 12319 12339 12710 12960 13277 14048 14108 14374 14410 14472 14529\n",
        " 14679 14738 14755 14990 15041 15163 15197 15233 15235 15358 15550 15716\n",
        " 15943 16075 16503 16714 16831 16832 16896 17096 17148 17340 17380 17389\n",
        " 17422 17596 17638 17787 17925 17963 18257 18336 18533 18639 18750 18808\n",
        " 18935 19015 19090 19223 19238 19413 19926 19939 20050 20087 20526 20820\n",
        " 20837 20912 21138 21356 21881 21982 22371 22598 22781 23568 24063 24111\n",
        " 24206 24418 25190 25473 25742 26250 26354 26379 26561 27357 27426 28019\n",
        " 28067 28098]"
       ]
      },
      {
       "output_type": "stream",
       "stream": "stdout",
       "text": [
        "\n",
        "[  414   430   696   955  2201  2597  3085  3094  3298  3794  3854  4246\n",
        "  4719  4845  4941  4987  5152  5208  5401  5745  6352  6356  6591  6656\n",
        "  6859  7184  7226  7693  8079  8081  8188  8628  8875  8993  9380  9626\n",
        " 11608 11708 11787 11860 12021 13240 13497 13509 13656 14593 14862 14951\n",
        " 15340 15357 15390 15549 15895 15989 16139 16652 17302 17527 17539 17843\n",
        " 17894 18099 18138 18271 18309 18571 18666 18852 18860 18918 19187 19263\n",
        " 19359 19473 19869 20153 20697 21162 21934 22465 22538 22664 23042 23286\n",
        " 23427 23987 24273 24390 24884 24933 25085 25168 25181 25321 25824 26021\n",
        " 26147 26846 26980 27035 27339 27561 27590 27710 27928]"
       ]
      },
      {
       "output_type": "stream",
       "stream": "stdout",
       "text": [
        "\n",
        "[   28    31    89   129   160   189   225   258   264   270   277   286\n",
        "   361   365   410   424   533   695   770   793   803   825   849   860\n",
        "   883   892   905   924   944  1033  1056  1086  1094  1203  1241  1254\n",
        "  1273  1275  1295  1313  1334  1386  1393  1404  1453  1478  1495  1549\n",
        "  1569  1586  1589  1836  1868  1884  1893  1989  2006  2036  2074  2077\n",
        "  2091  2146  2151  2184  2185  2187  2295  2307  2308  2314  2319  2325\n",
        "  2368  2372  2373  2384  2387  2424  2462  2468  2511  2596  2605  2668\n",
        "  2670  2721  2724  2757  2849  2890  2900  2924  2975  2988  3059  3108\n",
        "  3213  3218  3225  3309  3318  3355  3382  3418  3456  3510  3542  3546\n",
        "  3553  3554  3594  3595  3601  3644  3657  3703  3706  3719  3796  3855\n",
        "  3876  3886  3973  3975  3990  3991  4008  4045  4051  4058  4082  4093\n",
        "  4100  4118  4126  4162  4173  4239  4366  4377  4390  4392  4467  4606\n",
        "  4614  4628  4673  4674  4817  4960  4975  5018  5019  5037  5057  5080\n",
        "  5119  5168  5176  5185  5200  5225  5325  5357  5384  5387  5392  5407\n",
        "  5409  5449  5477  5519  5563  5565  5568  5574  5626  5636  5688  5730\n",
        "  5787  5892  5938  5961  5983  6092  6110  6137  6141  6150  6216  6283\n",
        "  6314  6412  6433  6444  6590  6602  6622  6623  6642  6710  6737  6742\n",
        "  6753  6764  6882  6913  7043  7048  7052  7170  7173  7197  7211  7286\n",
        "  7296  7304  7320  7415  7422  7462  7469  7498  7568  7622  7665  7703\n",
        "  7706  7738  7741  7782  7792  7891  7931  7941  7979  7991  8018  8065\n",
        "  8090  8106  8121  8155  8172  8295  8298  8353  8565  8675  8677  8763\n",
        "  8799  8892  9004  9005  9006  9038  9040  9048  9075  9129  9196  9248\n",
        "  9309  9318  9323  9329  9389  9392  9399  9426  9477  9536  9573  9594\n",
        "  9628  9629  9638  9640  9656  9663  9687  9720  9731  9784  9793  9829\n",
        "  9900  9925  9980 10016 10024 10097 10103 10220 10223 10243 10246 10247\n",
        " 10249 10279 10292 10299 10318 10397 10449 10500 10539 10551 10621 10692\n",
        " 10771 10806 10823 10926 10965 10973 11084 11141 11143 11149 11271 11290\n",
        " 11316 11333 11339 11361 11394 11419 11430 11477 11504 11538 11618 11656\n",
        " 11739 11799 11861 11873 11884 11935 11966 11977 12079 12089 12106 12202\n",
        " 12267 12278 12463 12465 12536 12613 12619 12636 12650 12659 12720 12739\n",
        " 12751 12767 12802 12882 12916 12921 13023 13154 13255 13312 13369 13381\n",
        " 13387 13428 13468 13551 13617 13638 13647 13683 13716 13750 13833 13850\n",
        " 13872 13888 13897 13924 13951 14016 14099 14195 14197 14214 14235 14237\n",
        " 14258 14264 14269 14281 14289 14298 14310 14391 14440 14469 14488 14510\n",
        " 14547 14551 14570 14596 14636 14695 14710 14791 14871 14894 14896 14913\n",
        " 14941 14949 14972 15051 15104 15117 15173 15239 15241 15288 15369 15412\n",
        " 15455 15486 15492 15514 15530 15542 15587 15602 15627 15666 15679 15699\n",
        " 15717 15748 15770 15881 15948 16003 16081 16084 16097 16104 16113 16134\n",
        " 16138 16143 16225 16267 16278 16288 16291 16333 16369 16460 16493 16497\n",
        " 16564 16627 16638 16746 16750 16771 16797 16915 16931 16932 16962 16963\n",
        " 17001 17104 17106 17138 17246 17262 17318 17332 17409 17445 17503 17505\n",
        " 17520 17611 17648 17670 17696 17710 17766 17775 17966 17979 18005 18041\n",
        " 18051 18064 18086 18098 18177 18301 18319 18400 18422 18565 18584 18744\n",
        " 18810 18818 18864 18880 18886 19026 19092 19120 19151 19174 19358 19396\n",
        " 19403 19424 19563 19581 19606 19646 19667 19706 19713 19755 19764 19789\n",
        " 19860 19865 19962 19989 20022 20130 20135 20224 20257 20269 20333 20385\n",
        " 20421 20455 20463 20573 20589 20607 20653 20958 21039 21055 21056 21067\n",
        " 21123 21140 21145 21158 21190 21204 21215 21227 21233 21257 21288 21298\n",
        " 21303 21351 21527 21534 21547 21579 21582 21629 21674 21734 21741 21813\n",
        " 21843 22033 22051 22066 22150 22178 22305 22317 22318 22358 22396 22474\n",
        " 22492 22529 22620 22645 22653 22692 22731 22733 22767 22805 22844 22928\n",
        " 22984 23021 23063 23135 23144 23150 23167 23187 23214 23235 23296 23324\n",
        " 23382 23499 23520 23541 23543 23550 23575 23607 23626 23629 23661 23684\n",
        " 23723 23849 23872 23984 23997 24023 24035 24104 24120 24138 24190 24192\n",
        " 24208 24276 24281 24299 24306 24323 24395 24415 24417 24470 24491 24493\n",
        " 24606 24626 24698 24722 24810 24836 24838 24859 24866 24924 24945 24961\n",
        " 25096 25098 25104 25150 25151 25239 25242 25258 25269 25276 25317 25339\n",
        " 25402 25478 25488 25520 25564 25596 25602 25618 25625 25637 25654 25719\n",
        " 25798 25819 25821 25837 25884 25899 25934 25989 26084 26146 26179 26184\n",
        " 26204 26220 26251 26357 26368 26371 26387 26456 26501 26535 26636 26669\n",
        " 26685 26695 26719 26746 26776 26786 26828 26843 26849 26857 26861 26926\n",
        " 26944 26967 26972 26985 27104 27157 27159 27166 27174 27252 27280 27327\n",
        " 27359 27366 27496 27499 27538 27540 27552 27582 27600 27613 27629 27718\n",
        " 27788 27859 27897 27909 27913 27939 27977 28005 28014 28015 28017 28025\n",
        " 28027 28281]"
       ]
      },
      {
       "output_type": "stream",
       "stream": "stdout",
       "text": [
        "\n",
        "[  219   802  1350  1419  1474  1744  2366  3001  3041  3352  3408  3472\n",
        "  3572  3690  3865  4088  4321  5093  5175  5257  5500  5827  6082  6147\n",
        "  6243  6556  7347  7674  7780  7875  7879  8200  8505  8520  8554  8752\n",
        "  9072  9095  9240  9304  9385 10168 10282 10567 10760 10795 10860 10925\n",
        " 10952 11131 11140 11186 11194 11287 11669 11821 11926 11978 12358 12708\n",
        " 12849 13075 13153 13686 13734 14014 15082 15247 15619 16302 16603 16785\n",
        " 17027 17448 17918 18198 18276 18521 18840 19333 19377 19872 20390 20703\n",
        " 20833 21017 21028 21418 21688 21727 21755 22077 22341 22345 22575 22665\n",
        " 22902 23789 23940 24039 24049 24097 24462 24549 24573 24649 24696 24713\n",
        " 25122 25394 25801 25979 26103 26137 26213 26443 26566 26620 26725 26850\n",
        " 27097 27566 27662 27889]"
       ]
      },
      {
       "output_type": "stream",
       "stream": "stdout",
       "text": [
        "\n",
        "[  249  2168  2198  2815  2864  3483  3974  4170  5336  6095  6291  6417\n",
        "  6514  6563  7006  7100  7260  7989  8441  8487  8611  8792  9010  9106\n",
        "  9282 10141 10402 10469 11132 12195 12301 13034 13063 13163 13211 13439\n",
        " 13630 13709 13971 14261 14458 15057 15903 16498 16695 17750 17761 18123\n",
        " 19297 19365 20441 21141 22047 22119 22149 22559 23371 23592 23643 24028\n",
        " 24184 24244 24521 24565 24678 24828 24920 25415 25744 25994 26567 26960\n",
        " 28003 28218]"
       ]
      },
      {
       "output_type": "stream",
       "stream": "stdout",
       "text": [
        "\n"
       ]
      },
      {
       "metadata": {},
       "output_type": "display_data",
       "png": "[encoded data removed]",
       "text": [
        "<matplotlib.figure.Figure at 0x106d93350>"
       ]
      }
     ],
     "prompt_number": 7
    },
    {
     "cell_type": "heading",
     "level": 1,
     "metadata": {},
     "source": [
      "Training!\n",
      "\n",
      "Train your own convnet here! Use layers available in assignment 2:\n",
      "Split the training data into train,validation,test"
     ]
    },
    {
     "cell_type": "code",
     "collapsed": false,
     "input": [
      "from cs231n.classifier_trainer import ClassifierTrainer\n",
      "from cs231n.gradient_check import eval_numerical_gradient\n",
      "from cs231n.classifiers.convnet import two_layer_convnet\n",
      "\n",
      "\n",
      "model = init_two_layer_convnet(input_shape=(3,48,48), num_classes = 121)\n",
      "trainer = ClassifierTrainer()\n",
      "best_model, loss_history, train_acc_history, val_acc_history = trainer.train(\n",
      "          X_train[:100], y_train[:100], X_val1, y_val1, model, two_layer_convnet,\n",
      "          reg=0.001, momentum=0.9, learning_rate=0.0001, batch_size=10, num_epochs=10,\n",
      "          verbose=True)\n",
      "\n",
      "\n",
      "\"\"\"from cs231n.classifiers.neural_net import two_layer_net\n",
      "from cs231n.classifiers.neural_net import init_two_layer_model\n",
      "\n",
      "model = init_two_layer_model(48*48*3, 50, num_classes) # input size, hidden size, number of classes\n",
      "trainer = ClassifierTrainer()\n",
      "best_model, loss_history, train_acc, val_acc = trainer.train(X_train, y_train, X_val1, y_val1,\n",
      "                                             model, two_layer_net,\n",
      "                                             num_epochs=5, reg=1.0,\n",
      "                                             momentum=0.9, learning_rate_decay = 0.95,\n",
      "                                             learning_rate=1e-5, verbose=True)\"\"\"\n"
     ],
     "language": "python",
     "metadata": {},
     "outputs": [
      {
       "output_type": "stream",
       "stream": "stdout",
       "text": [
        "[  35.   25.  120. ...,  113.  110.  118.]\n",
        "starting iteration "
       ]
      },
      {
       "output_type": "stream",
       "stream": "stdout",
       "text": [
        " 0\n",
        "(10, 121)"
       ]
      },
      {
       "output_type": "stream",
       "stream": "stdout",
       "text": [
        "\n",
        "(10, 121)\n",
        "(10,)\n",
        "10\n",
        "<type 'numpy.float64'>\n",
        "[ 113.   11.  110.  110.    8.   65.   85.    6.   72.   85.]\n",
        "<type 'numpy.int64'>\n",
        "Finished epoch 0 / 10: cost 4.807981, train: 0.010000, val 0.008000, lr 1.000000e-04"
       ]
      },
      {
       "output_type": "stream",
       "stream": "stdout",
       "text": [
        "\n",
        "(10, 121)\n",
        "(10, 121)\n",
        "(10,)\n",
        "10\n",
        "<type 'numpy.float64'>\n",
        "[   5.   10.    9.   12.    0.   42.   10.   36.  110.   10.]\n",
        "<type 'numpy.int64'>\n",
        "(10, 121)"
       ]
      },
      {
       "output_type": "stream",
       "stream": "stdout",
       "text": [
        "\n",
        "(10, 121)\n",
        "(10,)\n",
        "10\n",
        "<type 'numpy.float64'>\n",
        "[  85.  110.   10.  110.   96.  115.  111.   11.    6.    6.]\n",
        "<type 'numpy.int64'>\n",
        "(10, 121)"
       ]
      },
      {
       "output_type": "stream",
       "stream": "stdout",
       "text": [
        "\n",
        "(10, 121)\n",
        "(10,)\n",
        "10\n",
        "<type 'numpy.float64'>\n",
        "[  85.   69.   35.   24.    6.   24.  111.  108.    6.   24.]\n",
        "<type 'numpy.int64'>\n",
        "(10, 121)"
       ]
      },
      {
       "output_type": "stream",
       "stream": "stdout",
       "text": [
        "\n",
        "(10, 121)\n",
        "(10,)\n",
        "10\n",
        "<type 'numpy.float64'>\n",
        "[ 85.   0.  81.  35.  91.  87.  24.  65.  81.  49.]\n",
        "<type 'numpy.int64'>\n",
        "(10, 121)"
       ]
      },
      {
       "output_type": "stream",
       "stream": "stdout",
       "text": [
        "\n",
        "(10, 121)\n",
        "(10,)\n",
        "10\n",
        "<type 'numpy.float64'>\n",
        "[ 19.  85.   6.   6.  58.   0.  12.   5.  68.  49.]\n",
        "<type 'numpy.int64'>\n",
        "(10, 121)"
       ]
      },
      {
       "output_type": "stream",
       "stream": "stdout",
       "text": [
        "\n",
        "(10, 121)\n",
        "(10,)\n",
        "10\n",
        "<type 'numpy.float64'>\n",
        "[  91.  108.   10.   24.  120.   34.   69.  108.  116.   87.]\n",
        "<type 'numpy.int64'>\n",
        "(10, 121)"
       ]
      },
      {
       "output_type": "stream",
       "stream": "stdout",
       "text": [
        "\n",
        "(10, 121)\n",
        "(10,)\n",
        "10\n",
        "<type 'numpy.float64'>\n",
        "[ 120.  113.   15.   85.   69.   42.   10.   91.    5.   68.]\n",
        "<type 'numpy.int64'>\n",
        "(10, 121)"
       ]
      },
      {
       "output_type": "stream",
       "stream": "stdout",
       "text": [
        "\n",
        "(10, 121)\n",
        "(10,)\n",
        "10\n",
        "<type 'numpy.float64'>\n",
        "[   5.  120.  108.   45.   49.  114.   36.  110.   95.   55.]\n",
        "<type 'numpy.int64'>\n",
        "(10, 121)"
       ]
      },
      {
       "output_type": "stream",
       "stream": "stdout",
       "text": [
        "\n",
        "(10, 121)\n",
        "(10,)\n",
        "10\n",
        "<type 'numpy.float64'>\n",
        "[ 114.   35.  111.   95.   35.   98.    5.   10.   65.  111.]\n",
        "<type 'numpy.int64'>\n",
        "Finished epoch 1 / 10: cost 4.643601, train: 0.080000, val 0.024000, lr 9.500000e-05"
       ]
      },
      {
       "output_type": "stream",
       "stream": "stdout",
       "text": [
        "\n",
        "starting iteration  10\n",
        "(10, 121)\n",
        "(10, 121)\n",
        "(10,)\n",
        "10\n",
        "<type 'numpy.float64'>\n",
        "[  42.  110.   24.  108.  110.   85.   12.   11.  110.   68.]\n",
        "<type 'numpy.int64'>\n",
        "(10, 121)"
       ]
      },
      {
       "output_type": "stream",
       "stream": "stdout",
       "text": [
        "\n",
        "(10, 121)\n",
        "(10,)\n",
        "10\n",
        "<type 'numpy.float64'>\n",
        "[  12.   24.   29.    9.  114.   14.    0.   49.  111.   17.]\n",
        "<type 'numpy.int64'>\n",
        "(10, 121)"
       ]
      },
      {
       "output_type": "stream",
       "stream": "stdout",
       "text": [
        "\n",
        "(10, 121)\n",
        "(10,)\n",
        "10\n",
        "<type 'numpy.float64'>\n",
        "[  11.   68.    0.   14.   14.   12.   72.  104.   42.   19.]\n",
        "<type 'numpy.int64'>\n",
        "(10, 121)"
       ]
      },
      {
       "output_type": "stream",
       "stream": "stdout",
       "text": [
        "\n",
        "(10, 121)\n",
        "(10,)\n",
        "10\n",
        "<type 'numpy.float64'>\n",
        "[ 17.  49.  24.  12.  20.  11.   0.   5.  55.   6.]\n",
        "<type 'numpy.int64'>\n",
        "(10, 121)"
       ]
      },
      {
       "output_type": "stream",
       "stream": "stdout",
       "text": [
        "\n",
        "(10, 121)\n",
        "(10,)\n",
        "10\n",
        "<type 'numpy.float64'>\n",
        "[  24.   87.   68.   24.   96.   10.  116.   15.   42.  108.]\n",
        "<type 'numpy.int64'>\n",
        "(10, 121)"
       ]
      },
      {
       "output_type": "stream",
       "stream": "stdout",
       "text": [
        "\n",
        "(10, 121)\n",
        "(10,)\n",
        "10\n",
        "<type 'numpy.float64'>\n",
        "[  14.  110.   42.  114.   10.   10.   19.   19.   85.  108.]\n",
        "<type 'numpy.int64'>\n",
        "(10, 121)"
       ]
      },
      {
       "output_type": "stream",
       "stream": "stdout",
       "text": [
        "\n",
        "(10, 121)\n",
        "(10,)\n",
        "10\n",
        "<type 'numpy.float64'>\n",
        "[  83.   72.  108.  113.  111.   72.    0.   91.   34.   81.]\n",
        "<type 'numpy.int64'>\n",
        "(10, 121)"
       ]
      },
      {
       "output_type": "stream",
       "stream": "stdout",
       "text": [
        "\n",
        "(10, 121)\n",
        "(10,)\n",
        "10\n",
        "<type 'numpy.float64'>\n",
        "[  20.   49.   12.   35.   43.    0.  114.    0.   36.  115.]\n",
        "<type 'numpy.int64'>\n",
        "(10, 121)"
       ]
      },
      {
       "output_type": "stream",
       "stream": "stdout",
       "text": [
        "\n",
        "(10, 121)\n",
        "(10,)\n",
        "10\n",
        "<type 'numpy.float64'>\n",
        "[ 110.   58.   29.   42.   55.  111.   17.   24.   35.   29.]\n",
        "<type 'numpy.int64'>\n",
        "(10, 121)"
       ]
      },
      {
       "output_type": "stream",
       "stream": "stdout",
       "text": [
        "\n",
        "(10, 121)\n",
        "(10,)\n",
        "10\n",
        "<type 'numpy.float64'>\n",
        "[  35.   34.   34.   12.   68.  111.   11.  111.  114.   85.]\n",
        "<type 'numpy.int64'>\n",
        "Finished epoch 2 / 10: cost 2.396208, train: 0.350000, val 0.074000, lr 9.025000e-05"
       ]
      },
      {
       "output_type": "stream",
       "stream": "stdout",
       "text": [
        "\n",
        "starting iteration  20\n",
        "(10, 121)\n",
        "(10, 121)\n",
        "(10,)\n",
        "10\n",
        "<type 'numpy.float64'>\n",
        "[  24.  108.   24.  102.   25.   15.  110.   85.   98.   74.]\n",
        "<type 'numpy.int64'>\n",
        "(10, 121)"
       ]
      },
      {
       "output_type": "stream",
       "stream": "stdout",
       "text": [
        "\n",
        "(10, 121)\n",
        "(10,)\n",
        "10\n",
        "<type 'numpy.float64'>\n",
        "[  24.   29.   24.   68.   58.  114.   25.   42.   85.   35.]\n",
        "<type 'numpy.int64'>\n",
        "(10, 121)"
       ]
      },
      {
       "output_type": "stream",
       "stream": "stdout",
       "text": [
        "\n",
        "(10, 121)\n",
        "(10,)\n",
        "10\n",
        "<type 'numpy.float64'>\n",
        "[  83.    9.  110.   15.   65.   81.   36.    0.    6.    0.]\n",
        "<type 'numpy.int64'>\n",
        "(10, 121)"
       ]
      },
      {
       "output_type": "stream",
       "stream": "stdout",
       "text": [
        "\n",
        "(10, 121)\n",
        "(10,)\n",
        "10\n",
        "<type 'numpy.float64'>\n",
        "[ 110.    9.  101.    5.  110.   11.   10.  116.   10.   43.]\n",
        "<type 'numpy.int64'>\n",
        "(10, 121)"
       ]
      },
      {
       "output_type": "stream",
       "stream": "stdout",
       "text": [
        "\n",
        "(10, 121)\n",
        "(10,)\n",
        "10\n",
        "<type 'numpy.float64'>\n",
        "[ 116.   10.    0.   91.   24.   10.   24.  110.   85.   12.]\n",
        "<type 'numpy.int64'>\n",
        "(10, 121)"
       ]
      },
      {
       "output_type": "stream",
       "stream": "stdout",
       "text": [
        "\n",
        "(10, 121)\n",
        "(10,)\n",
        "10\n",
        "<type 'numpy.float64'>\n",
        "[   8.   11.  108.   14.   85.   83.   42.  104.   36.  110.]\n",
        "<type 'numpy.int64'>\n",
        "(10, 121)"
       ]
      },
      {
       "output_type": "stream",
       "stream": "stdout",
       "text": [
        "\n",
        "(10, 121)\n",
        "(10,)\n",
        "10\n",
        "<type 'numpy.float64'>\n",
        "[ 85.   0.  35.  42.  11.  12.  34.  45.  10.   5.]\n",
        "<type 'numpy.int64'>\n",
        "(10, 121)"
       ]
      },
      {
       "output_type": "stream",
       "stream": "stdout",
       "text": [
        "\n",
        "(10, 121)\n",
        "(10,)\n",
        "10\n",
        "<type 'numpy.float64'>\n",
        "[  43.  104.   10.    0.   68.  110.    5.   49.  114.    0.]\n",
        "<type 'numpy.int64'>\n",
        "(10, 121)"
       ]
      },
      {
       "output_type": "stream",
       "stream": "stdout",
       "text": [
        "\n",
        "(10, 121)\n",
        "(10,)\n",
        "10\n",
        "<type 'numpy.float64'>\n",
        "[  85.    6.   11.   35.    8.  104.   25.  116.    9.   24.]\n",
        "<type 'numpy.int64'>\n",
        "(10, 121)"
       ]
      },
      {
       "output_type": "stream",
       "stream": "stdout",
       "text": [
        "\n",
        "(10, 121)\n",
        "(10,)\n",
        "10\n",
        "<type 'numpy.float64'>\n",
        "[   8.  114.    9.   91.   25.   11.   10.   24.    6.   29.]\n",
        "<type 'numpy.int64'>\n",
        "Finished epoch 3 / 10: cost 2.219765, train: 0.500000, val 0.175000, lr 8.573750e-05"
       ]
      },
      {
       "output_type": "stream",
       "stream": "stdout",
       "text": [
        "\n",
        "starting iteration  30\n",
        "(10, 121)\n",
        "(10, 121)\n",
        "(10,)\n",
        "10\n",
        "<type 'numpy.float64'>\n",
        "[  19.   15.   91.   12.  120.  104.   12.   81.  111.   17.]\n",
        "<type 'numpy.int64'>\n",
        "(10, 121)"
       ]
      },
      {
       "output_type": "stream",
       "stream": "stdout",
       "text": [
        "\n",
        "(10, 121)\n",
        "(10,)\n",
        "10\n",
        "<type 'numpy.float64'>\n",
        "[ 98.  24.  24.  29.  25.  35.  29.   0.  10.  87.]\n",
        "<type 'numpy.int64'>\n",
        "(10, 121)"
       ]
      },
      {
       "output_type": "stream",
       "stream": "stdout",
       "text": [
        "\n",
        "(10, 121)\n",
        "(10,)\n",
        "10\n",
        "<type 'numpy.float64'>\n",
        "[  35.    0.    6.   12.  120.   25.  113.   83.   10.   15.]\n",
        "<type 'numpy.int64'>\n",
        "(10, 121)"
       ]
      },
      {
       "output_type": "stream",
       "stream": "stdout",
       "text": [
        "\n",
        "(10, 121)\n",
        "(10,)\n",
        "10\n",
        "<type 'numpy.float64'>\n",
        "[ 116.   85.  113.   43.   24.  101.  110.   85.   35.    9.]\n",
        "<type 'numpy.int64'>\n",
        "(10, 121)"
       ]
      },
      {
       "output_type": "stream",
       "stream": "stdout",
       "text": [
        "\n",
        "(10, 121)\n",
        "(10,)\n",
        "10\n",
        "<type 'numpy.float64'>\n",
        "[   6.   42.   95.   43.  120.  116.   95.   25.   45.  101.]\n",
        "<type 'numpy.int64'>\n",
        "(10, 121)"
       ]
      },
      {
       "output_type": "stream",
       "stream": "stdout",
       "text": [
        "\n",
        "(10, 121)\n",
        "(10,)\n",
        "10\n",
        "<type 'numpy.float64'>\n",
        "[ 120.   42.   24.   29.   10.    5.  120.   17.    0.  111.]\n",
        "<type 'numpy.int64'>\n",
        "(10, 121)"
       ]
      },
      {
       "output_type": "stream",
       "stream": "stdout",
       "text": [
        "\n",
        "(10, 121)\n",
        "(10,)\n",
        "10\n",
        "<type 'numpy.float64'>\n",
        "[  17.  113.  110.   96.   43.   15.   96.   43.   14.   24.]\n",
        "<type 'numpy.int64'>\n",
        "(10, 121)"
       ]
      },
      {
       "output_type": "stream",
       "stream": "stdout",
       "text": [
        "\n",
        "(10, 121)\n",
        "(10,)\n",
        "10\n",
        "<type 'numpy.float64'>\n",
        "[  95.   35.  101.   72.   35.  111.   20.    0.   91.  118.]\n",
        "<type 'numpy.int64'>\n",
        "(10, 121)"
       ]
      },
      {
       "output_type": "stream",
       "stream": "stdout",
       "text": [
        "\n",
        "(10, 121)\n",
        "(10,)\n",
        "10\n",
        "<type 'numpy.float64'>\n",
        "[  43.   68.   24.   14.   25.  111.  111.   35.  111.   49.]\n",
        "<type 'numpy.int64'>\n",
        "(10, 121)"
       ]
      },
      {
       "output_type": "stream",
       "stream": "stdout",
       "text": [
        "\n",
        "(10, 121)\n",
        "(10,)\n",
        "10\n",
        "<type 'numpy.float64'>\n",
        "[  95.   24.   12.    6.   49.   43.    9.   24.  116.   43.]\n",
        "<type 'numpy.int64'>\n",
        "Finished epoch 4 / 10: cost 0.802388, train: 0.640000, val 0.078000, lr 8.145062e-05"
       ]
      },
      {
       "output_type": "stream",
       "stream": "stdout",
       "text": [
        "\n",
        "starting iteration  40\n",
        "(10, 121)\n",
        "(10, 121)\n",
        "(10,)\n",
        "10\n",
        "<type 'numpy.float64'>\n",
        "[ 111.    6.    6.   35.   68.   19.   65.  120.  101.   25.]\n",
        "<type 'numpy.int64'>\n",
        "(10, 121)"
       ]
      },
      {
       "output_type": "stream",
       "stream": "stdout",
       "text": [
        "\n",
        "(10, 121)\n",
        "(10,)\n",
        "10\n",
        "<type 'numpy.float64'>\n",
        "[ 120.    0.   24.    5.  108.   68.  108.   68.   96.  111.]\n",
        "<type 'numpy.int64'>\n",
        "(10, 121)"
       ]
      },
      {
       "output_type": "stream",
       "stream": "stdout",
       "text": [
        "\n",
        "(10, 121)\n",
        "(10,)\n",
        "10\n",
        "<type 'numpy.float64'>\n",
        "[  10.   35.   11.   65.  114.   11.  110.   35.    5.  120.]\n",
        "<type 'numpy.int64'>\n",
        "(10, 121)"
       ]
      },
      {
       "output_type": "stream",
       "stream": "stdout",
       "text": [
        "\n",
        "(10, 121)\n",
        "(10,)\n",
        "10\n",
        "<type 'numpy.float64'>\n",
        "[ 110.   12.  110.   43.    0.   35.   68.   24.  110.   42.]\n",
        "<type 'numpy.int64'>\n",
        "(10, 121)"
       ]
      },
      {
       "output_type": "stream",
       "stream": "stdout",
       "text": [
        "\n",
        "(10, 121)\n",
        "(10,)\n",
        "10\n",
        "<type 'numpy.float64'>\n",
        "[  43.  111.   35.   43.   25.   85.   35.   10.    0.  110.]\n",
        "<type 'numpy.int64'>\n",
        "(10, 121)"
       ]
      },
      {
       "output_type": "stream",
       "stream": "stdout",
       "text": [
        "\n",
        "(10, 121)\n",
        "(10,)\n",
        "10\n",
        "<type 'numpy.float64'>\n",
        "[  14.   68.    8.   42.    9.   74.   10.   25.  108.  110.]\n",
        "<type 'numpy.int64'>\n",
        "(10, 121)"
       ]
      },
      {
       "output_type": "stream",
       "stream": "stdout",
       "text": [
        "\n",
        "(10, 121)\n",
        "(10,)\n",
        "10\n",
        "<type 'numpy.float64'>\n",
        "[  96.    9.  108.    5.  116.    0.   96.   98.  104.   68.]\n",
        "<type 'numpy.int64'>\n",
        "(10, 121)"
       ]
      },
      {
       "output_type": "stream",
       "stream": "stdout",
       "text": [
        "\n",
        "(10, 121)\n",
        "(10,)\n",
        "10\n",
        "<type 'numpy.float64'>\n",
        "[   6.   25.   85.   29.   91.   17.   43.   83.  110.   35.]\n",
        "<type 'numpy.int64'>\n",
        "(10, 121)"
       ]
      },
      {
       "output_type": "stream",
       "stream": "stdout",
       "text": [
        "\n",
        "(10, 121)\n",
        "(10,)\n",
        "10\n",
        "<type 'numpy.float64'>\n",
        "[  85.  111.   11.  108.  114.   35.   10.  114.    0.   55.]\n",
        "<type 'numpy.int64'>\n",
        "(10, 121)"
       ]
      },
      {
       "output_type": "stream",
       "stream": "stdout",
       "text": [
        "\n",
        "(10, 121)\n",
        "(10,)\n",
        "10\n",
        "<type 'numpy.float64'>\n",
        "[ 101.   10.   95.    8.  110.   24.    0.  110.    0.   68.]\n",
        "<type 'numpy.int64'>\n",
        "Finished epoch 5 / 10: cost 0.533825, train: 0.630000, val 0.152000, lr 7.737809e-05"
       ]
      },
      {
       "output_type": "stream",
       "stream": "stdout",
       "text": [
        "\n",
        "starting iteration  50\n",
        "(10, 121)\n",
        "(10, 121)\n",
        "(10,)\n",
        "10\n",
        "<type 'numpy.float64'>\n",
        "[  19.  111.  114.   95.  114.   42.    6.   35.   24.   43.]\n",
        "<type 'numpy.int64'>\n",
        "(10, 121)"
       ]
      },
      {
       "output_type": "stream",
       "stream": "stdout",
       "text": [
        "\n",
        "(10, 121)\n",
        "(10,)\n",
        "10\n",
        "<type 'numpy.float64'>\n",
        "[   0.   35.   11.  110.   85.   85.   69.   49.  108.   20.]\n",
        "<type 'numpy.int64'>\n",
        "(10, 121)"
       ]
      },
      {
       "output_type": "stream",
       "stream": "stdout",
       "text": [
        "\n",
        "(10, 121)\n",
        "(10,)\n",
        "10\n",
        "<type 'numpy.float64'>\n",
        "[   6.   11.   17.    0.   24.   85.    0.  114.   14.  118.]\n",
        "<type 'numpy.int64'>\n",
        "(10, 121)"
       ]
      },
      {
       "output_type": "stream",
       "stream": "stdout",
       "text": [
        "\n",
        "(10, 121)\n",
        "(10,)\n",
        "10\n",
        "<type 'numpy.float64'>\n",
        "[  91.  120.   85.   24.  115.   45.  108.   29.   34.    0.]"
       ]
      },
      {
       "output_type": "stream",
       "stream": "stdout",
       "text": [
        "\n",
        "<type 'numpy.int64'>\n",
        "(10, 121)"
       ]
      },
      {
       "output_type": "stream",
       "stream": "stdout",
       "text": [
        "\n",
        "(10, 121)\n",
        "(10,)\n",
        "10\n",
        "<type 'numpy.float64'>\n",
        "[   9.  118.   10.  114.  110.   85.   35.   10.   35.  110.]\n",
        "<type 'numpy.int64'>\n",
        "(10, 121)"
       ]
      },
      {
       "output_type": "stream",
       "stream": "stdout",
       "text": [
        "\n",
        "(10, 121)\n",
        "(10,)\n",
        "10\n",
        "<type 'numpy.float64'>\n",
        "[ 114.   20.   85.   19.   11.   12.   85.    6.   24.  111.]\n",
        "<type 'numpy.int64'>\n",
        "(10, 121)"
       ]
      },
      {
       "output_type": "stream",
       "stream": "stdout",
       "text": [
        "\n",
        "(10, 121)\n",
        "(10,)\n",
        "10\n",
        "<type 'numpy.float64'>\n",
        "[   9.   42.    0.    0.  111.    0.  102.   29.  120.   24.]\n",
        "<type 'numpy.int64'>\n",
        "(10, 121)"
       ]
      },
      {
       "output_type": "stream",
       "stream": "stdout",
       "text": [
        "\n",
        "(10, 121)\n",
        "(10,)\n",
        "10\n",
        "<type 'numpy.float64'>\n",
        "[  74.   69.   24.  114.   20.   25.    0.   14.    9.   43.]\n",
        "<type 'numpy.int64'>\n",
        "(10, 121)"
       ]
      },
      {
       "output_type": "stream",
       "stream": "stdout",
       "text": [
        "\n",
        "(10, 121)\n",
        "(10,)\n",
        "10\n",
        "<type 'numpy.float64'>\n",
        "[  36.  110.   85.    9.   12.    0.   91.   24.   68.   35.]\n",
        "<type 'numpy.int64'>\n",
        "(10, 121)"
       ]
      },
      {
       "output_type": "stream",
       "stream": "stdout",
       "text": [
        "\n",
        "(10, 121)\n",
        "(10,)\n",
        "10\n",
        "<type 'numpy.float64'>\n",
        "[  42.   85.   35.   11.  120.   35.   68.   34.   42.   96.]\n",
        "<type 'numpy.int64'>\n",
        "Finished epoch 6 / 10: cost 0.034554, train: 0.750000, val 0.107000, lr 7.350919e-05"
       ]
      },
      {
       "output_type": "stream",
       "stream": "stdout",
       "text": [
        "\n",
        "starting iteration  60\n",
        "(10, 121)\n",
        "(10, 121)\n",
        "(10,)\n",
        "10\n",
        "<type 'numpy.float64'>\n",
        "[ 101.    5.   85.   24.   25.  110.   35.  108.   12.  111.]\n",
        "<type 'numpy.int64'>\n",
        "(10, 121)"
       ]
      },
      {
       "output_type": "stream",
       "stream": "stdout",
       "text": [
        "\n",
        "(10, 121)\n",
        "(10,)\n",
        "10\n",
        "<type 'numpy.float64'>\n",
        "[  17.  114.   85.   45.   24.   11.   24.  120.   20.   85.]\n",
        "<type 'numpy.int64'>\n",
        "(10, 121)"
       ]
      },
      {
       "output_type": "stream",
       "stream": "stdout",
       "text": [
        "\n",
        "(10, 121)\n",
        "(10,)\n",
        "10\n",
        "<type 'numpy.float64'>\n",
        "[  24.   25.   25.   35.    6.  110.   45.   24.  102.   12.]\n",
        "<type 'numpy.int64'>\n",
        "(10, 121)"
       ]
      },
      {
       "output_type": "stream",
       "stream": "stdout",
       "text": [
        "\n",
        "(10, 121)\n",
        "(10,)\n",
        "10\n",
        "<type 'numpy.float64'>\n",
        "[  43.    0.  101.    5.  104.   36.    0.   14.   10.   25.]\n",
        "<type 'numpy.int64'>\n",
        "(10, 121)"
       ]
      },
      {
       "output_type": "stream",
       "stream": "stdout",
       "text": [
        "\n",
        "(10, 121)\n",
        "(10,)\n",
        "10\n",
        "<type 'numpy.float64'>\n",
        "[ 111.   15.   20.   69.   34.   11.   43.  120.   55.    6.]\n",
        "<type 'numpy.int64'>\n",
        "(10, 121)"
       ]
      },
      {
       "output_type": "stream",
       "stream": "stdout",
       "text": [
        "\n",
        "(10, 121)\n",
        "(10,)\n",
        "10\n",
        "<type 'numpy.float64'>\n",
        "[  10.   81.   65.  118.   12.  114.    5.  110.   25.    8.]\n",
        "<type 'numpy.int64'>\n",
        "(10, 121)"
       ]
      },
      {
       "output_type": "stream",
       "stream": "stdout",
       "text": [
        "\n",
        "(10, 121)\n",
        "(10,)\n",
        "10\n",
        "<type 'numpy.float64'>\n",
        "[ 10.  11.   6.  74.  25.  85.   8.   0.  25.  35.]\n",
        "<type 'numpy.int64'>\n",
        "(10, 121)"
       ]
      },
      {
       "output_type": "stream",
       "stream": "stdout",
       "text": [
        "\n",
        "(10, 121)\n",
        "(10,)\n",
        "10\n",
        "<type 'numpy.float64'>\n",
        "[ 118.   24.   35.  111.   95.   35.  120.  115.   24.  110.]\n",
        "<type 'numpy.int64'>\n",
        "(10, 121)"
       ]
      },
      {
       "output_type": "stream",
       "stream": "stdout",
       "text": [
        "\n",
        "(10, 121)\n",
        "(10,)\n",
        "10\n",
        "<type 'numpy.float64'>\n",
        "[ 120.    5.   11.  114.   96.   25.    9.   81.  110.   10.]\n",
        "<type 'numpy.int64'>\n",
        "(10, 121)"
       ]
      },
      {
       "output_type": "stream",
       "stream": "stdout",
       "text": [
        "\n",
        "(10, 121)\n",
        "(10,)\n",
        "10\n",
        "<type 'numpy.float64'>\n",
        "[ 101.   24.    5.   25.    6.   12.    6.   25.   25.   20.]\n",
        "<type 'numpy.int64'>\n",
        "Finished epoch 7 / 10: cost 0.668361, train: 0.840000, val 0.172000, lr 6.983373e-05"
       ]
      },
      {
       "output_type": "stream",
       "stream": "stdout",
       "text": [
        "\n",
        "starting iteration  70\n",
        "(10, 121)\n",
        "(10, 121)\n",
        "(10,)\n",
        "10\n",
        "<type 'numpy.float64'>\n",
        "[  58.   34.   34.   72.   91.   95.  110.   85.   42.  114.]\n",
        "<type 'numpy.int64'>\n",
        "(10, 121)"
       ]
      },
      {
       "output_type": "stream",
       "stream": "stdout",
       "text": [
        "\n",
        "(10, 121)\n",
        "(10,)\n",
        "10\n",
        "<type 'numpy.float64'>\n",
        "[ 36.  10.  74.  14.  20.  43.  83.  20.  11.  11.]\n",
        "<type 'numpy.int64'>\n",
        "(10, 121)"
       ]
      },
      {
       "output_type": "stream",
       "stream": "stdout",
       "text": [
        "\n",
        "(10, 121)\n",
        "(10,)\n",
        "10\n",
        "<type 'numpy.float64'>\n",
        "[  10.    5.    8.    0.   42.  110.  118.  110.   96.   12.]\n",
        "<type 'numpy.int64'>\n",
        "(10, 121)"
       ]
      },
      {
       "output_type": "stream",
       "stream": "stdout",
       "text": [
        "\n",
        "(10, 121)\n",
        "(10,)\n",
        "10\n",
        "<type 'numpy.float64'>\n",
        "[ 108.  101.    6.   35.  108.  104.   68.    9.    0.  110.]\n",
        "<type 'numpy.int64'>\n",
        "(10, 121)"
       ]
      },
      {
       "output_type": "stream",
       "stream": "stdout",
       "text": [
        "\n",
        "(10, 121)\n",
        "(10,)\n",
        "10\n",
        "<type 'numpy.float64'>\n",
        "[  35.   42.    6.   14.    0.  116.   42.    0.  110.  104.]\n",
        "<type 'numpy.int64'>\n",
        "(10, 121)"
       ]
      },
      {
       "output_type": "stream",
       "stream": "stdout",
       "text": [
        "\n",
        "(10, 121)\n",
        "(10,)\n",
        "10\n",
        "<type 'numpy.float64'>\n",
        "[   5.    0.   45.    6.   24.  118.  116.   10.   12.  111.]\n",
        "<type 'numpy.int64'>\n",
        "(10, 121)"
       ]
      },
      {
       "output_type": "stream",
       "stream": "stdout",
       "text": [
        "\n",
        "(10, 121)\n",
        "(10,)\n",
        "10\n",
        "<type 'numpy.float64'>\n",
        "[ 114.   25.  113.  110.   11.    6.   55.   24.   24.    5.]\n",
        "<type 'numpy.int64'>\n",
        "(10, 121)"
       ]
      },
      {
       "output_type": "stream",
       "stream": "stdout",
       "text": [
        "\n",
        "(10, 121)\n",
        "(10,)\n",
        "10\n",
        "<type 'numpy.float64'>\n",
        "[  11.   65.   98.  104.   96.   98.   35.  113.   24.   87.]\n",
        "<type 'numpy.int64'>\n",
        "(10, 121)"
       ]
      },
      {
       "output_type": "stream",
       "stream": "stdout",
       "text": [
        "\n",
        "(10, 121)\n",
        "(10,)\n",
        "10\n",
        "<type 'numpy.float64'>\n",
        "[  68.   24.   68.  111.   69.  118.    6.    9.  110.   20.]\n",
        "<type 'numpy.int64'>\n",
        "(10, 121)"
       ]
      },
      {
       "output_type": "stream",
       "stream": "stdout",
       "text": [
        "\n",
        "(10, 121)\n",
        "(10,)\n",
        "10\n",
        "<type 'numpy.float64'>\n",
        "[  72.   14.  111.    6.   24.    6.   81.   35.  110.  102.]\n",
        "<type 'numpy.int64'>\n",
        "Finished epoch 8 / 10: cost 0.115383, train: 0.950000, val 0.164000, lr 6.634204e-05"
       ]
      },
      {
       "output_type": "stream",
       "stream": "stdout",
       "text": [
        "\n",
        "starting iteration  80\n",
        "(10, 121)\n",
        "(10, 121)\n",
        "(10,)\n",
        "10\n",
        "<type 'numpy.float64'>\n",
        "[   0.   24.  113.    0.    0.  110.  108.    0.   35.  115.]\n",
        "<type 'numpy.int64'>\n",
        "(10, 121)"
       ]
      },
      {
       "output_type": "stream",
       "stream": "stdout",
       "text": [
        "\n",
        "(10, 121)\n",
        "(10,)\n",
        "10\n",
        "<type 'numpy.float64'>\n",
        "[  12.  120.  111.  108.  118.  108.   65.   14.   85.   11.]\n",
        "<type 'numpy.int64'>\n",
        "(10, 121)"
       ]
      },
      {
       "output_type": "stream",
       "stream": "stdout",
       "text": [
        "\n",
        "(10, 121)\n",
        "(10,)\n",
        "10\n",
        "<type 'numpy.float64'>\n",
        "[  10.  111.   25.  110.   14.    6.   20.   12.   12.   12.]\n",
        "<type 'numpy.int64'>\n",
        "(10, 121)"
       ]
      },
      {
       "output_type": "stream",
       "stream": "stdout",
       "text": [
        "\n",
        "(10, 121)\n",
        "(10,)\n",
        "10\n",
        "<type 'numpy.float64'>\n",
        "[  25.   24.    8.   42.  108.  104.   24.    6.  111.   49.]\n",
        "<type 'numpy.int64'>\n",
        "(10, 121)"
       ]
      },
      {
       "output_type": "stream",
       "stream": "stdout",
       "text": [
        "\n",
        "(10, 121)\n",
        "(10,)\n",
        "10\n",
        "<type 'numpy.float64'>\n",
        "[  11.   11.  102.   12.   11.   96.  111.    8.   91.  111.]\n",
        "<type 'numpy.int64'>\n",
        "(10, 121)"
       ]
      },
      {
       "output_type": "stream",
       "stream": "stdout",
       "text": [
        "\n",
        "(10, 121)\n",
        "(10,)\n",
        "10\n",
        "<type 'numpy.float64'>\n",
        "[  43.   35.  114.   24.    5.   69.    5.    9.  111.  111.]\n",
        "<type 'numpy.int64'>\n",
        "(10, 121)"
       ]
      },
      {
       "output_type": "stream",
       "stream": "stdout",
       "text": [
        "\n",
        "(10, 121)\n",
        "(10,)\n",
        "10\n",
        "<type 'numpy.float64'>\n",
        "[  45.   15.   49.  110.   20.   69.   10.   25.   24.    5.]\n",
        "<type 'numpy.int64'>\n",
        "(10, 121)"
       ]
      },
      {
       "output_type": "stream",
       "stream": "stdout",
       "text": [
        "\n",
        "(10, 121)\n",
        "(10,)\n",
        "10\n",
        "<type 'numpy.float64'>\n",
        "[ 108.   10.  111.   42.    0.  110.  116.  116.   72.   24.]\n",
        "<type 'numpy.int64'>\n",
        "(10, 121)"
       ]
      },
      {
       "output_type": "stream",
       "stream": "stdout",
       "text": [
        "\n",
        "(10, 121)\n",
        "(10,)\n",
        "10\n",
        "<type 'numpy.float64'>\n",
        "[   0.  120.   29.    5.   74.   11.   11.   69.   81.   65.]\n",
        "<type 'numpy.int64'>\n",
        "(10, 121)"
       ]
      },
      {
       "output_type": "stream",
       "stream": "stdout",
       "text": [
        "\n",
        "(10, 121)\n",
        "(10,)\n",
        "10\n",
        "<type 'numpy.float64'>\n",
        "[ 111.    0.   43.  114.  120.  120.   85.   24.   19.    6.]\n",
        "<type 'numpy.int64'>\n",
        "Finished epoch 9 / 10: cost 0.130318, train: 0.930000, val 0.144000, lr 6.302494e-05"
       ]
      },
      {
       "output_type": "stream",
       "stream": "stdout",
       "text": [
        "\n",
        "starting iteration  90\n",
        "(10, 121)\n",
        "(10, 121)\n",
        "(10,)\n",
        "10\n",
        "<type 'numpy.float64'>\n",
        "[  35.  108.    9.   83.  108.   35.  114.   58.  110.  115.]\n",
        "<type 'numpy.int64'>\n",
        "(10, 121)"
       ]
      },
      {
       "output_type": "stream",
       "stream": "stdout",
       "text": [
        "\n",
        "(10, 121)\n",
        "(10,)\n",
        "10\n",
        "<type 'numpy.float64'>\n",
        "[ 110.    6.    6.  114.   35.   10.   95.   10.  110.  110.]\n",
        "<type 'numpy.int64'>\n",
        "(10, 121)"
       ]
      },
      {
       "output_type": "stream",
       "stream": "stdout",
       "text": [
        "\n",
        "(10, 121)\n",
        "(10,)\n",
        "10\n",
        "<type 'numpy.float64'>\n",
        "[  10.   83.   17.  110.   91.   55.   83.   34.   35.    5.]\n",
        "<type 'numpy.int64'>\n",
        "(10, 121)"
       ]
      },
      {
       "output_type": "stream",
       "stream": "stdout",
       "text": [
        "\n",
        "(10, 121)\n",
        "(10,)\n",
        "10\n",
        "<type 'numpy.float64'>\n",
        "[  36.   11.   83.   36.   14.   95.   10.    6.  118.   83.]\n",
        "<type 'numpy.int64'>\n",
        "(10, 121)"
       ]
      },
      {
       "output_type": "stream",
       "stream": "stdout",
       "text": [
        "\n",
        "(10, 121)\n",
        "(10,)\n",
        "10\n",
        "<type 'numpy.float64'>\n",
        "[ 36.  68.  43.  35.  35.   6.  14.  19.   8.  85.]\n",
        "<type 'numpy.int64'>\n",
        "(10, 121)"
       ]
      },
      {
       "output_type": "stream",
       "stream": "stdout",
       "text": [
        "\n",
        "(10, 121)\n",
        "(10,)\n",
        "10\n",
        "<type 'numpy.float64'>\n",
        "[ 114.   72.   10.   14.  113.   98.   11.   10.   65.   35.]\n",
        "<type 'numpy.int64'>\n",
        "(10, 121)"
       ]
      },
      {
       "output_type": "stream",
       "stream": "stdout",
       "text": [
        "\n",
        "(10, 121)\n",
        "(10,)\n",
        "10\n",
        "<type 'numpy.float64'>\n",
        "[  24.    6.  101.    5.   25.   35.   35.  115.   14.  120.]\n",
        "<type 'numpy.int64'>\n",
        "(10, 121)"
       ]
      },
      {
       "output_type": "stream",
       "stream": "stdout",
       "text": [
        "\n",
        "(10, 121)\n",
        "(10,)\n",
        "10\n",
        "<type 'numpy.float64'>\n",
        "[   0.   11.   12.   35.   11.    0.   25.  111.   14.   34.]\n",
        "<type 'numpy.int64'>\n",
        "(10, 121)"
       ]
      },
      {
       "output_type": "stream",
       "stream": "stdout",
       "text": [
        "\n",
        "(10, 121)\n",
        "(10,)\n",
        "10\n",
        "<type 'numpy.float64'>\n",
        "[   0.  114.   24.   55.   12.   35.   43.   12.   24.  110.]\n",
        "<type 'numpy.int64'>\n",
        "(10, 121)"
       ]
      },
      {
       "output_type": "stream",
       "stream": "stdout",
       "text": [
        "\n",
        "(10, 121)\n",
        "(10,)\n",
        "10\n",
        "<type 'numpy.float64'>\n",
        "[  36.   35.  118.   34.   85.   11.    9.  111.   35.    9.]\n",
        "<type 'numpy.int64'>\n",
        "Finished epoch 10 / 10: cost 0.257567, train: 0.960000, val 0.187000, lr 5.987369e-05"
       ]
      },
      {
       "output_type": "stream",
       "stream": "stdout",
       "text": [
        "\n",
        "finished optimization. best validation accuracy: 0.187000\n"
       ]
      },
      {
       "metadata": {},
       "output_type": "pyout",
       "prompt_number": 23,
       "text": [
        "'from cs231n.classifiers.neural_net import two_layer_net\\nfrom cs231n.classifiers.neural_net import init_two_layer_model\\n\\nmodel = init_two_layer_model(48*48*3, 50, num_classes) # input size, hidden size, number of classes\\ntrainer = ClassifierTrainer()\\nbest_model, loss_history, train_acc, val_acc = trainer.train(X_train, y_train, X_val1, y_val1,\\n                                             model, two_layer_net,\\n                                             num_epochs=5, reg=1.0,\\n                                             momentum=0.9, learning_rate_decay = 0.95,\\n                                             learning_rate=1e-5, verbose=True)'"
       ]
      }
     ],
     "prompt_number": 23
    },
    {
     "cell_type": "markdown",
     "metadata": {},
     "source": [
      "# Extract features\n",
      "ConvNets tend to learn generalizable high-level image features. For the five layer ConvNet architecture, we will use the (rectified) activations of the first fully-connected layer as our high-level image features.\n",
      "\n",
      "Open the file `cs231n/classifiers/convnet.py` and modify the `five_layer_convnet` function to return features when the `extract_features` flag is `True`. This should be VERY simple.\n",
      "\n",
      "Once you have done that, fill in the cell below, which should use the pretrained model in the `model` variable to extract features from all images in the training and validation sets."
     ]
    },
    {
     "cell_type": "code",
     "collapsed": false,
     "input": [
      "from cs231n.classifiers.convnet import five_layer_convnet\n",
      "\n",
      "# These should store extracted features for the training and validation sets\n",
      "# respectively.\n",
      "#\n",
      "# More concretely, X_train_feats should be an array of shape\n",
      "# (X_train.shape[0], 512) where X_train_feats[i] is the 512-dimensional\n",
      "# feature vector extracted from X_train[i] using model.\n",
      "#\n",
      "# Similarly X_val_feats should have shape (X_val.shape[0], 512) and\n",
      "# X_val_feats[i] should be the 512-dimensional feature vector extracted from\n",
      "# X_val[i] using model.\n",
      "X_train_feats = None\n",
      "X_val_feats = None\n",
      "\n",
      "# Use our pre-trained model to extract features on the subsampled training set\n",
      "# and the validation set.\n",
      "\n",
      "################################################################################\n",
      "# TODO: Use the pretrained model to extract features for the training and      #\n",
      "# validation sets for TinyImageNet-100-B.                                      #\n",
      "#                                                                              #\n",
      "# HINT: Similar to computing probabilities in the previous exercise, you       #\n",
      "# should split the training and validation sets into small batches to avoid    #\n",
      "# using absurd amounts of memory.                                              #\n",
      "################################################################################\n",
      "chunk_size = 500\n",
      "\n",
      "result = None\n",
      "for index_start in np.arange(0, X_train.shape[0], chunk_size):\n",
      "    current_result = five_layer_convnet(X_train[index_start:index_start + chunk_size], model, extract_features=True)\n",
      "    if result is None:\n",
      "        result = current_result\n",
      "    else:\n",
      "        result = np.vstack((result, current_result))\n",
      "    print \"Extracted features for {} images starting from {}\".format(chunk_size, index_start)\n",
      "X_train_feats = result\n",
      "print X_train_feats.shape\n",
      "\n",
      "result = None\n",
      "for index_start in np.arange(0, X_val.shape[0], chunk_size):\n",
      "    current_result = five_layer_convnet(X_val[index_start:index_start + chunk_size], model, extract_features=True)\n",
      "    if result is None:\n",
      "        result = current_result\n",
      "    else:\n",
      "        result = np.vstack((result, current_result))\n",
      "    print \"Extracted features for {} images starting from {}\".format(chunk_size, index_start)\n",
      "X_val_feats = result\n",
      "print X_val_feats.shape\n",
      "print X_train_feats.shape\n",
      "pass\n",
      "################################################################################\n",
      "#                            END OF YOUR CODE                                  #\n",
      "################################################################################   "
     ],
     "language": "python",
     "metadata": {},
     "outputs": [
      {
       "ename": "NameError",
       "evalue": "name 'np' is not defined",
       "output_type": "pyerr",
       "traceback": [
        "\u001b[0;31m---------------------------------------------------------------------------\u001b[0m\n\u001b[0;31mNameError\u001b[0m                                 Traceback (most recent call last)",
        "\u001b[0;32m<ipython-input-1-4e81493bf5c8>\u001b[0m in \u001b[0;36m<module>\u001b[0;34m()\u001b[0m\n\u001b[1;32m     28\u001b[0m \u001b[0;34m\u001b[0m\u001b[0m\n\u001b[1;32m     29\u001b[0m \u001b[0mresult\u001b[0m \u001b[0;34m=\u001b[0m \u001b[0mNone\u001b[0m\u001b[0;34m\u001b[0m\u001b[0m\n\u001b[0;32m---> 30\u001b[0;31m \u001b[0;32mfor\u001b[0m \u001b[0mindex_start\u001b[0m \u001b[0;32min\u001b[0m \u001b[0mnp\u001b[0m\u001b[0;34m.\u001b[0m\u001b[0marange\u001b[0m\u001b[0;34m(\u001b[0m\u001b[0;36m0\u001b[0m\u001b[0;34m,\u001b[0m \u001b[0mX_train\u001b[0m\u001b[0;34m.\u001b[0m\u001b[0mshape\u001b[0m\u001b[0;34m[\u001b[0m\u001b[0;36m0\u001b[0m\u001b[0;34m]\u001b[0m\u001b[0;34m,\u001b[0m \u001b[0mchunk_size\u001b[0m\u001b[0;34m)\u001b[0m\u001b[0;34m:\u001b[0m\u001b[0;34m\u001b[0m\u001b[0m\n\u001b[0m\u001b[1;32m     31\u001b[0m     \u001b[0mcurrent_result\u001b[0m \u001b[0;34m=\u001b[0m \u001b[0mfive_layer_convnet\u001b[0m\u001b[0;34m(\u001b[0m\u001b[0mX_train\u001b[0m\u001b[0;34m[\u001b[0m\u001b[0mindex_start\u001b[0m\u001b[0;34m:\u001b[0m\u001b[0mindex_start\u001b[0m \u001b[0;34m+\u001b[0m \u001b[0mchunk_size\u001b[0m\u001b[0;34m]\u001b[0m\u001b[0;34m,\u001b[0m \u001b[0mmodel\u001b[0m\u001b[0;34m,\u001b[0m \u001b[0mextract_features\u001b[0m\u001b[0;34m=\u001b[0m\u001b[0mTrue\u001b[0m\u001b[0;34m)\u001b[0m\u001b[0;34m\u001b[0m\u001b[0m\n\u001b[1;32m     32\u001b[0m     \u001b[0;32mif\u001b[0m \u001b[0mresult\u001b[0m \u001b[0;32mis\u001b[0m \u001b[0mNone\u001b[0m\u001b[0;34m:\u001b[0m\u001b[0;34m\u001b[0m\u001b[0m\n",
        "\u001b[0;31mNameError\u001b[0m: name 'np' is not defined"
       ]
      }
     ],
     "prompt_number": 1
    },
    {
     "cell_type": "markdown",
     "metadata": {},
     "source": [
      "# kNN with ConvNet features\n",
      "A simple way to implement transfer learning is to use a k-nearest neighborhood classifier. However instead of computing the distance between images using their pixel values as we did in Assignment 1, we will instead say that the distance between a pair of images is equal to the L2 distance between their feature vectors extracted using our pretrained ConvNet.\n",
      "\n",
      "Implement this idea in the cell below. You can use the `KNearestNeighbor` class in the file `cs321n/classifiers/k_nearest_neighbor.py`."
     ]
    },
    {
     "cell_type": "code",
     "collapsed": false,
     "input": [
      "from cs231n.classifiers.k_nearest_neighbor import KNearestNeighbor\n",
      "\n",
      "# Predicted labels for X_val using a k-nearest-neighbor classifier trained on\n",
      "# the features extracted from X_train. knn_y_val_pred[i] = c indicates that\n",
      "# the kNN classifier predicts that X_val[i] has label c.\n",
      "knn_y_val_pred = None\n",
      "knn = KNearestNeighbor()\n",
      "knn.train(X_train_feats, y_train)\n",
      "accuracy_list = []\n",
      "best_accuracy = 0\n",
      "best_k = 0\n",
      "for k in np.arange(1,101,1):\n",
      "    knn_y_val_pred = knn.predict(X_val_feats, k=k)\n",
      "    current_accuracy = np.mean(knn_y_val_pred == y_val)\n",
      "    if current_accuracy > best_accuracy:\n",
      "        best_accuracy = current_accuracy\n",
      "        best_k = k\n",
      "    accuracy_list.append(current_accuracy)\n",
      "print accuracy_list\n",
      "print \"Best accuracy for k {} is {}\".format(best_k, best_accuracy)\n",
      "\n",
      "################################################################################\n",
      "# TODO: Use a k-nearest neighbor classifier to compute knn_y_val_pred.         #\n",
      "# You may need to experiment with k to get the best performance.               #\n",
      "################################################################################\n",
      "pass\n",
      "################################################################################\n",
      "#                            END OF YOUR CODE                                  #\n",
      "################################################################################\n",
      "\n",
      "print 'Validation set accuracy: %f' % best_accuracy\n",
      "\n",
      "#Best k was reported to be k = 28"
     ],
     "language": "python",
     "metadata": {},
     "outputs": []
    },
    {
     "cell_type": "markdown",
     "metadata": {},
     "source": [
      "# Visualize neighbors\n",
      "Recall that the kNN classifier computes the distance between all of its training instances and all of its test instances. We can use this distance matrix to help understand what the ConvNet features care about; specifically, we can select several random images from the validation set and visualize their nearest neighbors in the training set.\n",
      "\n",
      "You will see that many times the nearest neighbors are quite far away from each other in pixel space; for example two images that show the same object from different perspectives may appear nearby in ConvNet feature space.\n",
      "\n",
      "Since the following cell selects random validation images, you can run it several times to get different results."
     ]
    },
    {
     "cell_type": "code",
     "collapsed": false,
     "input": [
      "dists = knn.compute_distances_no_loops(X_val_feats)\n",
      "\n",
      "num_imgs = 5\n",
      "neighbors_to_show = 6\n",
      "\n",
      "query_idxs = np.random.randint(X_val.shape[0], size=num_imgs)\n",
      "\n",
      "next_subplot = 1\n",
      "first_row = True\n",
      "for query_idx in query_idxs:\n",
      "    query_img = X_val[query_idx] + mean_img\n",
      "    query_img = query_img.transpose(1, 2, 0).astype('uint8')\n",
      "    plt.subplot(num_imgs, neighbors_to_show + 1, next_subplot)\n",
      "    plt.imshow(query_img)\n",
      "    plt.gca().axis('off')\n",
      "    if first_row:\n",
      "        plt.title('query')\n",
      "    next_subplot += 1\n",
      "    o = np.argsort(dists[query_idx])\n",
      "    for i in xrange(neighbors_to_show):            \n",
      "        img = X_train[o[i]] + mean_img\n",
      "        img = img.transpose(1, 2, 0).astype('uint8')\n",
      "        plt.subplot(num_imgs, neighbors_to_show + 1, next_subplot)\n",
      "        plt.imshow(img)\n",
      "        plt.gca().axis('off')\n",
      "        if first_row:\n",
      "            plt.title('neighbor %d' % (i + 1))\n",
      "        next_subplot += 1\n",
      "    first_row = False\n",
      "    "
     ],
     "language": "python",
     "metadata": {},
     "outputs": []
    },
    {
     "cell_type": "markdown",
     "metadata": {},
     "source": [
      "# Softmax on ConvNet features\n",
      "Another way to implement transfer learning is to train a linear classifier on top of the features extracted from our pretrained ConvNet.\n",
      "\n",
      "In the cell below, train a softmax classifier on the features extracted from the training set of TinyImageNet-100-B and use this classifier to predict on the validation set for TinyImageNet-100-B. You can use the `Softmax` class in the file `cs231n/classifiers/linear_classifier.py`."
     ]
    },
    {
     "cell_type": "code",
     "collapsed": false,
     "input": [
      "from cs231n.classifiers.linear_classifier import Softmax\n",
      "\n",
      "softmax_y_train_pred = None\n",
      "softmax_y_val_pred = None\n",
      "\n",
      "################################################################################\n",
      "# TODO: Train a softmax classifier to predict a TinyImageNet-100-B class from  #\n",
      "# features extracted from our pretrained ConvNet. Use this classifier to make  #\n",
      "# predictions for the TinyImageNet-100-B training and validation sets, and     #\n",
      "# store them in softmax_y_train_pred and softmax_y_val_pred.                   #\n",
      "#                                                                              #\n",
      "# You may need to experiment with number of iterations, regularization, and    #\n",
      "# learning rate in order to get good performance. The softmax classifier       #\n",
      "# should achieve a higher validation accuracy than the kNN classifier.         #\n",
      "################################################################################\n",
      "lr_list = [1e-5, 1e-4, 1e-3]\n",
      "reg_list = [1e-5, 1e-4, 1e-3]\n",
      "best_val_acc = 0\n",
      "best_train_acc = 0\n",
      "best_lr = 0\n",
      "best_reg = 0\n",
      "for lr in lr_list:\n",
      "    for reg in reg_list:\n",
      "        softmax = Softmax()\n",
      "        softmax.train(X_train_feats.T, y_train, )\n",
      "        softmax_y_train_pred = softmax.predict(X_train_feats.T)\n",
      "        softmax_y_val_pred = softmax.predict(X_val_feats.T)\n",
      "        train_acc = np.mean(y_train == softmax_y_train_pred)\n",
      "        val_acc = np.mean(softmax_y_val_pred == y_val)\n",
      "        print \"lr {} reg {} train_acc {} val_acc {}\".format(lr,reg,train_acc,val_acc)\n",
      "        if val_acc > best_val_acc:\n",
      "            best_train_acc = train_acc\n",
      "            best_val_acc = val_acc\n",
      "            best_lr = lr\n",
      "            best_reg = reg\n",
      "print best_val_acc, best_train_acc, best_lr, best_reg"
     ],
     "language": "python",
     "metadata": {},
     "outputs": []
    },
    {
     "cell_type": "markdown",
     "metadata": {},
     "source": [
      "# Fine-tuning\n",
      "We can improve our classification results on TinyImageNet-100-B further by fine-tuning our ConvNet. In other words, we will train a new ConvNet with the same architecture as our pretrained model, and use the weights of the pretrained model as an initialization to our new model.\n",
      "\n",
      "Usually when fine-tuning you would re-initialize the weights of the final affine layer randomly, but in this case we will initialize the weights of the final affine layer using the weights of the trained softmax classifier from above.\n",
      "\n",
      "In the cell below, use fine-tuning to improve your classification performance on TinyImageNet-100-B. You should be able to outperform the softmax classifier from above using fewer than 5 epochs over the training data.\n",
      "\n",
      "You will need to adjust the learning rate and regularization to achieve good fine-tuning results."
     ]
    },
    {
     "cell_type": "code",
     "collapsed": false,
     "input": [
      "from cs231n.classifier_trainer import ClassifierTrainer\n",
      "\n",
      "# Make a copy of the pretrained model\n",
      "model_copy = {k: v.copy() for k, v in model.iteritems()}\n",
      "\n",
      "# Initialize the weights of the last affine layer using the trained weights from\n",
      "# the softmax classifier above\n",
      "model_copy['W5'] = softmax.W.T.copy().astype(model_copy['W5'].dtype)\n",
      "model_copy['b5'] = np.zeros_like(model_copy['b5'])\n",
      "\n",
      "# Fine-tune the model. You will need to adjust the training parameters to get good results.\n",
      "trainer = ClassifierTrainer()\n",
      "learning_rate = 5e-4\n",
      "reg = 1e-2\n",
      "dropout = 0.5\n",
      "num_epochs = 5\n",
      "finetuned_model = trainer.train(X_train, y_train, X_val, y_val,\n",
      "                                model_copy, five_layer_convnet,\n",
      "                                learning_rate=learning_rate, reg=reg, update='rmsprop',\n",
      "                                dropout=dropout, num_epochs=num_epochs, verbose=True)[0]"
     ],
     "language": "python",
     "metadata": {},
     "outputs": []
    },
    {
     "cell_type": "code",
     "collapsed": false,
     "input": [],
     "language": "python",
     "metadata": {},
     "outputs": []
    }
   ],
   "metadata": {}
  }
 ]
}