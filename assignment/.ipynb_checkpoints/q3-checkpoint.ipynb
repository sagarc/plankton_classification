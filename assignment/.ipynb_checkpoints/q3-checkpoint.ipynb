{
 "metadata": {
  "name": "",
  "signature": "sha256:aa420e26f446f7672e1161c983a18410e813b05573743719bcc2517f0add7c9f"
 },
 "nbformat": 3,
 "nbformat_minor": 0,
 "worksheets": [
  {
   "cells": [
    {
     "cell_type": "markdown",
     "metadata": {},
     "source": [
      "# Plankton Dataset\n",
      "In Part 1) we will train best CNN  for plankton dataset.\n",
      "In Part 2) we will use featues from our CNN combined with features got from running the alexnet, bvlcc net on images and train linear classifier on top of it.\n"
     ]
    },
    {
     "cell_type": "code",
     "collapsed": false,
     "input": [
      "# A bit of setup\n",
      "\n",
      "import numpy as np\n",
      "import matplotlib.pyplot as plt\n",
      "from time import time\n",
      "\n",
      "%matplotlib inline\n",
      "plt.rcParams['figure.figsize'] = (10.0, 8.0) # set default size of plots\n",
      "plt.rcParams['image.interpolation'] = 'nearest'\n",
      "plt.rcParams['image.cmap'] = 'gray'\n",
      "\n",
      "# for auto-reloading extenrnal modules\n",
      "# see http://stackoverflow.com/questions/1907993/autoreload-of-modules-in-ipython\n",
      "%load_ext autoreload\n",
      "%autoreload 2"
     ],
     "language": "python",
     "metadata": {},
     "outputs": [],
     "prompt_number": 1
    },
    {
     "cell_type": "markdown",
     "metadata": {},
     "source": [
      "# Load data and model\n",
      "The images in plankton are of different sizes and hence every image is resized to 48 * 48 using 'convert utility in imagemagick'\n",
      "Since test datasets doesn't have labels provided, training datasets are split into three categories of train, valid1, and valid2 datasets\n"
     ]
    },
    {
     "cell_type": "code",
     "collapsed": false,
     "input": [
      "# Load the plankton dataset\n",
      "from cs231n.data_utils import load_plankton_dataset, load_models\n",
      "\n",
      "plankton_dataset = '../plankton'\n",
      "image_size = 48 #number of pixels (Image was resized to this)\n",
      "num_classes = 121\n",
      "        \n",
      "class_names, X_train, y_train, X_test, img_files = load_plankton_dataset(plankton_dataset)\n",
      "\n",
      "# Zero-mean the data\n",
      "print X_train.shape\n",
      "print y_train.shape\n",
      "print X_test.shape\n",
      "mean_img = np.mean(X_train, axis=0)\n",
      "X_train -= mean_img\n",
      "X_test -= mean_img\n",
      "\n",
      "\n"
     ],
     "language": "python",
     "metadata": {},
     "outputs": [
      {
       "output_type": "stream",
       "stream": "stdout",
       "text": [
        "loading training data for synset 20 / 121\n",
        "loading training data for synset 40 / 121"
       ]
      },
      {
       "output_type": "stream",
       "stream": "stdout",
       "text": [
        "\n",
        "loading training data for synset 60 / 121"
       ]
      },
      {
       "output_type": "stream",
       "stream": "stdout",
       "text": [
        "\n",
        "loading training data for synset 80 / 121"
       ]
      },
      {
       "output_type": "stream",
       "stream": "stdout",
       "text": [
        "\n",
        "loading training data for synset 100 / 121"
       ]
      },
      {
       "output_type": "stream",
       "stream": "stdout",
       "text": [
        "\n",
        "loading training data for synset 120 / 121"
       ]
      },
      {
       "output_type": "stream",
       "stream": "stdout",
       "text": [
        "\n",
        "[  0   0   0 ..., 120 120 120]"
       ]
      },
      {
       "output_type": "stream",
       "stream": "stdout",
       "text": [
        "\n",
        "(30336, 3, 48, 48)"
       ]
      },
      {
       "output_type": "stream",
       "stream": "stdout",
       "text": [
        "\n",
        "(30336,)\n",
        "(130400, 3, 48, 48)\n"
       ]
      }
     ],
     "prompt_number": 2
    },
    {
     "cell_type": "code",
     "collapsed": false,
     "input": [
      "# Split data into training and validation and test dataset\n",
      "# Shuffle the input and outputs\n",
      "print y_train\n",
      "num_examples = X_train.shape[0]\n",
      "print num_examples\n",
      "y_train = y_train.reshape([y_train.shape[0],1])\n",
      "print y_train.shape\n",
      "X_train_joined = X_train.reshape(num_examples, -1)\n",
      "X_train_joined = np.hstack([X_train_joined, y_train])\n",
      "print X_train_joined.shape\n",
      "print X_train_joined[:,-1]\n",
      "# Its important to shuffle the data to mix the images from different classes.\n",
      "np.random.shuffle(X_train_joined)\n",
      "print X_train_joined[:,-1]\n",
      "\n",
      "X_train = X_train_joined[:,0:-1].reshape(num_examples, 3, image_size, image_size)\n",
      "print X_train.shape\n",
      "y_train = X_train_joined[:, -1]\n",
      "print y_train.shape\n",
      "\n",
      "\n",
      "num_valid1=1000\n",
      "num_valid2=1000\n",
      "num_training=X_train.shape[0] - num_valid1 - num_valid2\n",
      "\n",
      "\n",
      "# Subsample the data\n",
      "mask = range(num_training, num_training + num_valid1)\n",
      "X_val1 = X_train[mask]\n",
      "y_val1 = y_train[mask]\n",
      "mask = range(num_training + num_valid1, num_training + num_valid1 + num_valid2)\n",
      "X_val2 = X_train[mask]\n",
      "y_val2 = y_train[mask]\n",
      "mask = range(num_training)\n",
      "X_train = X_train[mask]\n",
      "y_train = y_train[mask]\n",
      "print X_train.shape\n",
      "print y_train.shape\n",
      "print X_val1.shape\n",
      "print y_val1.shape\n",
      "print X_val2.shape\n",
      "print y_val2.shape\n"
     ],
     "language": "python",
     "metadata": {},
     "outputs": [
      {
       "output_type": "stream",
       "stream": "stdout",
       "text": [
        "[  0   0   0 ..., 120 120 120]\n",
        "30336\n",
        "(30336, 1)\n",
        "(30336, 6913)"
       ]
      },
      {
       "output_type": "stream",
       "stream": "stdout",
       "text": [
        "\n",
        "[   0.    0.    0. ...,  120.  120.  120.]\n",
        "[   7.    0.  115. ...,    0.   85.   36.]"
       ]
      },
      {
       "output_type": "stream",
       "stream": "stdout",
       "text": [
        "\n",
        "(30336, 3, 48, 48)"
       ]
      },
      {
       "output_type": "stream",
       "stream": "stdout",
       "text": [
        "\n",
        "(30336,)\n",
        "(28336, 3, 48, 48)"
       ]
      },
      {
       "output_type": "stream",
       "stream": "stdout",
       "text": [
        "\n",
        "(28336,)\n",
        "(1000, 3, 48, 48)\n",
        "(1000,)\n",
        "(1000, 3, 48, 48)\n",
        "(1000,)\n"
       ]
      }
     ],
     "prompt_number": 3
    },
    {
     "cell_type": "code",
     "collapsed": false,
     "input": [
      "# Print class names from plankton dataset\n",
      "for names in class_names:\n",
      "    print names\n",
      "   "
     ],
     "language": "python",
     "metadata": {},
     "outputs": [
      {
       "output_type": "stream",
       "stream": "stdout",
       "text": [
        "acantharia_protist\n",
        "acantharia_protist_big_center\n",
        "acantharia_protist_halo\n",
        "amphipods\n",
        "appendicularian_fritillaridae\n",
        "appendicularian_s_shape\n",
        "appendicularian_slight_curve\n",
        "appendicularian_straight\n",
        "artifacts\n",
        "artifacts_edge\n",
        "chaetognath_non_sagitta\n",
        "chaetognath_other\n",
        "chaetognath_sagitta\n",
        "chordate_type1\n",
        "copepod_calanoid\n",
        "copepod_calanoid_eggs\n",
        "copepod_calanoid_eucalanus\n",
        "copepod_calanoid_flatheads\n",
        "copepod_calanoid_frillyAntennae\n",
        "copepod_calanoid_large\n",
        "copepod_calanoid_large_side_antennatucked\n",
        "copepod_calanoid_octomoms\n",
        "copepod_calanoid_small_longantennae\n",
        "copepod_cyclopoid_copilia\n",
        "copepod_cyclopoid_oithona\n",
        "copepod_cyclopoid_oithona_eggs\n",
        "copepod_other\n",
        "crustacean_other\n",
        "ctenophore_cestid\n",
        "ctenophore_cydippid_no_tentacles\n",
        "ctenophore_cydippid_tentacles\n",
        "ctenophore_lobate\n",
        "decapods\n",
        "detritus_blob\n",
        "detritus_filamentous\n",
        "detritus_other\n",
        "diatom_chain_string\n",
        "diatom_chain_tube\n",
        "echinoderm_larva_pluteus_brittlestar\n",
        "echinoderm_larva_pluteus_early\n",
        "echinoderm_larva_pluteus_typeC\n",
        "echinoderm_larva_pluteus_urchin\n",
        "echinoderm_larva_seastar_bipinnaria\n",
        "echinoderm_larva_seastar_brachiolaria\n",
        "echinoderm_seacucumber_auricularia_larva\n",
        "echinopluteus\n",
        "ephyra\n",
        "euphausiids\n",
        "euphausiids_young\n",
        "fecal_pellet\n",
        "fish_larvae_deep_body\n",
        "fish_larvae_leptocephali\n",
        "fish_larvae_medium_body\n",
        "fish_larvae_myctophids\n",
        "fish_larvae_thin_body\n",
        "fish_larvae_very_thin_body\n",
        "heteropod\n",
        "hydromedusae_aglaura\n",
        "hydromedusae_bell_and_tentacles\n",
        "hydromedusae_h15\n",
        "hydromedusae_haliscera\n",
        "hydromedusae_haliscera_small_sideview\n",
        "hydromedusae_liriope\n",
        "hydromedusae_narco_dark\n",
        "hydromedusae_narco_young\n",
        "hydromedusae_narcomedusae\n",
        "hydromedusae_other\n",
        "hydromedusae_partial_dark\n",
        "hydromedusae_shapeA\n",
        "hydromedusae_shapeA_sideview_small\n",
        "hydromedusae_shapeB\n",
        "hydromedusae_sideview_big\n",
        "hydromedusae_solmaris\n",
        "hydromedusae_solmundella\n",
        "hydromedusae_typeD\n",
        "hydromedusae_typeD_bell_and_tentacles\n",
        "hydromedusae_typeE\n",
        "hydromedusae_typeF\n",
        "invertebrate_larvae_other_A\n",
        "invertebrate_larvae_other_B\n",
        "jellies_tentacles\n",
        "polychaete\n",
        "protist_dark_center\n",
        "protist_fuzzy_olive\n",
        "protist_noctiluca\n",
        "protist_other\n",
        "protist_star\n",
        "pteropod_butterfly\n",
        "pteropod_theco_dev_seq\n",
        "pteropod_triangle\n",
        "radiolarian_chain\n",
        "radiolarian_colony\n",
        "shrimp-like_other\n",
        "shrimp_caridean\n",
        "shrimp_sergestidae\n",
        "shrimp_zoea\n",
        "siphonophore_calycophoran_abylidae\n",
        "siphonophore_calycophoran_rocketship_adult\n",
        "siphonophore_calycophoran_rocketship_young\n",
        "siphonophore_calycophoran_sphaeronectes\n",
        "siphonophore_calycophoran_sphaeronectes_stem\n",
        "siphonophore_calycophoran_sphaeronectes_young\n",
        "siphonophore_other_parts\n",
        "siphonophore_partial\n",
        "siphonophore_physonect\n",
        "siphonophore_physonect_young\n",
        "stomatopod\n",
        "tornaria_acorn_worm_larvae\n",
        "trichodesmium_bowtie\n",
        "trichodesmium_multiple\n",
        "trichodesmium_puff\n",
        "trichodesmium_tuft\n",
        "trochophore_larvae\n",
        "tunicate_doliolid\n",
        "tunicate_doliolid_nurse\n",
        "tunicate_partial\n",
        "tunicate_salp\n",
        "tunicate_salp_chains\n",
        "unknown_blobs_and_smudges\n",
        "unknown_sticks\n",
        "unknown_unclassified\n"
       ]
      }
     ],
     "prompt_number": 5
    },
    {
     "cell_type": "markdown",
     "metadata": {},
     "source": [
      "# Visualize Examples\n"
     ]
    },
    {
     "cell_type": "code",
     "collapsed": false,
     "input": [
      "# Visualize some examples of the training data\n",
      "classes_to_show = 7\n",
      "examples_per_class = 5\n",
      "\n",
      "class_idxs = np.random.choice(len(class_names), size=classes_to_show, replace=False)\n",
      "for i, class_idx in enumerate(class_idxs):\n",
      "    train_idxs, = np.nonzero(y_train == class_idx)\n",
      "    train_idxs = np.random.choice(train_idxs, size=examples_per_class, replace=False)\n",
      "    for j, train_idx in enumerate(train_idxs):\n",
      "        img = X_train[train_idx] + mean_img\n",
      "        img = img.transpose(1, 2, 0).astype('uint8')\n",
      "        plt.subplot(examples_per_class, classes_to_show, 1 + i + classes_to_show * j)\n",
      "        if j == 0:\n",
      "            plt.title(class_names[class_idx])\n",
      "        plt.imshow(img)\n",
      "        plt.gca().axis('off')\n",
      "\n",
      "plt.show()"
     ],
     "language": "python",
     "metadata": {},
     "outputs": [
      {
       "metadata": {},
       "output_type": "display_data",
       "png": "[encoded data removed]",
       "text": [
        "<matplotlib.figure.Figure at 0x120b63f10>"
       ]
      }
     ],
     "prompt_number": 6
    },
    {
     "cell_type": "markdown",
     "metadata": {},
     "source": [
      "Training!\n",
      "\n",
      "Train your own convnet here! Use layers available in assignment 2:\n",
      "Split the training data into train,validation,test"
     ]
    },
    {
     "cell_type": "code",
     "collapsed": false,
     "input": [
      "from cs231n.classifier_trainer import ClassifierTrainer\n",
      "from cs231n.gradient_check import eval_numerical_gradient\n",
      "from cs231n.classifiers.convnet import *\n",
      "\n",
      "\n",
      "model = init_two_layer_convnet(input_shape=(3,48,48), num_classes = 121)\n",
      "trainer = ClassifierTrainer()\n",
      "best_model, loss_history, train_acc_history, val_acc_history = trainer.train(\n",
      "          X_train[:28300], y_train[:28300], X_val1, y_val1, model, two_layer_convnet,\n",
      "          reg=0.001, momentum=0.9, learning_rate=0.0001, batch_size=100, num_epochs=10,\n",
      "          verbose=True)\n",
      "\n"
     ],
     "language": "python",
     "metadata": {},
     "outputs": [
      {
       "output_type": "stream",
       "stream": "stdout",
       "text": [
        "starting iteration  0\n",
        "Finished epoch 0 / 10: cost 4.799003, train: 0.010000, val 0.007000, lr 1.000000e-04"
       ]
      },
      {
       "output_type": "stream",
       "stream": "stdout",
       "text": [
        "\n",
        "starting iteration "
       ]
      },
      {
       "output_type": "stream",
       "stream": "stdout",
       "text": [
        " 100\n",
        "starting iteration "
       ]
      },
      {
       "output_type": "stream",
       "stream": "stdout",
       "text": [
        " 200\n",
        "Finished epoch 1 / 10: cost 2.422819, train: 0.417000, val 0.378000, lr 9.500000e-05"
       ]
      },
      {
       "output_type": "stream",
       "stream": "stdout",
       "text": [
        "\n",
        "starting iteration "
       ]
      },
      {
       "output_type": "stream",
       "stream": "stdout",
       "text": [
        " 300\n",
        "starting iteration "
       ]
      },
      {
       "output_type": "stream",
       "stream": "stdout",
       "text": [
        " 400\n",
        "starting iteration "
       ]
      },
      {
       "output_type": "stream",
       "stream": "stdout",
       "text": [
        " 500\n",
        "Finished epoch 2 / 10: cost 1.952485, train: 0.479000, val 0.400000, lr 9.025000e-05"
       ]
      },
      {
       "output_type": "stream",
       "stream": "stdout",
       "text": [
        "\n",
        "starting iteration "
       ]
      },
      {
       "output_type": "stream",
       "stream": "stdout",
       "text": [
        " 600\n",
        "starting iteration "
       ]
      },
      {
       "output_type": "stream",
       "stream": "stdout",
       "text": [
        " 700\n",
        "starting iteration "
       ]
      },
      {
       "output_type": "stream",
       "stream": "stdout",
       "text": [
        " 800\n",
        "Finished epoch 3 / 10: cost 1.820580, train: 0.566000, val 0.429000, lr 8.573750e-05"
       ]
      },
      {
       "output_type": "stream",
       "stream": "stdout",
       "text": [
        "\n",
        "starting iteration "
       ]
      },
      {
       "output_type": "stream",
       "stream": "stdout",
       "text": [
        " 900\n",
        "starting iteration "
       ]
      },
      {
       "output_type": "stream",
       "stream": "stdout",
       "text": [
        " 1000\n",
        "starting iteration "
       ]
      },
      {
       "output_type": "stream",
       "stream": "stdout",
       "text": [
        " 1100\n",
        "Finished epoch 4 / 10: cost 1.627597, train: 0.584000, val 0.419000, lr 8.145062e-05"
       ]
      },
      {
       "output_type": "stream",
       "stream": "stdout",
       "text": [
        "\n",
        "starting iteration "
       ]
      },
      {
       "output_type": "stream",
       "stream": "stdout",
       "text": [
        " 1200\n",
        "starting iteration "
       ]
      },
      {
       "output_type": "stream",
       "stream": "stdout",
       "text": [
        " 1300\n",
        "starting iteration "
       ]
      },
      {
       "output_type": "stream",
       "stream": "stdout",
       "text": [
        " 1400\n",
        "Finished epoch 5 / 10: cost 1.208897, train: 0.633000, val 0.462000, lr 7.737809e-05"
       ]
      },
      {
       "output_type": "stream",
       "stream": "stdout",
       "text": [
        "\n",
        "starting iteration "
       ]
      },
      {
       "output_type": "stream",
       "stream": "stdout",
       "text": [
        " 1500\n",
        "starting iteration "
       ]
      },
      {
       "output_type": "stream",
       "stream": "stdout",
       "text": [
        " 1600\n",
        "Finished epoch 6 / 10: cost 1.647019, train: 0.646000, val 0.446000, lr 7.350919e-05"
       ]
      },
      {
       "output_type": "stream",
       "stream": "stdout",
       "text": [
        "\n",
        "starting iteration "
       ]
      },
      {
       "output_type": "stream",
       "stream": "stdout",
       "text": [
        " 1700\n",
        "starting iteration "
       ]
      },
      {
       "output_type": "stream",
       "stream": "stdout",
       "text": [
        " 1800\n",
        "starting iteration "
       ]
      },
      {
       "output_type": "stream",
       "stream": "stdout",
       "text": [
        " 1900\n",
        "Finished epoch 7 / 10: cost 0.954136, train: 0.666000, val 0.449000, lr 6.983373e-05"
       ]
      },
      {
       "output_type": "stream",
       "stream": "stdout",
       "text": [
        "\n",
        "starting iteration "
       ]
      },
      {
       "output_type": "stream",
       "stream": "stdout",
       "text": [
        " 2000\n",
        "starting iteration "
       ]
      },
      {
       "output_type": "stream",
       "stream": "stdout",
       "text": [
        " 2100\n",
        "starting iteration "
       ]
      },
      {
       "output_type": "stream",
       "stream": "stdout",
       "text": [
        " 2200\n",
        "Finished epoch 8 / 10: cost 1.004807, train: 0.723000, val 0.471000, lr 6.634204e-05"
       ]
      },
      {
       "output_type": "stream",
       "stream": "stdout",
       "text": [
        "\n",
        "starting iteration "
       ]
      },
      {
       "output_type": "stream",
       "stream": "stdout",
       "text": [
        " 2300\n",
        "starting iteration "
       ]
      },
      {
       "output_type": "stream",
       "stream": "stdout",
       "text": [
        " 2400\n",
        "starting iteration "
       ]
      },
      {
       "output_type": "stream",
       "stream": "stdout",
       "text": [
        " 2500\n",
        "Finished epoch 9 / 10: cost 0.874827, train: 0.724000, val 0.476000, lr 6.302494e-05"
       ]
      },
      {
       "output_type": "stream",
       "stream": "stdout",
       "text": [
        "\n",
        "starting iteration "
       ]
      },
      {
       "output_type": "stream",
       "stream": "stdout",
       "text": [
        " 2600\n",
        "starting iteration "
       ]
      },
      {
       "output_type": "stream",
       "stream": "stdout",
       "text": [
        " 2700\n",
        "starting iteration "
       ]
      },
      {
       "output_type": "stream",
       "stream": "stdout",
       "text": [
        " 2800\n",
        "Finished epoch 10 / 10: cost 0.781389, train: 0.741000, val 0.462000, lr 5.987369e-05"
       ]
      },
      {
       "output_type": "stream",
       "stream": "stdout",
       "text": [
        "\n",
        "finished optimization. best validation accuracy: 0.476000\n"
       ]
      }
     ],
     "prompt_number": 14
    },
    {
     "cell_type": "code",
     "collapsed": false,
     "input": [
      "#Store various best models\n",
      "best_two_layer_model = best_model"
     ],
     "language": "python",
     "metadata": {},
     "outputs": [],
     "prompt_number": 9
    },
    {
     "cell_type": "markdown",
     "metadata": {},
     "source": [
      "Run the model above to get probabilities for each class on test dataset.\n",
      "Run it in batches to avoid crash of ipython\n"
     ]
    },
    {
     "cell_type": "code",
     "collapsed": false,
     "input": [
      "f = open('test_probs1.csv', 'w')\n",
      "class_labels = \",\".join(class_names)\n",
      "class_labels = \"images,\" + class_labels\n",
      "f.write(class_labels + \"\\n\")\n",
      "\n",
      "chunk_size = 1000\n",
      "num_test_samples = X_test.shape[0]\n",
      "for index_start in np.arange(0, num_test_samples, chunk_size):\n",
      "    scores = two_layer_convnet(X_test[index_start : min(index_start + chunk_size, num_test_samples)], best_model)\n",
      "    exp_scores = np.exp(scores)\n",
      "    sum_scores = np.sum(exp_scores, axis=1)\n",
      "    probs = (exp_scores.T / sum_scores).T\n",
      "    #predicted_classes = np.argmax(probs, axis=1)\n",
      "    #max_probs = np.max(probs, axis = 1)\n",
      "    #print np.mean(predicted_classes == y_val2)\n",
      "    for i in xrange(probs.shape[0]):\n",
      "        prob_string = [\"%.8f\" % number for number in probs[i]]\n",
      "        f.write(img_files[index_start + i] + \",\" + \",\".join(prob_string) + \"\\n\")\n",
      "    print \"Processed test images from {} to {}\".format(index_start,  min(index_start + chunk_size, num_test_samples))\n",
      "f.close()\n"
     ],
     "language": "python",
     "metadata": {},
     "outputs": [
      {
       "output_type": "stream",
       "stream": "stdout",
       "text": [
        "Processed test images from 0 to 1000\n",
        "Processed test images from 1000 to 2000"
       ]
      },
      {
       "output_type": "stream",
       "stream": "stdout",
       "text": [
        "\n",
        "Processed test images from 2000 to 3000"
       ]
      },
      {
       "output_type": "stream",
       "stream": "stdout",
       "text": [
        "\n",
        "Processed test images from 3000 to 4000"
       ]
      },
      {
       "output_type": "stream",
       "stream": "stdout",
       "text": [
        "\n",
        "Processed test images from 4000 to 5000"
       ]
      },
      {
       "output_type": "stream",
       "stream": "stdout",
       "text": [
        "\n",
        "Processed test images from 5000 to 6000"
       ]
      },
      {
       "output_type": "stream",
       "stream": "stdout",
       "text": [
        "\n",
        "Processed test images from 6000 to 7000"
       ]
      },
      {
       "output_type": "stream",
       "stream": "stdout",
       "text": [
        "\n",
        "Processed test images from 7000 to 8000"
       ]
      },
      {
       "output_type": "stream",
       "stream": "stdout",
       "text": [
        "\n",
        "Processed test images from 8000 to 9000"
       ]
      },
      {
       "output_type": "stream",
       "stream": "stdout",
       "text": [
        "\n",
        "Processed test images from 9000 to 10000"
       ]
      },
      {
       "output_type": "stream",
       "stream": "stdout",
       "text": [
        "\n",
        "Processed test images from 10000 to 11000"
       ]
      },
      {
       "output_type": "stream",
       "stream": "stdout",
       "text": [
        "\n",
        "Processed test images from 11000 to 12000"
       ]
      },
      {
       "output_type": "stream",
       "stream": "stdout",
       "text": [
        "\n",
        "Processed test images from 12000 to 13000"
       ]
      },
      {
       "output_type": "stream",
       "stream": "stdout",
       "text": [
        "\n",
        "Processed test images from 13000 to 14000"
       ]
      },
      {
       "output_type": "stream",
       "stream": "stdout",
       "text": [
        "\n",
        "Processed test images from 14000 to 15000"
       ]
      },
      {
       "output_type": "stream",
       "stream": "stdout",
       "text": [
        "\n",
        "Processed test images from 15000 to 16000"
       ]
      },
      {
       "output_type": "stream",
       "stream": "stdout",
       "text": [
        "\n",
        "Processed test images from 16000 to 17000"
       ]
      },
      {
       "output_type": "stream",
       "stream": "stdout",
       "text": [
        "\n",
        "Processed test images from 17000 to 18000"
       ]
      },
      {
       "output_type": "stream",
       "stream": "stdout",
       "text": [
        "\n",
        "Processed test images from 18000 to 19000"
       ]
      },
      {
       "output_type": "stream",
       "stream": "stdout",
       "text": [
        "\n",
        "Processed test images from 19000 to 20000"
       ]
      },
      {
       "output_type": "stream",
       "stream": "stdout",
       "text": [
        "\n",
        "Processed test images from 20000 to 21000"
       ]
      },
      {
       "output_type": "stream",
       "stream": "stdout",
       "text": [
        "\n",
        "Processed test images from 21000 to 22000"
       ]
      },
      {
       "output_type": "stream",
       "stream": "stdout",
       "text": [
        "\n",
        "Processed test images from 22000 to 23000"
       ]
      },
      {
       "output_type": "stream",
       "stream": "stdout",
       "text": [
        "\n",
        "Processed test images from 23000 to 24000"
       ]
      },
      {
       "output_type": "stream",
       "stream": "stdout",
       "text": [
        "\n",
        "Processed test images from 24000 to 25000"
       ]
      },
      {
       "output_type": "stream",
       "stream": "stdout",
       "text": [
        "\n",
        "Processed test images from 25000 to 26000"
       ]
      },
      {
       "output_type": "stream",
       "stream": "stdout",
       "text": [
        "\n",
        "Processed test images from 26000 to 27000"
       ]
      },
      {
       "output_type": "stream",
       "stream": "stdout",
       "text": [
        "\n",
        "Processed test images from 27000 to 28000"
       ]
      },
      {
       "output_type": "stream",
       "stream": "stdout",
       "text": [
        "\n",
        "Processed test images from 28000 to 29000"
       ]
      },
      {
       "output_type": "stream",
       "stream": "stdout",
       "text": [
        "\n",
        "Processed test images from 29000 to 30000"
       ]
      },
      {
       "output_type": "stream",
       "stream": "stdout",
       "text": [
        "\n",
        "Processed test images from 30000 to 31000"
       ]
      },
      {
       "output_type": "stream",
       "stream": "stdout",
       "text": [
        "\n",
        "Processed test images from 31000 to 32000"
       ]
      },
      {
       "output_type": "stream",
       "stream": "stdout",
       "text": [
        "\n",
        "Processed test images from 32000 to 33000"
       ]
      },
      {
       "output_type": "stream",
       "stream": "stdout",
       "text": [
        "\n",
        "Processed test images from 33000 to 34000"
       ]
      },
      {
       "output_type": "stream",
       "stream": "stdout",
       "text": [
        "\n",
        "Processed test images from 34000 to 35000"
       ]
      },
      {
       "output_type": "stream",
       "stream": "stdout",
       "text": [
        "\n",
        "Processed test images from 35000 to 36000"
       ]
      },
      {
       "output_type": "stream",
       "stream": "stdout",
       "text": [
        "\n",
        "Processed test images from 36000 to 37000"
       ]
      },
      {
       "output_type": "stream",
       "stream": "stdout",
       "text": [
        "\n",
        "Processed test images from 37000 to 38000"
       ]
      },
      {
       "output_type": "stream",
       "stream": "stdout",
       "text": [
        "\n",
        "Processed test images from 38000 to 39000"
       ]
      },
      {
       "output_type": "stream",
       "stream": "stdout",
       "text": [
        "\n",
        "Processed test images from 39000 to 40000"
       ]
      },
      {
       "output_type": "stream",
       "stream": "stdout",
       "text": [
        "\n",
        "Processed test images from 40000 to 41000"
       ]
      },
      {
       "output_type": "stream",
       "stream": "stdout",
       "text": [
        "\n",
        "Processed test images from 41000 to 42000"
       ]
      },
      {
       "output_type": "stream",
       "stream": "stdout",
       "text": [
        "\n",
        "Processed test images from 42000 to 43000"
       ]
      },
      {
       "output_type": "stream",
       "stream": "stdout",
       "text": [
        "\n",
        "Processed test images from 43000 to 44000"
       ]
      },
      {
       "output_type": "stream",
       "stream": "stdout",
       "text": [
        "\n",
        "Processed test images from 44000 to 45000"
       ]
      },
      {
       "output_type": "stream",
       "stream": "stdout",
       "text": [
        "\n",
        "Processed test images from 45000 to 46000"
       ]
      },
      {
       "output_type": "stream",
       "stream": "stdout",
       "text": [
        "\n",
        "Processed test images from 46000 to 47000"
       ]
      },
      {
       "output_type": "stream",
       "stream": "stdout",
       "text": [
        "\n",
        "Processed test images from 47000 to 48000"
       ]
      },
      {
       "output_type": "stream",
       "stream": "stdout",
       "text": [
        "\n",
        "Processed test images from 48000 to 49000"
       ]
      },
      {
       "output_type": "stream",
       "stream": "stdout",
       "text": [
        "\n",
        "Processed test images from 49000 to 50000"
       ]
      },
      {
       "output_type": "stream",
       "stream": "stdout",
       "text": [
        "\n",
        "Processed test images from 50000 to 51000"
       ]
      },
      {
       "output_type": "stream",
       "stream": "stdout",
       "text": [
        "\n",
        "Processed test images from 51000 to 52000"
       ]
      },
      {
       "output_type": "stream",
       "stream": "stdout",
       "text": [
        "\n",
        "Processed test images from 52000 to 53000"
       ]
      },
      {
       "output_type": "stream",
       "stream": "stdout",
       "text": [
        "\n",
        "Processed test images from 53000 to 54000"
       ]
      },
      {
       "output_type": "stream",
       "stream": "stdout",
       "text": [
        "\n",
        "Processed test images from 54000 to 55000"
       ]
      },
      {
       "output_type": "stream",
       "stream": "stdout",
       "text": [
        "\n",
        "Processed test images from 55000 to 56000"
       ]
      },
      {
       "output_type": "stream",
       "stream": "stdout",
       "text": [
        "\n",
        "Processed test images from 56000 to 57000"
       ]
      },
      {
       "output_type": "stream",
       "stream": "stdout",
       "text": [
        "\n",
        "Processed test images from 57000 to 58000"
       ]
      },
      {
       "output_type": "stream",
       "stream": "stdout",
       "text": [
        "\n",
        "Processed test images from 58000 to 59000"
       ]
      },
      {
       "output_type": "stream",
       "stream": "stdout",
       "text": [
        "\n",
        "Processed test images from 59000 to 60000"
       ]
      },
      {
       "output_type": "stream",
       "stream": "stdout",
       "text": [
        "\n",
        "Processed test images from 60000 to 61000"
       ]
      },
      {
       "output_type": "stream",
       "stream": "stdout",
       "text": [
        "\n",
        "Processed test images from 61000 to 62000"
       ]
      },
      {
       "output_type": "stream",
       "stream": "stdout",
       "text": [
        "\n",
        "Processed test images from 62000 to 63000"
       ]
      },
      {
       "output_type": "stream",
       "stream": "stdout",
       "text": [
        "\n",
        "Processed test images from 63000 to 64000"
       ]
      },
      {
       "output_type": "stream",
       "stream": "stdout",
       "text": [
        "\n",
        "Processed test images from 64000 to 65000"
       ]
      },
      {
       "output_type": "stream",
       "stream": "stdout",
       "text": [
        "\n",
        "Processed test images from 65000 to 66000"
       ]
      },
      {
       "output_type": "stream",
       "stream": "stdout",
       "text": [
        "\n",
        "Processed test images from 66000 to 67000"
       ]
      },
      {
       "output_type": "stream",
       "stream": "stdout",
       "text": [
        "\n",
        "Processed test images from 67000 to 68000"
       ]
      },
      {
       "output_type": "stream",
       "stream": "stdout",
       "text": [
        "\n",
        "Processed test images from 68000 to 69000"
       ]
      },
      {
       "output_type": "stream",
       "stream": "stdout",
       "text": [
        "\n",
        "Processed test images from 69000 to 70000"
       ]
      },
      {
       "output_type": "stream",
       "stream": "stdout",
       "text": [
        "\n",
        "Processed test images from 70000 to 71000"
       ]
      },
      {
       "output_type": "stream",
       "stream": "stdout",
       "text": [
        "\n",
        "Processed test images from 71000 to 72000"
       ]
      },
      {
       "output_type": "stream",
       "stream": "stdout",
       "text": [
        "\n",
        "Processed test images from 72000 to 73000"
       ]
      },
      {
       "output_type": "stream",
       "stream": "stdout",
       "text": [
        "\n",
        "Processed test images from 73000 to 74000"
       ]
      },
      {
       "output_type": "stream",
       "stream": "stdout",
       "text": [
        "\n",
        "Processed test images from 74000 to 75000"
       ]
      },
      {
       "output_type": "stream",
       "stream": "stdout",
       "text": [
        "\n",
        "Processed test images from 75000 to 76000"
       ]
      },
      {
       "output_type": "stream",
       "stream": "stdout",
       "text": [
        "\n",
        "Processed test images from 76000 to 77000"
       ]
      },
      {
       "output_type": "stream",
       "stream": "stdout",
       "text": [
        "\n",
        "Processed test images from 77000 to 78000"
       ]
      },
      {
       "output_type": "stream",
       "stream": "stdout",
       "text": [
        "\n",
        "Processed test images from 78000 to 79000"
       ]
      },
      {
       "output_type": "stream",
       "stream": "stdout",
       "text": [
        "\n",
        "Processed test images from 79000 to 80000"
       ]
      },
      {
       "output_type": "stream",
       "stream": "stdout",
       "text": [
        "\n",
        "Processed test images from 80000 to 81000"
       ]
      },
      {
       "output_type": "stream",
       "stream": "stdout",
       "text": [
        "\n",
        "Processed test images from 81000 to 82000"
       ]
      },
      {
       "output_type": "stream",
       "stream": "stdout",
       "text": [
        "\n",
        "Processed test images from 82000 to 83000"
       ]
      },
      {
       "output_type": "stream",
       "stream": "stdout",
       "text": [
        "\n",
        "Processed test images from 83000 to 84000"
       ]
      },
      {
       "output_type": "stream",
       "stream": "stdout",
       "text": [
        "\n",
        "Processed test images from 84000 to 85000"
       ]
      },
      {
       "output_type": "stream",
       "stream": "stdout",
       "text": [
        "\n",
        "Processed test images from 85000 to 86000"
       ]
      },
      {
       "output_type": "stream",
       "stream": "stdout",
       "text": [
        "\n",
        "Processed test images from 86000 to 87000"
       ]
      },
      {
       "output_type": "stream",
       "stream": "stdout",
       "text": [
        "\n",
        "Processed test images from 87000 to 88000"
       ]
      },
      {
       "output_type": "stream",
       "stream": "stdout",
       "text": [
        "\n",
        "Processed test images from 88000 to 89000"
       ]
      },
      {
       "output_type": "stream",
       "stream": "stdout",
       "text": [
        "\n",
        "Processed test images from 89000 to 90000"
       ]
      },
      {
       "output_type": "stream",
       "stream": "stdout",
       "text": [
        "\n",
        "Processed test images from 90000 to 91000"
       ]
      },
      {
       "output_type": "stream",
       "stream": "stdout",
       "text": [
        "\n",
        "Processed test images from 91000 to 92000"
       ]
      },
      {
       "output_type": "stream",
       "stream": "stdout",
       "text": [
        "\n",
        "Processed test images from 92000 to 93000"
       ]
      },
      {
       "output_type": "stream",
       "stream": "stdout",
       "text": [
        "\n",
        "Processed test images from 93000 to 94000"
       ]
      },
      {
       "output_type": "stream",
       "stream": "stdout",
       "text": [
        "\n",
        "Processed test images from 94000 to 95000"
       ]
      },
      {
       "output_type": "stream",
       "stream": "stdout",
       "text": [
        "\n",
        "Processed test images from 95000 to 96000"
       ]
      },
      {
       "output_type": "stream",
       "stream": "stdout",
       "text": [
        "\n",
        "Processed test images from 96000 to 97000"
       ]
      },
      {
       "output_type": "stream",
       "stream": "stdout",
       "text": [
        "\n",
        "Processed test images from 97000 to 98000"
       ]
      },
      {
       "output_type": "stream",
       "stream": "stdout",
       "text": [
        "\n",
        "Processed test images from 98000 to 99000"
       ]
      },
      {
       "output_type": "stream",
       "stream": "stdout",
       "text": [
        "\n",
        "Processed test images from 99000 to 100000"
       ]
      },
      {
       "output_type": "stream",
       "stream": "stdout",
       "text": [
        "\n",
        "Processed test images from 100000 to 101000"
       ]
      },
      {
       "output_type": "stream",
       "stream": "stdout",
       "text": [
        "\n",
        "Processed test images from 101000 to 102000"
       ]
      },
      {
       "output_type": "stream",
       "stream": "stdout",
       "text": [
        "\n",
        "Processed test images from 102000 to 103000"
       ]
      },
      {
       "output_type": "stream",
       "stream": "stdout",
       "text": [
        "\n",
        "Processed test images from 103000 to 104000"
       ]
      },
      {
       "output_type": "stream",
       "stream": "stdout",
       "text": [
        "\n",
        "Processed test images from 104000 to 105000"
       ]
      },
      {
       "output_type": "stream",
       "stream": "stdout",
       "text": [
        "\n",
        "Processed test images from 105000 to 106000"
       ]
      },
      {
       "output_type": "stream",
       "stream": "stdout",
       "text": [
        "\n",
        "Processed test images from 106000 to 107000"
       ]
      },
      {
       "output_type": "stream",
       "stream": "stdout",
       "text": [
        "\n",
        "Processed test images from 107000 to 108000"
       ]
      },
      {
       "output_type": "stream",
       "stream": "stdout",
       "text": [
        "\n",
        "Processed test images from 108000 to 109000"
       ]
      },
      {
       "output_type": "stream",
       "stream": "stdout",
       "text": [
        "\n",
        "Processed test images from 109000 to 110000"
       ]
      },
      {
       "output_type": "stream",
       "stream": "stdout",
       "text": [
        "\n",
        "Processed test images from 110000 to 111000"
       ]
      },
      {
       "output_type": "stream",
       "stream": "stdout",
       "text": [
        "\n",
        "Processed test images from 111000 to 112000"
       ]
      },
      {
       "output_type": "stream",
       "stream": "stdout",
       "text": [
        "\n",
        "Processed test images from 112000 to 113000"
       ]
      },
      {
       "output_type": "stream",
       "stream": "stdout",
       "text": [
        "\n",
        "Processed test images from 113000 to 114000"
       ]
      },
      {
       "output_type": "stream",
       "stream": "stdout",
       "text": [
        "\n",
        "Processed test images from 114000 to 115000"
       ]
      },
      {
       "output_type": "stream",
       "stream": "stdout",
       "text": [
        "\n",
        "Processed test images from 115000 to 116000"
       ]
      },
      {
       "output_type": "stream",
       "stream": "stdout",
       "text": [
        "\n",
        "Processed test images from 116000 to 117000"
       ]
      },
      {
       "output_type": "stream",
       "stream": "stdout",
       "text": [
        "\n",
        "Processed test images from 117000 to 118000"
       ]
      },
      {
       "output_type": "stream",
       "stream": "stdout",
       "text": [
        "\n",
        "Processed test images from 118000 to 119000"
       ]
      },
      {
       "output_type": "stream",
       "stream": "stdout",
       "text": [
        "\n",
        "Processed test images from 119000 to 120000"
       ]
      },
      {
       "output_type": "stream",
       "stream": "stdout",
       "text": [
        "\n",
        "Processed test images from 120000 to 121000"
       ]
      },
      {
       "output_type": "stream",
       "stream": "stdout",
       "text": [
        "\n",
        "Processed test images from 121000 to 122000"
       ]
      },
      {
       "output_type": "stream",
       "stream": "stdout",
       "text": [
        "\n",
        "Processed test images from 122000 to 123000"
       ]
      },
      {
       "output_type": "stream",
       "stream": "stdout",
       "text": [
        "\n",
        "Processed test images from 123000 to 124000"
       ]
      },
      {
       "output_type": "stream",
       "stream": "stdout",
       "text": [
        "\n",
        "Processed test images from 124000 to 125000"
       ]
      },
      {
       "output_type": "stream",
       "stream": "stdout",
       "text": [
        "\n",
        "Processed test images from 125000 to 126000"
       ]
      },
      {
       "output_type": "stream",
       "stream": "stdout",
       "text": [
        "\n",
        "Processed test images from 126000 to 127000"
       ]
      },
      {
       "output_type": "stream",
       "stream": "stdout",
       "text": [
        "\n",
        "Processed test images from 127000 to 128000"
       ]
      },
      {
       "output_type": "stream",
       "stream": "stdout",
       "text": [
        "\n",
        "Processed test images from 128000 to 129000"
       ]
      },
      {
       "output_type": "stream",
       "stream": "stdout",
       "text": [
        "\n",
        "Processed test images from 129000 to 130000"
       ]
      },
      {
       "output_type": "stream",
       "stream": "stdout",
       "text": [
        "\n",
        "Processed test images from 130000 to 130400"
       ]
      },
      {
       "output_type": "stream",
       "stream": "stdout",
       "text": [
        "\n"
       ]
      }
     ],
     "prompt_number": 13
    },
    {
     "cell_type": "markdown",
     "metadata": {},
     "source": [
      "# Extract features\n",
      "ConvNets tend to learn generalizable high-level image features.\n",
      "Use features got from previous model and combine features fetched from alexnet or bvlcc_reference model and train the SVM on top of it.\n"
     ]
    },
    {
     "cell_type": "code",
     "collapsed": false,
     "input": [
      "from cs231n.classifiers.convnet import five_layer_convnet\n",
      "\n",
      "# These should store extracted features for the training and validation sets\n",
      "# respectively.\n",
      "#\n",
      "# More concretely, X_train_feats should be an array of shape\n",
      "# (X_train.shape[0], 512) where X_train_feats[i] is the 512-dimensional\n",
      "# feature vector extracted from X_train[i] using model.\n",
      "#\n",
      "# Similarly X_val_feats should have shape (X_val.shape[0], 512) and\n",
      "# X_val_feats[i] should be the 512-dimensional feature vector extracted from\n",
      "# X_val[i] using model.\n",
      "X_train_feats = None\n",
      "X_val_feats = None\n",
      "\n",
      "# Use our pre-trained model to extract features on the subsampled training set\n",
      "# and the validation set.\n",
      "\n",
      "################################################################################\n",
      "# TODO: Use the pretrained model to extract features for the training and      #\n",
      "# validation sets for TinyImageNet-100-B.                                      #\n",
      "#                                                                              #\n",
      "# HINT: Similar to computing probabilities in the previous exercise, you       #\n",
      "# should split the training and validation sets into small batches to avoid    #\n",
      "# using absurd amounts of memory.                                              #\n",
      "################################################################################\n",
      "chunk_size = 500\n",
      "\n",
      "result = None\n",
      "for index_start in np.arange(0, X_train.shape[0], chunk_size):\n",
      "    current_result = five_layer_convnet(X_train[index_start:index_start + chunk_size], model, extract_features=True)\n",
      "    if result is None:\n",
      "        result = current_result\n",
      "    else:\n",
      "        result = np.vstack((result, current_result))\n",
      "    print \"Extracted features for {} images starting from {}\".format(chunk_size, index_start)\n",
      "X_train_feats = result\n",
      "print X_train_feats.shape\n",
      "\n",
      "result = None\n",
      "for index_start in np.arange(0, X_val.shape[0], chunk_size):\n",
      "    current_result = five_layer_convnet(X_val[index_start:index_start + chunk_size], model, extract_features=True)\n",
      "    if result is None:\n",
      "        result = current_result\n",
      "    else:\n",
      "        result = np.vstack((result, current_result))\n",
      "    print \"Extracted features for {} images starting from {}\".format(chunk_size, index_start)\n",
      "X_val_feats = result\n",
      "print X_val_feats.shape\n",
      "print X_train_feats.shape\n",
      "pass\n",
      "################################################################################\n",
      "#                            END OF YOUR CODE                                  #\n",
      "################################################################################   "
     ],
     "language": "python",
     "metadata": {},
     "outputs": [
      {
       "ename": "NameError",
       "evalue": "name 'np' is not defined",
       "output_type": "pyerr",
       "traceback": [
        "\u001b[0;31m---------------------------------------------------------------------------\u001b[0m\n\u001b[0;31mNameError\u001b[0m                                 Traceback (most recent call last)",
        "\u001b[0;32m<ipython-input-1-4e81493bf5c8>\u001b[0m in \u001b[0;36m<module>\u001b[0;34m()\u001b[0m\n\u001b[1;32m     28\u001b[0m \u001b[0;34m\u001b[0m\u001b[0m\n\u001b[1;32m     29\u001b[0m \u001b[0mresult\u001b[0m \u001b[0;34m=\u001b[0m \u001b[0mNone\u001b[0m\u001b[0;34m\u001b[0m\u001b[0m\n\u001b[0;32m---> 30\u001b[0;31m \u001b[0;32mfor\u001b[0m \u001b[0mindex_start\u001b[0m \u001b[0;32min\u001b[0m \u001b[0mnp\u001b[0m\u001b[0;34m.\u001b[0m\u001b[0marange\u001b[0m\u001b[0;34m(\u001b[0m\u001b[0;36m0\u001b[0m\u001b[0;34m,\u001b[0m \u001b[0mX_train\u001b[0m\u001b[0;34m.\u001b[0m\u001b[0mshape\u001b[0m\u001b[0;34m[\u001b[0m\u001b[0;36m0\u001b[0m\u001b[0;34m]\u001b[0m\u001b[0;34m,\u001b[0m \u001b[0mchunk_size\u001b[0m\u001b[0;34m)\u001b[0m\u001b[0;34m:\u001b[0m\u001b[0;34m\u001b[0m\u001b[0m\n\u001b[0m\u001b[1;32m     31\u001b[0m     \u001b[0mcurrent_result\u001b[0m \u001b[0;34m=\u001b[0m \u001b[0mfive_layer_convnet\u001b[0m\u001b[0;34m(\u001b[0m\u001b[0mX_train\u001b[0m\u001b[0;34m[\u001b[0m\u001b[0mindex_start\u001b[0m\u001b[0;34m:\u001b[0m\u001b[0mindex_start\u001b[0m \u001b[0;34m+\u001b[0m \u001b[0mchunk_size\u001b[0m\u001b[0;34m]\u001b[0m\u001b[0;34m,\u001b[0m \u001b[0mmodel\u001b[0m\u001b[0;34m,\u001b[0m \u001b[0mextract_features\u001b[0m\u001b[0;34m=\u001b[0m\u001b[0mTrue\u001b[0m\u001b[0;34m)\u001b[0m\u001b[0;34m\u001b[0m\u001b[0m\n\u001b[1;32m     32\u001b[0m     \u001b[0;32mif\u001b[0m \u001b[0mresult\u001b[0m \u001b[0;32mis\u001b[0m \u001b[0mNone\u001b[0m\u001b[0;34m:\u001b[0m\u001b[0;34m\u001b[0m\u001b[0m\n",
        "\u001b[0;31mNameError\u001b[0m: name 'np' is not defined"
       ]
      }
     ],
     "prompt_number": 1
    },
    {
     "cell_type": "markdown",
     "metadata": {},
     "source": [
      "# kNN with ConvNet features\n",
      "A simple way to implement transfer learning is to use a k-nearest neighborhood classifier. However instead of computing the distance between images using their pixel values as we did in Assignment 1, we will instead say that the distance between a pair of images is equal to the L2 distance between their feature vectors extracted using our pretrained ConvNet.\n",
      "\n",
      "Implement this idea in the cell below. You can use the `KNearestNeighbor` class in the file `cs321n/classifiers/k_nearest_neighbor.py`."
     ]
    },
    {
     "cell_type": "code",
     "collapsed": false,
     "input": [
      "from cs231n.classifiers.k_nearest_neighbor import KNearestNeighbor\n",
      "\n",
      "# Predicted labels for X_val using a k-nearest-neighbor classifier trained on\n",
      "# the features extracted from X_train. knn_y_val_pred[i] = c indicates that\n",
      "# the kNN classifier predicts that X_val[i] has label c.\n",
      "knn_y_val_pred = None\n",
      "knn = KNearestNeighbor()\n",
      "knn.train(X_train_feats, y_train)\n",
      "accuracy_list = []\n",
      "best_accuracy = 0\n",
      "best_k = 0\n",
      "for k in np.arange(1,101,1):\n",
      "    knn_y_val_pred = knn.predict(X_val_feats, k=k)\n",
      "    current_accuracy = np.mean(knn_y_val_pred == y_val)\n",
      "    if current_accuracy > best_accuracy:\n",
      "        best_accuracy = current_accuracy\n",
      "        best_k = k\n",
      "    accuracy_list.append(current_accuracy)\n",
      "print accuracy_list\n",
      "print \"Best accuracy for k {} is {}\".format(best_k, best_accuracy)\n",
      "\n",
      "################################################################################\n",
      "# TODO: Use a k-nearest neighbor classifier to compute knn_y_val_pred.         #\n",
      "# You may need to experiment with k to get the best performance.               #\n",
      "################################################################################\n",
      "pass\n",
      "################################################################################\n",
      "#                            END OF YOUR CODE                                  #\n",
      "################################################################################\n",
      "\n",
      "print 'Validation set accuracy: %f' % best_accuracy\n",
      "\n",
      "#Best k was reported to be k = 28"
     ],
     "language": "python",
     "metadata": {},
     "outputs": []
    },
    {
     "cell_type": "markdown",
     "metadata": {},
     "source": [
      "# Visualize neighbors\n",
      "Recall that the kNN classifier computes the distance between all of its training instances and all of its test instances. We can use this distance matrix to help understand what the ConvNet features care about; specifically, we can select several random images from the validation set and visualize their nearest neighbors in the training set.\n",
      "\n",
      "You will see that many times the nearest neighbors are quite far away from each other in pixel space; for example two images that show the same object from different perspectives may appear nearby in ConvNet feature space.\n",
      "\n",
      "Since the following cell selects random validation images, you can run it several times to get different results."
     ]
    },
    {
     "cell_type": "code",
     "collapsed": false,
     "input": [
      "dists = knn.compute_distances_no_loops(X_val_feats)\n",
      "\n",
      "num_imgs = 5\n",
      "neighbors_to_show = 6\n",
      "\n",
      "query_idxs = np.random.randint(X_val.shape[0], size=num_imgs)\n",
      "\n",
      "next_subplot = 1\n",
      "first_row = True\n",
      "for query_idx in query_idxs:\n",
      "    query_img = X_val[query_idx] + mean_img\n",
      "    query_img = query_img.transpose(1, 2, 0).astype('uint8')\n",
      "    plt.subplot(num_imgs, neighbors_to_show + 1, next_subplot)\n",
      "    plt.imshow(query_img)\n",
      "    plt.gca().axis('off')\n",
      "    if first_row:\n",
      "        plt.title('query')\n",
      "    next_subplot += 1\n",
      "    o = np.argsort(dists[query_idx])\n",
      "    for i in xrange(neighbors_to_show):            \n",
      "        img = X_train[o[i]] + mean_img\n",
      "        img = img.transpose(1, 2, 0).astype('uint8')\n",
      "        plt.subplot(num_imgs, neighbors_to_show + 1, next_subplot)\n",
      "        plt.imshow(img)\n",
      "        plt.gca().axis('off')\n",
      "        if first_row:\n",
      "            plt.title('neighbor %d' % (i + 1))\n",
      "        next_subplot += 1\n",
      "    first_row = False\n",
      "    "
     ],
     "language": "python",
     "metadata": {},
     "outputs": []
    },
    {
     "cell_type": "markdown",
     "metadata": {},
     "source": [
      "# Softmax on ConvNet features\n",
      "Another way to implement transfer learning is to train a linear classifier on top of the features extracted from our pretrained ConvNet.\n",
      "\n",
      "In the cell below, train a softmax classifier on the features extracted from the training set of TinyImageNet-100-B and use this classifier to predict on the validation set for TinyImageNet-100-B. You can use the `Softmax` class in the file `cs231n/classifiers/linear_classifier.py`."
     ]
    },
    {
     "cell_type": "code",
     "collapsed": false,
     "input": [
      "from cs231n.classifiers.linear_classifier import Softmax\n",
      "\n",
      "softmax_y_train_pred = None\n",
      "softmax_y_val_pred = None\n",
      "\n",
      "################################################################################\n",
      "# TODO: Train a softmax classifier to predict a TinyImageNet-100-B class from  #\n",
      "# features extracted from our pretrained ConvNet. Use this classifier to make  #\n",
      "# predictions for the TinyImageNet-100-B training and validation sets, and     #\n",
      "# store them in softmax_y_train_pred and softmax_y_val_pred.                   #\n",
      "#                                                                              #\n",
      "# You may need to experiment with number of iterations, regularization, and    #\n",
      "# learning rate in order to get good performance. The softmax classifier       #\n",
      "# should achieve a higher validation accuracy than the kNN classifier.         #\n",
      "################################################################################\n",
      "lr_list = [1e-5, 1e-4, 1e-3]\n",
      "reg_list = [1e-5, 1e-4, 1e-3]\n",
      "best_val_acc = 0\n",
      "best_train_acc = 0\n",
      "best_lr = 0\n",
      "best_reg = 0\n",
      "for lr in lr_list:\n",
      "    for reg in reg_list:\n",
      "        softmax = Softmax()\n",
      "        softmax.train(X_train_feats.T, y_train, )\n",
      "        softmax_y_train_pred = softmax.predict(X_train_feats.T)\n",
      "        softmax_y_val_pred = softmax.predict(X_val_feats.T)\n",
      "        train_acc = np.mean(y_train == softmax_y_train_pred)\n",
      "        val_acc = np.mean(softmax_y_val_pred == y_val)\n",
      "        print \"lr {} reg {} train_acc {} val_acc {}\".format(lr,reg,train_acc,val_acc)\n",
      "        if val_acc > best_val_acc:\n",
      "            best_train_acc = train_acc\n",
      "            best_val_acc = val_acc\n",
      "            best_lr = lr\n",
      "            best_reg = reg\n",
      "print best_val_acc, best_train_acc, best_lr, best_reg"
     ],
     "language": "python",
     "metadata": {},
     "outputs": []
    },
    {
     "cell_type": "markdown",
     "metadata": {},
     "source": [
      "# Fine-tuning\n",
      "We can improve our classification results on TinyImageNet-100-B further by fine-tuning our ConvNet. In other words, we will train a new ConvNet with the same architecture as our pretrained model, and use the weights of the pretrained model as an initialization to our new model.\n",
      "\n",
      "Usually when fine-tuning you would re-initialize the weights of the final affine layer randomly, but in this case we will initialize the weights of the final affine layer using the weights of the trained softmax classifier from above.\n",
      "\n",
      "In the cell below, use fine-tuning to improve your classification performance on TinyImageNet-100-B. You should be able to outperform the softmax classifier from above using fewer than 5 epochs over the training data.\n",
      "\n",
      "You will need to adjust the learning rate and regularization to achieve good fine-tuning results."
     ]
    },
    {
     "cell_type": "code",
     "collapsed": false,
     "input": [
      "from cs231n.classifier_trainer import ClassifierTrainer\n",
      "\n",
      "# Make a copy of the pretrained model\n",
      "model_copy = {k: v.copy() for k, v in model.iteritems()}\n",
      "\n",
      "# Initialize the weights of the last affine layer using the trained weights from\n",
      "# the softmax classifier above\n",
      "model_copy['W5'] = softmax.W.T.copy().astype(model_copy['W5'].dtype)\n",
      "model_copy['b5'] = np.zeros_like(model_copy['b5'])\n",
      "\n",
      "# Fine-tune the model. You will need to adjust the training parameters to get good results.\n",
      "trainer = ClassifierTrainer()\n",
      "learning_rate = 5e-4\n",
      "reg = 1e-2\n",
      "dropout = 0.5\n",
      "num_epochs = 5\n",
      "finetuned_model = trainer.train(X_train, y_train, X_val, y_val,\n",
      "                                model_copy, five_layer_convnet,\n",
      "                                learning_rate=learning_rate, reg=reg, update='rmsprop',\n",
      "                                dropout=dropout, num_epochs=num_epochs, verbose=True)[0]"
     ],
     "language": "python",
     "metadata": {},
     "outputs": []
    },
    {
     "cell_type": "code",
     "collapsed": false,
     "input": [],
     "language": "python",
     "metadata": {},
     "outputs": []
    }
   ],
   "metadata": {}
  }
 ]
}