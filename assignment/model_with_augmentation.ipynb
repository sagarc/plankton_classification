{
 "metadata": {
  "name": "",
  "signature": "sha256:f2dbf2f37a89144712e714b98e19141f2bbe04294747a1100af204ec206abc86"
 },
 "nbformat": 3,
 "nbformat_minor": 0,
 "worksheets": [
  {
   "cells": [
    {
     "cell_type": "markdown",
     "metadata": {},
     "source": [
      "# Plankton Dataset\n",
      "In Part 1) we will train best CNN  for plankton dataset.\n",
      "In Part 2) we will use featues from our CNN combined with features got from running the alexnet, bvlcc net on images and train linear classifier on top of it.\n"
     ]
    },
    {
     "cell_type": "code",
     "collapsed": false,
     "input": [
      "# A bit of setup\n",
      "\n",
      "import numpy as np\n",
      "import matplotlib.pyplot as plt\n",
      "from time import time\n",
      "\n",
      "%matplotlib inline\n",
      "plt.rcParams['figure.figsize'] = (20.0, 20.0) # set default size of plots\n",
      "plt.rcParams['image.interpolation'] = 'nearest'\n",
      "plt.rcParams['image.cmap'] = 'gray'\n",
      "\n",
      "# for auto-reloading extenrnal modules\n",
      "# see http://stackoverflow.com/questions/1907993/autoreload-of-modules-in-ipython\n",
      "%load_ext autoreload\n",
      "%autoreload 2"
     ],
     "language": "python",
     "metadata": {},
     "outputs": [],
     "prompt_number": 2
    },
    {
     "cell_type": "markdown",
     "metadata": {},
     "source": [
      "# Load data and model\n",
      "The images in plankton are of different sizes and hence every image is resized to 48 * 48 using 'convert utility in imagemagick'\n",
      "Since test datasets doesn't have labels provided, training datasets are split into three categories of train, valid1, and valid2 datasets\n"
     ]
    },
    {
     "cell_type": "code",
     "collapsed": false,
     "input": [
      "# Load the plankton dataset\n",
      "from cs231n.data_utils import load_plankton_dataset, load_models\n",
      "\n",
      "plankton_dataset = '../plankton'\n",
      "image_size = 48 #number of pixels (Image was resized to this)\n",
      "num_classes = 121\n",
      "        \n",
      "class_names, X_train, y_train, X_test, img_files, image_mapping = load_plankton_dataset(plankton_dataset)\n",
      "\n",
      "# Zero-mean the data\n",
      "print X_train.shape\n",
      "print y_train.shape\n",
      "print X_test.shape\n",
      "mean_img = np.mean(X_train, axis=0)\n",
      "X_train -= mean_img\n",
      "X_test -= mean_img\n"
     ],
     "language": "python",
     "metadata": {},
     "outputs": [
      {
       "output_type": "stream",
       "stream": "stdout",
       "text": [
        "loading training data for synset 20 / 121\n",
        "loading training data for synset 40 / 121"
       ]
      },
      {
       "output_type": "stream",
       "stream": "stdout",
       "text": [
        "\n",
        "loading training data for synset 60 / 121"
       ]
      },
      {
       "output_type": "stream",
       "stream": "stdout",
       "text": [
        "\n",
        "loading training data for synset 80 / 121"
       ]
      },
      {
       "output_type": "stream",
       "stream": "stdout",
       "text": [
        "\n",
        "loading training data for synset 100 / 121"
       ]
      },
      {
       "output_type": "stream",
       "stream": "stdout",
       "text": [
        "\n",
        "loading training data for synset 120 / 121"
       ]
      },
      {
       "output_type": "stream",
       "stream": "stdout",
       "text": [
        "\n",
        "[  0   0   0 ..., 120 120 120]"
       ]
      },
      {
       "output_type": "stream",
       "stream": "stdout",
       "text": [
        "\n",
        "(30336, 3, 48, 48)"
       ]
      },
      {
       "output_type": "stream",
       "stream": "stdout",
       "text": [
        "\n",
        "(30336,)\n",
        "(130400, 3, 48, 48)\n"
       ]
      }
     ],
     "prompt_number": 3
    },
    {
     "cell_type": "code",
     "collapsed": false,
     "input": [
      "# Shuffle the input and outputs\n",
      "\n",
      "from cs231n.data_augmentation import *\n",
      "\n",
      "num_examples = X_train.shape[0]\n",
      "print num_examples\n",
      "y_train = y_train.reshape([y_train.shape[0],1])\n",
      "print y_train.shape\n",
      "X_train_joined = X_train.reshape(num_examples, -1)\n",
      "X_train_joined = np.hstack([X_train_joined, y_train])\n",
      "\n",
      "# Its important to shuffle the data to mix the images from different classes.\n",
      "np.random.shuffle(X_train_joined)\n",
      "\n",
      "X_train = X_train_joined[:,0:-1].reshape(num_examples, 3, image_size, image_size)\n",
      "print X_train.shape\n",
      "y_train = X_train_joined[:, -1]\n",
      "print y_train.shape\n",
      "\n",
      "X_train_orig = np.copy(X_train)\n",
      "y_train_orig = np.copy(y_train)"
     ],
     "language": "python",
     "metadata": {},
     "outputs": [
      {
       "output_type": "stream",
       "stream": "stdout",
       "text": [
        "30336\n",
        "(30336, 1)\n",
        "(30336, 3, 48, 48)"
       ]
      },
      {
       "output_type": "stream",
       "stream": "stdout",
       "text": [
        "\n",
        "(30336,)\n"
       ]
      }
     ],
     "prompt_number": 4
    },
    {
     "cell_type": "code",
     "collapsed": false,
     "input": [
      "# important to reset X_train and y_train before augmenting with rotations\n",
      "# 1) Add some random rotations\n",
      "# 2) Add some gradient change\n",
      "# 3) Consider adding HOG features here\n",
      "X_train = np.copy(X_train_orig)\n",
      "y_train = np.copy(y_train_orig)\n",
      "\n",
      "X_rot, mask_rot = random_rotate(X_train)\n",
      "X_rot_masked = X_rot[mask_rot]\n",
      "y_rot = y_train[mask_rot]\n",
      "# # print X_rot_masked.shape\n",
      "# # print y_rot.shape\n",
      "\n",
      "X_contrast, mask_contrast = random_contrast(X_train)\n",
      "X_contrast_masked = X_rot[mask_contrast]\n",
      "y_contrast = y_train[mask_contrast]\n",
      "\n",
      "X_train = np.concatenate((X_train, X_rot_masked, X_contrast_masked))\n",
      "y_train = np.concatenate((y_train, y_rot, y_contrast))\n",
      "\n",
      "print 'X_train', X_train.shape\n",
      "print 'y_train',y_train.shape\n",
      "\n",
      "\n"
     ],
     "language": "python",
     "metadata": {},
     "outputs": [
      {
       "output_type": "stream",
       "stream": "stdout",
       "text": [
        "X_train (51449, 3, 48, 48)\n",
        "y_train (51449,)\n"
       ]
      }
     ],
     "prompt_number": 5
    },
    {
     "cell_type": "code",
     "collapsed": false,
     "input": [
      "num_valid1=5000 #Chosen so that its about 15% data\n",
      "\n",
      "num_training=X_train.shape[0] - num_valid1\n",
      "\n",
      "# Subsample the data\n",
      "mask = range(num_training, num_training + num_valid1)\n",
      "X_val1 = X_train[mask]\n",
      "y_val1 = y_train[mask]\n",
      "\n",
      "mask = range(num_training)\n",
      "X_train = X_train[mask]\n",
      "y_train = y_train[mask]\n",
      "\n",
      "print X_train.shape\n",
      "print y_train.shape\n",
      "print X_val1.shape\n",
      "print y_val1.shape"
     ],
     "language": "python",
     "metadata": {},
     "outputs": [
      {
       "output_type": "stream",
       "stream": "stdout",
       "text": [
        "(46449, 3, 48, 48)\n",
        "(46449,)\n",
        "(5000, 3, 48, 48)\n",
        "(5000,)\n"
       ]
      }
     ],
     "prompt_number": 6
    },
    {
     "cell_type": "code",
     "collapsed": false,
     "input": [
      "# Print class names from plankton dataset\n",
      "for names in class_names:\n",
      "    print names\n",
      "   "
     ],
     "language": "python",
     "metadata": {},
     "outputs": [
      {
       "output_type": "stream",
       "stream": "stdout",
       "text": [
        "acantharia_protist\n",
        "acantharia_protist_big_center\n",
        "acantharia_protist_halo\n",
        "amphipods\n",
        "appendicularian_fritillaridae\n",
        "appendicularian_s_shape\n",
        "appendicularian_slight_curve\n",
        "appendicularian_straight\n",
        "artifacts\n",
        "artifacts_edge\n",
        "chaetognath_non_sagitta\n",
        "chaetognath_other\n",
        "chaetognath_sagitta\n",
        "chordate_type1\n",
        "copepod_calanoid\n",
        "copepod_calanoid_eggs\n",
        "copepod_calanoid_eucalanus\n",
        "copepod_calanoid_flatheads\n",
        "copepod_calanoid_frillyAntennae\n",
        "copepod_calanoid_large\n",
        "copepod_calanoid_large_side_antennatucked\n",
        "copepod_calanoid_octomoms\n",
        "copepod_calanoid_small_longantennae\n",
        "copepod_cyclopoid_copilia\n",
        "copepod_cyclopoid_oithona\n",
        "copepod_cyclopoid_oithona_eggs\n",
        "copepod_other\n",
        "crustacean_other\n",
        "ctenophore_cestid\n",
        "ctenophore_cydippid_no_tentacles\n",
        "ctenophore_cydippid_tentacles\n",
        "ctenophore_lobate\n",
        "decapods\n",
        "detritus_blob\n",
        "detritus_filamentous\n",
        "detritus_other\n",
        "diatom_chain_string\n",
        "diatom_chain_tube\n",
        "echinoderm_larva_pluteus_brittlestar\n",
        "echinoderm_larva_pluteus_early\n",
        "echinoderm_larva_pluteus_typeC\n",
        "echinoderm_larva_pluteus_urchin\n",
        "echinoderm_larva_seastar_bipinnaria\n",
        "echinoderm_larva_seastar_brachiolaria\n",
        "echinoderm_seacucumber_auricularia_larva\n",
        "echinopluteus\n",
        "ephyra\n",
        "euphausiids\n",
        "euphausiids_young\n",
        "fecal_pellet\n",
        "fish_larvae_deep_body\n",
        "fish_larvae_leptocephali\n",
        "fish_larvae_medium_body\n",
        "fish_larvae_myctophids\n",
        "fish_larvae_thin_body\n",
        "fish_larvae_very_thin_body\n",
        "heteropod\n",
        "hydromedusae_aglaura\n",
        "hydromedusae_bell_and_tentacles\n",
        "hydromedusae_h15\n",
        "hydromedusae_haliscera\n",
        "hydromedusae_haliscera_small_sideview\n",
        "hydromedusae_liriope\n",
        "hydromedusae_narco_dark\n",
        "hydromedusae_narco_young\n",
        "hydromedusae_narcomedusae\n",
        "hydromedusae_other\n",
        "hydromedusae_partial_dark\n",
        "hydromedusae_shapeA\n",
        "hydromedusae_shapeA_sideview_small\n",
        "hydromedusae_shapeB\n",
        "hydromedusae_sideview_big\n",
        "hydromedusae_solmaris\n",
        "hydromedusae_solmundella\n",
        "hydromedusae_typeD\n",
        "hydromedusae_typeD_bell_and_tentacles\n",
        "hydromedusae_typeE\n",
        "hydromedusae_typeF\n",
        "invertebrate_larvae_other_A\n",
        "invertebrate_larvae_other_B\n",
        "jellies_tentacles\n",
        "polychaete\n",
        "protist_dark_center\n",
        "protist_fuzzy_olive\n",
        "protist_noctiluca\n",
        "protist_other\n",
        "protist_star\n",
        "pteropod_butterfly\n",
        "pteropod_theco_dev_seq\n",
        "pteropod_triangle\n",
        "radiolarian_chain\n",
        "radiolarian_colony\n",
        "shrimp-like_other\n",
        "shrimp_caridean\n",
        "shrimp_sergestidae\n",
        "shrimp_zoea\n",
        "siphonophore_calycophoran_abylidae\n",
        "siphonophore_calycophoran_rocketship_adult\n",
        "siphonophore_calycophoran_rocketship_young\n",
        "siphonophore_calycophoran_sphaeronectes\n",
        "siphonophore_calycophoran_sphaeronectes_stem\n",
        "siphonophore_calycophoran_sphaeronectes_young\n",
        "siphonophore_other_parts\n",
        "siphonophore_partial\n",
        "siphonophore_physonect\n",
        "siphonophore_physonect_young\n",
        "stomatopod\n",
        "tornaria_acorn_worm_larvae\n",
        "trichodesmium_bowtie\n",
        "trichodesmium_multiple\n",
        "trichodesmium_puff\n",
        "trichodesmium_tuft\n",
        "trochophore_larvae\n",
        "tunicate_doliolid\n",
        "tunicate_doliolid_nurse\n",
        "tunicate_partial\n",
        "tunicate_salp\n",
        "tunicate_salp_chains\n",
        "unknown_blobs_and_smudges\n",
        "unknown_sticks\n",
        "unknown_unclassified\n"
       ]
      }
     ],
     "prompt_number": 7
    },
    {
     "cell_type": "markdown",
     "metadata": {},
     "source": [
      "# Visualize Examples\n"
     ]
    },
    {
     "cell_type": "code",
     "collapsed": false,
     "input": [
      "# Visualize some examples of the training data\n",
      "classes_to_show = 7\n",
      "examples_per_class = 5\n",
      "\n",
      "class_idxs = np.random.choice(len(class_names), size=classes_to_show, replace=False)\n",
      "for i, class_idx in enumerate(class_idxs):\n",
      "    train_idxs, = np.nonzero(y_train == class_idx)\n",
      "    train_idxs = np.random.choice(train_idxs, size=examples_per_class, replace=False)\n",
      "    for j, train_idx in enumerate(train_idxs):\n",
      "        img = X_train[train_idx] + mean_img\n",
      "        img = img.transpose(1, 2, 0).astype('uint8')\n",
      "        plt.subplot(examples_per_class, classes_to_show, 1 + i + classes_to_show * j)\n",
      "        if j == 0:\n",
      "            plt.title(class_names[class_idx])\n",
      "        plt.imshow(img)\n",
      "        plt.gca().axis('off')\n",
      "\n",
      "plt.show()"
     ],
     "language": "python",
     "metadata": {},
     "outputs": [
      {
       "metadata": {},
       "output_type": "display_data",
       "png": "[encoded data removed]",
       "text": [
        "<matplotlib.figure.Figure at 0x11d6f3d10>"
       ]
      }
     ],
     "prompt_number": 7
    },
    {
     "cell_type": "markdown",
     "metadata": {},
     "source": [
      "Training!\n",
      "\n",
      "Train your own convnet here! Use layers available in assignment 2:\n",
      "Split the training data into train,validation,test"
     ]
    },
    {
     "cell_type": "code",
     "collapsed": false,
     "input": [
      "from cs231n.classifier_trainer import ClassifierTrainer\n",
      "from cs231n.gradient_check import eval_numerical_gradient\n",
      "from cs231n.classifiers.convnet import *\n",
      "\n",
      "\"\"\"\n",
      "model2 = init_two_layer_convnet(input_shape=(3,48,48), num_classes = 121)\n",
      "trainer = ClassifierTrainer()\n",
      "best_model2, loss_history2, train_acc_history2, val_acc_history2, val_loss2 = trainer.train(\n",
      "          X_train[:28300], y_train[:28300], X_val1, y_val1, model2, two_layer_convnet,\n",
      "          reg=0.001, momentum=0.9, learning_rate=0.00005, batch_size=100, num_epochs=5, dropout = 0.5,\n",
      "          verbose=True)\n",
      "\n",
      "\n",
      "\n",
      "model3 = init_three_layer_convnet(input_shape=(3,48,48), num_classes = 121)\n",
      "trainer = ClassifierTrainer()\n",
      "best_model3, loss_history3, train_acc_history3, val_acc_history3, val_loss3 = trainer.train(\n",
      "          X_train[:28300], y_train[:28300], X_val1, y_val1, model, three_layer_convnet,\n",
      "          reg=0.001, momentum=0.9, learning_rate=0.0005, batch_size=100, num_epochs=5, dropout = 0.5,\n",
      "          verbose=True)\n",
      "\"\"\"\n",
      "\n",
      "model5 = init_five_layer_convnet(input_shape=(3,48,48), num_classes = 121)\n",
      "trainer = ClassifierTrainer()\n",
      "best_model5, loss_history5, train_acc_history5, val_acc_history5, val_loss5 = trainer.train(\n",
      "          X_train[:28300], y_train[:28300], X_val1, y_val1, model5, five_layer_convnet,\n",
      "          reg=0.001, momentum=0.9, learning_rate=0.005, batch_size=100, num_epochs=3, dropout = 0.8,\n",
      "          verbose=True)\n",
      "\n",
      "          \n",
      "\"\"\"model7 = init_seven_layer_convnet(input_shape=(3,48,48), num_classes = 121)\n",
      "trainer = ClassifierTrainer()\n",
      "best_model7, loss_history7, train_acc_history7, val_acc_history7, val_loss7 = trainer.train(\n",
      "          X_train[:28300], y_train[:28300], X_val1, y_val1, model7, seven_layer_convnet,\n",
      "          reg=0.001, momentum=0.9, learning_rate=0.005, batch_size=100, num_epochs=3, dropout = 0.8,\n",
      "          verbose=True)\"\"\"\n",
      "\n",
      "\n",
      "\n"
     ],
     "language": "python",
     "metadata": {},
     "outputs": []
    },
    {
     "cell_type": "code",
     "collapsed": false,
     "input": [
      "#do more iterations on best model\n",
      "\n",
      "\n",
      "best_model5, loss_history5, train_acc_history5, val_acc_history5, val_loss5 = trainer.train(\n",
      "          X_train[:28300], y_train[:28300], X_val1, y_val1, best_model7, seven_layer_convnet,\n",
      "          reg=0.001, momentum=0.9, learning_rate=0.005, batch_size=100, num_epochs=3, dropout = 0.8,\n",
      "          verbose=True)\n",
      "\n",
      "best_model7, loss_history7, train_acc_history7, val_acc_history7, val_loss7 = trainer.train(\n",
      "          X_train[:28300], y_train[:28300], X_val1, y_val1, best_model7, seven_layer_convnet,\n",
      "          reg=0.001, momentum=0.9, learning_rate=0.005, batch_size=100, num_epochs=3, dropout = 0.5,\n",
      "          verbose=True)\n",
      "\n"
     ],
     "language": "python",
     "metadata": {},
     "outputs": []
    },
    {
     "cell_type": "code",
     "collapsed": false,
     "input": [
      "\"\"\"np.save('/Users/sagarc/Documents/cs231n/project/assignment/models/7layer_model_parameters', \n",
      "        {'best_model':best_model7,'loss_history': loss_history7, \n",
      "         'train_acc_history' : train_acc_history7,'val_acc_history' : val_acc_history7})\n",
      "\"\"\"\n",
      "#Store various best models\n",
      "#best_two_layer_model = best_model\n",
      "#1.73236844909\n",
      "#1.46958901064\n",
      "from cs231n.classifier_trainer import ClassifierTrainer\n",
      "from cs231n.gradient_check import eval_numerical_gradient\n",
      "from cs231n.classifiers.convnet import *\n",
      "#best_five_layer_model = np.load('/Users/sagarc/Documents/cs231n/project/assignment/models/model1.npy')\n",
      "#print best_five_layer_model.dtype\n",
      "#print type(best_five_layer_model)\n",
      "#print best_five_layer_model\n",
      "#Get the softmax loss on valid_set.\n",
      "loss = three_layer_convnet(X_val1, best_model3, y_val1, return_loss=True)\n",
      "print loss\n",
      "loss = three_layer_convnet(X_val2, best_model3, y_val2, return_loss=True)\n",
      "print loss\n"
     ],
     "language": "python",
     "metadata": {},
     "outputs": []
    },
    {
     "cell_type": "heading",
     "level": 2,
     "metadata": {},
     "source": [
      "Run the model above to get probabilities for each class on test dataset.\n",
      "Run it in batches to avoid crash of ipython\n"
     ]
    },
    {
     "cell_type": "code",
     "collapsed": false,
     "input": [
      "f = open('test_probs6.csv', 'w')\n",
      "class_labels = \",\".join(class_names)\n",
      "class_labels = \"image,\" + class_labels\n",
      "f.write(class_labels + \"\\n\")\n",
      "\n",
      "chunk_size = 2000\n",
      "num_test_samples = X_test.shape[0]\n",
      "for index_start in np.arange(0, num_test_samples, chunk_size):\n",
      "    scores = five_layer_convnet(X_test[index_start : min(index_start + chunk_size, num_test_samples)], best_model)\n",
      "    exp_scores = np.exp(scores)\n",
      "    sum_scores = np.sum(exp_scores, axis=1)\n",
      "    probs = (exp_scores.T / sum_scores).T\n",
      "    #predicted_classes = np.argmax(probs, axis=1)\n",
      "    #max_probs = np.max(probs, axis = 1)\n",
      "    #print np.mean(predicted_classes == y_val2)\n",
      "    for i in xrange(probs.shape[0]):\n",
      "        prob_string = [\"%.8f\" % number for number in probs[i]]\n",
      "        f.write(img_files[index_start + i] + \",\" + \",\".join(prob_string) + \"\\n\")\n",
      "    print \"Processed test images from {} to {}\".format(index_start,  min(index_start + chunk_size, num_test_samples))\n",
      "f.close()\n"
     ],
     "language": "python",
     "metadata": {},
     "outputs": []
    },
    {
     "cell_type": "markdown",
     "metadata": {},
     "source": [
      "# Extract features\n",
      "ConvNets tend to learn generalizable high-level image features.\n",
      "Use features got from previous model and combine features fetched from alexnet or bvlcc_reference model and train the SVM on top of it.\n"
     ]
    },
    {
     "cell_type": "code",
     "collapsed": false,
     "input": [
      "# Extract features on training and validation set for 3 or 5-layer convnet // Replace everything by 3 or 5\n",
      "\n",
      "from cs231n.classifiers.convnet import five_layer_convnet\n",
      "\n",
      "X_train_feats3 = None\n",
      "chunk_size = 500\n",
      "\n",
      "result = None\n",
      "for index_start in np.arange(0, X_train.shape[0], chunk_size):\n",
      "    current_result = three_layer_convnet(X_train[index_start:min(index_start + chunk_size, X_train.shape[0])], best_model3, \n",
      "                                                                extract_features=True)\n",
      "    if result is None:\n",
      "        result = current_result\n",
      "    else:\n",
      "        result = np.vstack((result, current_result))\n",
      "    print \"Extracted features for {} images starting from {}\".format(chunk_size, index_start)\n",
      "X_train_feats3 = result\n",
      "\n",
      "X_val1_feats3 = three_layer_convnet(X_val1, best_model3, extract_features=True)\n",
      "X_val2_feats3 = three_layer_convnet(X_val2, best_model3, extract_features=True)\n",
      "    \n",
      "print X_val1_feats3.shape\n",
      "print X_val2_feats3.shape\n",
      "print X_train_feats3.shape"
     ],
     "language": "python",
     "metadata": {},
     "outputs": []
    },
    {
     "cell_type": "code",
     "collapsed": false,
     "input": [
      "# Extract features on training and validation set for 7-layer convnet\n",
      "from cs231n.classifiers.convnet import five_layer_convnet\n",
      "\n",
      "X_train_feats7 = None\n",
      "chunk_size = 500\n",
      "\n",
      "result = None\n",
      "for index_start in np.arange(0, X_train.shape[0], chunk_size):\n",
      "    current_result = seven_layer_convnet(X_train[index_start:min(index_start + chunk_size, X_train.shape[0])], best_model7, \n",
      "                                                                extract_features=True)\n",
      "    if result is None:\n",
      "        result = current_result\n",
      "    else:\n",
      "        result = np.vstack((result, current_result))\n",
      "    print \"Extracted features for {} images starting from {}\".format(chunk_size, index_start)\n",
      "X_train_feats7 = result\n",
      "\n",
      "X_val1_feats7 = seven_layer_convnet(X_val1, best_model7, extract_features=True)\n",
      "X_val2_feats7 = seven_layer_convnet(X_val2, best_model7, extract_features=True)\n",
      "    \n",
      "print X_val1_feats7.shape\n",
      "print X_val2_feats7.shape\n",
      "print X_train_feats7.shape"
     ],
     "language": "python",
     "metadata": {},
     "outputs": []
    },
    {
     "cell_type": "markdown",
     "metadata": {},
     "source": [
      "# Softmax on ConvNet features\n",
      "Another way to implement transfer learning is to train a linear classifier on top of the features extracted from our pretrained ConvNet.\n",
      "\n",
      "In the cell below, train a softmax classifier on the features extracted from the training set of TinyImageNet-100-B and use this classifier to predict on the validation set for TinyImageNet-100-B. You can use the `Softmax` class in the file `cs231n/classifiers/linear_classifier.py`."
     ]
    },
    {
     "cell_type": "code",
     "collapsed": false,
     "input": [
      "# Get features for X_test based on convnet models for 3 or 5 layers\n",
      "chunk_size = 2000\n",
      "\n",
      "result = None\n",
      "for index_start in np.arange(0, X_test.shape[0], chunk_size):\n",
      "    current_result = three_layer_convnet(X_test[index_start:min(index_start + chunk_size, X_test.shape[0])], best_model3, \n",
      "                                                                extract_features=True)\n",
      "    if result is None:\n",
      "        result = current_result\n",
      "    else:\n",
      "        result = np.vstack((result, current_result))\n",
      "    print \"Extracted features for {} images starting from {}\".format(chunk_size, index_start)\n",
      "X_test_feats3 = result\n",
      "print X_test_feats3.shape"
     ],
     "language": "python",
     "metadata": {},
     "outputs": []
    },
    {
     "cell_type": "code",
     "collapsed": false,
     "input": [
      "# Get features for X_test based on convnet models for 7 layers\n",
      "chunk_size = 2000\n",
      "\n",
      "result = None\n",
      "for index_start in np.arange(0, X_test.shape[0], chunk_size):\n",
      "    current_result = seven_layer_convnet(X_test[index_start:min(index_start + chunk_size, X_test.shape[0])], best_model7, \n",
      "                                                                extract_features=True)\n",
      "    if result is None:\n",
      "        result = current_result\n",
      "    else:\n",
      "        result = np.vstack((result, current_result))\n",
      "    print \"Extracted features for {} images starting from {}\".format(chunk_size, index_start)\n",
      "X_test_feats7 = result\n",
      "print X_test_feats7.shape"
     ],
     "language": "python",
     "metadata": {},
     "outputs": []
    },
    {
     "cell_type": "code",
     "collapsed": false,
     "input": [
      "#Try to do SVD on features\n",
      "np.save('/Users/sagarc/Documents/cs231n/project/plankton/3layer_features/X_train_3layer_conv_features', X_train_feats3)\n",
      "np.save('/Users/sagarc/Documents/cs231n/project/plankton/3layer_features/X_valid1_3layer_conv_features', X_val1_feats3)\n",
      "np.save('/Users/sagarc/Documents/cs231n/project/plankton/3layer_features/X_valid2_3layer_conv_features', X_val2_feats3)\n",
      "np.save('/Users/sagarc/Documents/cs231n/project/plankton/3layer_features/X_test_3layer_conv_features', X_test_feats3)\n",
      "#np.save('/Users/sagarc/Documents/cs231n/project/plankton/y_train', y_train)\n",
      "#np.save('/Users/sagarc/Documents/cs231n/project/plankton/y_valid1', y_val1)\n",
      "#np.save('/Users/sagarc/Documents/cs231n/project/plankton/y_valid2', y_val2)\n",
      "#np.save('/Users/sagarc/Documents/cs231n/project/plankton/5layer_image_index', image_index)\n",
      "#np.save('/Users/sagarc/Documents/cs231n/project/plankton/5layer_image_mapping', image_mapping)\n"
     ],
     "language": "python",
     "metadata": {},
     "outputs": []
    },
    {
     "cell_type": "code",
     "collapsed": false,
     "input": [
      "\n",
      "# =====================All Visulization goes here==================\n",
      "\n",
      "\n",
      "# Get number of images per class and visualize it.\n",
      "y_count = np.zeros(121)\n",
      "for label in y_train:\n",
      "    y_count[label]+=1\n",
      "print y_count\n",
      "plt.hist(y_train, 121, normed=1, facecolor='g', alpha=0.75)\n",
      "plt.show()\n",
      "\n",
      "sig_labels = {}\n",
      "count  = 0\n",
      "for i in range(y_count.shape[0]):\n",
      "    if y_count[i] > 500:\n",
      "        sig_labels[i] = count\n",
      "        count+= 1\n",
      "print sig_labels\n"
     ],
     "language": "python",
     "metadata": {},
     "outputs": []
    },
    {
     "cell_type": "code",
     "collapsed": false,
     "input": [
      "#Visualizations and scatter plots\n",
      "\n",
      "from cs231n.vis_utils import visualize_grid\n",
      "import matplotlib.pyplot as plt\n",
      "\n",
      "#grid = visualize_grid(best_softmax.W.transpose(0, 2, 3, 1))\n",
      "#plt.imshow(grid.astype('uint8'))\n",
      "\n",
      "probs = best_softmax.predict(X_train_feats.T, get_prob=True).T\n",
      "print probs.shape\n",
      "\n",
      "predicted_labels = np.argmax(probs, axis=1)\n",
      "\n",
      "num_classes = 16\n",
      "conf_arr = np.zeros([num_classes, num_classes])\n",
      "for i in xrange(0,probs.shape[0]):\n",
      "    if y_train[i] in sig_labels and predicted_labels[i] in sig_labels:\n",
      "        conf_arr[sig_labels[y_train[i]], sig_labels[predicted_labels[i]]] += 1\n",
      "    #conf_arr[y_train[i],predicted_labels[i]] += 1\n",
      "\n",
      "norm_conf = []\n",
      "for i in conf_arr:\n",
      "    a = 0\n",
      "    tmp_arr = []\n",
      "    a = sum(i, 0)\n",
      "    for j in i:\n",
      "        tmp_arr.append(float(j)/(float(a) + 0.0001))\n",
      "    norm_conf.append(tmp_arr)\n",
      "\n",
      "fig = plt.figure()\n",
      "plt.clf()\n",
      "ax = fig.add_subplot(111)\n",
      "ax.set_aspect(1)\n",
      "res = ax.imshow(np.array(norm_conf), cmap=plt.cm.jet, \n",
      "                interpolation='nearest')\n",
      "\n",
      "width = len(conf_arr)\n",
      "height = len(conf_arr[0])\n",
      "\n",
      "for x in xrange(width):\n",
      "    for y in xrange(height):\n",
      "        ax.annotate(str(conf_arr[x][y]), xy=(y, x), \n",
      "                    horizontalalignment='center',\n",
      "                    verticalalignment='center')\n",
      "\n",
      "cb = fig.colorbar(res)\n",
      "#alphabet = 'ABCDEFGHIJ'\n",
      "#plt.xticks(range(width), alphabet[:width])\n",
      "#plt.yticks(range(height), alphabet[:height])\n",
      "plt.show()\n",
      "\n",
      "#print \"A: airplane, B: automobile, C: bird, D: cat, E: deer, F: dog, G: frog, H: horse, I: ship, J: truck\"\n",
      "\n",
      "print 'Test accuracy: ', np.mean(predicted_labels == y_val1)"
     ],
     "language": "python",
     "metadata": {},
     "outputs": []
    },
    {
     "cell_type": "markdown",
     "metadata": {},
     "source": [
      "# Fine-tuning\n",
      "use features coming from bvlc_reference and improve the performance of model"
     ]
    },
    {
     "cell_type": "code",
     "collapsed": false,
     "input": [
      "# Get features computed by running this dataset under alexnet, \n",
      "# bvlcc and consolidate the features with features coming from self-trained convnets\n",
      "# Train the model later based on these featurse\n",
      "\n",
      "# Conclusion - no improvement seen (sparse features, image size resized from 48*48 to 256*256)\n",
      "from cs231n.classifier_trainer import ClassifierTrainer\n",
      "\n",
      "bvlc_features = np.load('/Users/sagarc/Documents/cs231n/project/plankton/256_X_train_features.npy')\n",
      "print bvlc_features.shape\n",
      "print X_train_feats.shape\n",
      "num_cnn_feature_size = X_train_feats.shape[1]\n",
      "num_bvlc_feature_size = bvlc_features.shape[1]\n",
      "\n",
      "X_consolidated_features = np.zeros([X_train_feats.shape[0],  num_cnn_feature_size + num_bvlc_feature_size])\n",
      "X_val1_consolidated_features = np.zeros([X_val1_feats.shape[0],  num_cnn_feature_size + num_bvlc_feature_size])\n",
      "X_val2_consolidated_features = np.zeros([X_val1_feats.shape[0],  num_cnn_feature_size + num_bvlc_feature_size])\n",
      "\n",
      "f = open('/Users/sagarc/Documents/cs231n/project/plankton/filenames.txt', 'r')\n",
      "#f = open('/Users/sagarc/Documents/cs231n/project/plankton/filenames.txt', 'r')\n",
      "\n",
      "file_to_index_seque = {}\n",
      "count = 0\n",
      "for line in f:\n",
      "    #print line\n",
      "    file_to_index_seque[line.split()[0]] = count\n",
      "    count+=1\n",
      "#print file_to_index_seque\n",
      "\n",
      "for i in xrange(0, X_train_feats.shape[0]):\n",
      "    X_cnn_file_index = image_index[i]\n",
      "    filename = image_mapping[X_cnn_file_index]\n",
      "    X_bvlc_file_index = file_to_index_seque[filename]\n",
      "    X_consolidated_features[i][num_cnn_feature_size:] = bvlc_features[X_bvlc_file_index]\n",
      "    X_consolidated_features[i][0:num_cnn_feature_size] = X_train_feats[i]\n",
      "\n",
      "for i in xrange(0, X_val1_feats.shape[0]):\n",
      "    X_cnn_file_index = image_index[i]\n",
      "    filename = image_mapping[X_cnn_file_index]\n",
      "    X_bvlc_file_index = file_to_index_seque[filename]\n",
      "    X_val1_consolidated_features[i][num_cnn_feature_size:] = bvlc_features[X_bvlc_file_index]\n",
      "    X_val1_consolidated_features[i][0:num_cnn_feature_size] = X_val1_feats[i]\n",
      "    \n",
      "for i in xrange(0, X_val2_feats.shape[0]):\n",
      "    X_cnn_file_index = image_index[i]\n",
      "    filename = image_mapping[X_cnn_file_index]\n",
      "    X_bvlc_file_index = file_to_index_seque[filename]\n",
      "    X_val2_consolidated_features[i][num_cnn_feature_size:] = bvlc_features[X_bvlc_file_index]\n",
      "    X_val2_consolidated_features[i][0:num_cnn_feature_size] = X_val2_feats[i]\n",
      "print X_consolidated_features.shape\n",
      "print X_val1_consolidated_features.shape\n",
      "print X_val2_consolidated_features.shape\n"
     ],
     "language": "python",
     "metadata": {},
     "outputs": []
    },
    {
     "cell_type": "code",
     "collapsed": false,
     "input": [],
     "language": "python",
     "metadata": {},
     "outputs": []
    }
   ],
   "metadata": {}
  }
 ]
}